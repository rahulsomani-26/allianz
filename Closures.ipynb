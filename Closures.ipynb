{
 "cells": [
  {
   "cell_type": "markdown",
   "id": "3068a89b",
   "metadata": {},
   "source": [
    "# Closures \n",
    "\n",
    "    - Closures returns a function \n",
    "    - There should be free variables in the functions( nested ) "
   ]
  },
  {
   "cell_type": "code",
   "execution_count": 1,
   "id": "87a50b90",
   "metadata": {},
   "outputs": [],
   "source": [
    "def outer():\n",
    "    x = 'python'\n",
    "    def inner():\n",
    "        print(x)\n",
    "    return inner "
   ]
  },
  {
   "cell_type": "code",
   "execution_count": 2,
   "id": "d45d5527",
   "metadata": {},
   "outputs": [],
   "source": [
    "fn = outer()"
   ]
  },
  {
   "cell_type": "code",
   "execution_count": 3,
   "id": "0957eb72",
   "metadata": {},
   "outputs": [
    {
     "data": {
      "text/plain": [
       "<function __main__.outer.<locals>.inner()>"
      ]
     },
     "execution_count": 3,
     "metadata": {},
     "output_type": "execute_result"
    }
   ],
   "source": [
    "fn"
   ]
  },
  {
   "cell_type": "code",
   "execution_count": 5,
   "id": "5bec54c5",
   "metadata": {},
   "outputs": [
    {
     "data": {
      "text/plain": [
       "('x',)"
      ]
     },
     "execution_count": 5,
     "metadata": {},
     "output_type": "execute_result"
    }
   ],
   "source": [
    "fn.__code__.co_freevars"
   ]
  },
  {
   "cell_type": "code",
   "execution_count": 6,
   "id": "4f951358",
   "metadata": {},
   "outputs": [
    {
     "data": {
      "text/plain": [
       "(<cell at 0x00000190A10E58A0: str object at 0x000001909EE83E30>,)"
      ]
     },
     "execution_count": 6,
     "metadata": {},
     "output_type": "execute_result"
    }
   ],
   "source": [
    "fn.__closure__"
   ]
  },
  {
   "cell_type": "code",
   "execution_count": 8,
   "id": "6d851055",
   "metadata": {},
   "outputs": [
    {
     "name": "stdout",
     "output_type": "stream",
     "text": [
      "['__class__', '__delattr__', '__dir__', '__doc__', '__eq__', '__format__', '__ge__', '__getattribute__', '__gt__', '__hash__', '__init__', '__init_subclass__', '__le__', '__lt__', '__ne__', '__new__', '__reduce__', '__reduce_ex__', '__repr__', '__setattr__', '__sizeof__', '__str__', '__subclasshook__', 'co_argcount', 'co_cellvars', 'co_code', 'co_consts', 'co_filename', 'co_firstlineno', 'co_flags', 'co_freevars', 'co_kwonlyargcount', 'co_lines', 'co_linetable', 'co_lnotab', 'co_name', 'co_names', 'co_nlocals', 'co_posonlyargcount', 'co_stacksize', 'co_varnames', 'replace']\n"
     ]
    }
   ],
   "source": [
    "print(dir(fn.__code__))"
   ]
  },
  {
   "cell_type": "code",
   "execution_count": 30,
   "id": "e7d5294d",
   "metadata": {},
   "outputs": [],
   "source": [
    "def outer():\n",
    "    \"\"\"Understanding Closures\"\"\"\n",
    "    val=[100,200,300,400]\n",
    "    print(\"outer : {} \".format(hex(id(val))))\n",
    "    def inner():\n",
    "        print(\"inner : {} \".format(hex(id(val))))\n",
    "        print(val)\n",
    "    return inner "
   ]
  },
  {
   "cell_type": "code",
   "execution_count": 31,
   "id": "292075d2",
   "metadata": {},
   "outputs": [
    {
     "name": "stdout",
     "output_type": "stream",
     "text": [
      "outer : 0x190a2bcfbc0 \n"
     ]
    }
   ],
   "source": [
    "outer()"
   ]
  },
  {
   "cell_type": "code",
   "execution_count": 26,
   "id": "c5b22274",
   "metadata": {},
   "outputs": [
    {
     "name": "stdout",
     "output_type": "stream",
     "text": [
      "inner : 0x190a2c48b00 \n",
      "[100, 200, 300, 400]\n"
     ]
    }
   ],
   "source": [
    "fn()"
   ]
  },
  {
   "cell_type": "code",
   "execution_count": 14,
   "id": "e2525396",
   "metadata": {},
   "outputs": [
    {
     "data": {
      "text/plain": [
       "(<cell at 0x00000190A23C00A0: list object at 0x00000190A2C10080>,)"
      ]
     },
     "execution_count": 14,
     "metadata": {},
     "output_type": "execute_result"
    }
   ],
   "source": [
    "fn.__closure__"
   ]
  },
  {
   "cell_type": "code",
   "execution_count": 15,
   "id": "35214c10",
   "metadata": {},
   "outputs": [
    {
     "data": {
      "text/plain": [
       "('val',)"
      ]
     },
     "execution_count": 15,
     "metadata": {},
     "output_type": "execute_result"
    }
   ],
   "source": [
    "fn.__code__.co_freevars"
   ]
  },
  {
   "cell_type": "code",
   "execution_count": 27,
   "id": "2af17ccd",
   "metadata": {},
   "outputs": [],
   "source": [
    "fn = lambda :\"hello world\""
   ]
  },
  {
   "cell_type": "code",
   "execution_count": 28,
   "id": "61f8ff35",
   "metadata": {},
   "outputs": [
    {
     "data": {
      "text/plain": [
       "'hello world'"
      ]
     },
     "execution_count": 28,
     "metadata": {},
     "output_type": "execute_result"
    }
   ],
   "source": [
    "fn()"
   ]
  },
  {
   "cell_type": "code",
   "execution_count": 32,
   "id": "ea151a42",
   "metadata": {},
   "outputs": [],
   "source": [
    "def adder(m):\n",
    "    def inner(n):\n",
    "        return m+n\n",
    "    return inner "
   ]
  },
  {
   "cell_type": "code",
   "execution_count": 33,
   "id": "cc9e7039",
   "metadata": {},
   "outputs": [],
   "source": [
    "a1 = adder(10)\n",
    "a2 = adder(20)\n",
    "a3 = adder(30)"
   ]
  },
  {
   "cell_type": "code",
   "execution_count": 34,
   "id": "b3c1ea0f",
   "metadata": {},
   "outputs": [
    {
     "data": {
      "text/plain": [
       "<function __main__.adder.<locals>.inner(n)>"
      ]
     },
     "execution_count": 34,
     "metadata": {},
     "output_type": "execute_result"
    }
   ],
   "source": [
    "a1"
   ]
  },
  {
   "cell_type": "code",
   "execution_count": 36,
   "id": "cb7d78f2",
   "metadata": {},
   "outputs": [
    {
     "data": {
      "text/plain": [
       "(20, 20, 20)"
      ]
     },
     "execution_count": 36,
     "metadata": {},
     "output_type": "execute_result"
    }
   ],
   "source": [
    "a1(10), a2(0), a3(-10)"
   ]
  },
  {
   "cell_type": "code",
   "execution_count": 38,
   "id": "36f1333c",
   "metadata": {},
   "outputs": [
    {
     "data": {
      "text/plain": [
       "((<cell at 0x00000190A10E5210: int object at 0x000001909C440210>,),\n",
       " (<cell at 0x00000190A10E5FC0: int object at 0x000001909C440350>,),\n",
       " (<cell at 0x00000190A10E4670: int object at 0x000001909C440490>,))"
      ]
     },
     "execution_count": 38,
     "metadata": {},
     "output_type": "execute_result"
    }
   ],
   "source": [
    "a1.__closure__, a2.__closure__, a3.__closure__"
   ]
  },
  {
   "cell_type": "code",
   "execution_count": 39,
   "id": "cd56cc6c",
   "metadata": {},
   "outputs": [
    {
     "data": {
      "text/plain": [
       "('m',)"
      ]
     },
     "execution_count": 39,
     "metadata": {},
     "output_type": "execute_result"
    }
   ],
   "source": [
    "a1.__code__.co_freevars"
   ]
  },
  {
   "cell_type": "markdown",
   "id": "4ec09a89",
   "metadata": {},
   "source": [
    "#### Question\n",
    "\n",
    "` Using closure , find the average of numbers.`\n",
    "\n",
    "` >>> input : a(10)`\n",
    "\n",
    "` >>> output: 10.0`\n",
    "\n",
    "` >>> input : a(20)`\n",
    "\n",
    "` >>> output : 15.0 `\n",
    " "
   ]
  },
  {
   "cell_type": "code",
   "execution_count": null,
   "id": "90065ff6",
   "metadata": {},
   "outputs": [],
   "source": []
  },
  {
   "cell_type": "code",
   "execution_count": 46,
   "id": "72797bdc",
   "metadata": {},
   "outputs": [],
   "source": [
    "def outer():\n",
    "    x=10\n",
    "    print(f'ID of outer = {id(outer)}')\n",
    "    def inner():\n",
    "        print('value of x = {}'.format(x))\n",
    "        print(f'ID of inner = {id(inner)}')\n",
    "    return inner "
   ]
  },
  {
   "cell_type": "code",
   "execution_count": 47,
   "id": "e6deb2cd",
   "metadata": {},
   "outputs": [
    {
     "name": "stdout",
     "output_type": "stream",
     "text": [
      "ID of outer = 1720714865552\n"
     ]
    }
   ],
   "source": [
    "fn=outer()"
   ]
  },
  {
   "cell_type": "code",
   "execution_count": 48,
   "id": "e7adee00",
   "metadata": {},
   "outputs": [
    {
     "name": "stdout",
     "output_type": "stream",
     "text": [
      "value of x = 10\n",
      "ID of inner = 1720714866848\n"
     ]
    }
   ],
   "source": [
    "fn()"
   ]
  },
  {
   "cell_type": "code",
   "execution_count": 49,
   "id": "ebd105e8",
   "metadata": {},
   "outputs": [
    {
     "data": {
      "text/plain": [
       "1720714866848"
      ]
     },
     "execution_count": 49,
     "metadata": {},
     "output_type": "execute_result"
    }
   ],
   "source": [
    "id(fn)"
   ]
  },
  {
   "cell_type": "code",
   "execution_count": 50,
   "id": "a1a1e6a4",
   "metadata": {},
   "outputs": [
    {
     "data": {
      "text/plain": [
       "1720609248320"
      ]
     },
     "execution_count": 50,
     "metadata": {},
     "output_type": "execute_result"
    }
   ],
   "source": [
    "id(print)"
   ]
  },
  {
   "cell_type": "code",
   "execution_count": 51,
   "id": "b3c587ce",
   "metadata": {},
   "outputs": [],
   "source": [
    "myprint = print"
   ]
  },
  {
   "cell_type": "code",
   "execution_count": 52,
   "id": "da44836c",
   "metadata": {},
   "outputs": [
    {
     "data": {
      "text/plain": [
       "1720609248320"
      ]
     },
     "execution_count": 52,
     "metadata": {},
     "output_type": "execute_result"
    }
   ],
   "source": [
    "id(myprint)"
   ]
  },
  {
   "cell_type": "code",
   "execution_count": 54,
   "id": "1c0625cb",
   "metadata": {},
   "outputs": [
    {
     "name": "stdout",
     "output_type": "stream",
     "text": [
      "Hello world very\n"
     ]
    }
   ],
   "source": [
    "myprint(\"Hello world\",'very')"
   ]
  },
  {
   "cell_type": "code",
   "execution_count": 58,
   "id": "827a6354",
   "metadata": {},
   "outputs": [],
   "source": [
    "def averaging():\n",
    "    \"\"\"Calculates the average of numbers given in sequence\"\"\"\n",
    "    numbers = []\n",
    "    def add(number):\n",
    "        numbers.append(number)\n",
    "        total = sum(numbers)\n",
    "        count = len(numbers)\n",
    "        average = total/count\n",
    "        return average\n",
    "    return add"
   ]
  },
  {
   "cell_type": "code",
   "execution_count": 59,
   "id": "8c925c29",
   "metadata": {},
   "outputs": [],
   "source": [
    "a = averaging()"
   ]
  },
  {
   "cell_type": "code",
   "execution_count": 60,
   "id": "7ad0a8bc",
   "metadata": {},
   "outputs": [
    {
     "data": {
      "text/plain": [
       "1720714868432"
      ]
     },
     "execution_count": 60,
     "metadata": {},
     "output_type": "execute_result"
    }
   ],
   "source": [
    "id(a)"
   ]
  },
  {
   "cell_type": "code",
   "execution_count": 61,
   "id": "9096bdff",
   "metadata": {},
   "outputs": [
    {
     "data": {
      "text/plain": [
       "<function __main__.averaging.<locals>.add(number)>"
      ]
     },
     "execution_count": 61,
     "metadata": {},
     "output_type": "execute_result"
    }
   ],
   "source": [
    "a"
   ]
  },
  {
   "cell_type": "code",
   "execution_count": 62,
   "id": "e226d5c1",
   "metadata": {},
   "outputs": [
    {
     "data": {
      "text/plain": [
       "10.0"
      ]
     },
     "execution_count": 62,
     "metadata": {},
     "output_type": "execute_result"
    }
   ],
   "source": [
    "a(10)"
   ]
  },
  {
   "cell_type": "code",
   "execution_count": 63,
   "id": "6c63f661",
   "metadata": {},
   "outputs": [
    {
     "data": {
      "text/plain": [
       "15.0"
      ]
     },
     "execution_count": 63,
     "metadata": {},
     "output_type": "execute_result"
    }
   ],
   "source": [
    "a(20)"
   ]
  },
  {
   "cell_type": "code",
   "execution_count": 64,
   "id": "ffbde7b2",
   "metadata": {},
   "outputs": [
    {
     "data": {
      "text/plain": [
       "20.0"
      ]
     },
     "execution_count": 64,
     "metadata": {},
     "output_type": "execute_result"
    }
   ],
   "source": [
    "a(30)"
   ]
  },
  {
   "cell_type": "code",
   "execution_count": 65,
   "id": "3cb7168a",
   "metadata": {},
   "outputs": [
    {
     "data": {
      "text/plain": [
       "(<cell at 0x00000190A230A2C0: list object at 0x00000190A2C69000>,)"
      ]
     },
     "execution_count": 65,
     "metadata": {},
     "output_type": "execute_result"
    }
   ],
   "source": [
    "a.__closure__"
   ]
  },
  {
   "cell_type": "code",
   "execution_count": null,
   "id": "75b7abf3",
   "metadata": {},
   "outputs": [],
   "source": []
  }
 ],
 "metadata": {
  "kernelspec": {
   "display_name": "Python 3 (ipykernel)",
   "language": "python",
   "name": "python3"
  },
  "language_info": {
   "codemirror_mode": {
    "name": "ipython",
    "version": 3
   },
   "file_extension": ".py",
   "mimetype": "text/x-python",
   "name": "python",
   "nbconvert_exporter": "python",
   "pygments_lexer": "ipython3",
   "version": "3.10.6"
  }
 },
 "nbformat": 4,
 "nbformat_minor": 5
}
