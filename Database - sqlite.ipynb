{
 "cells": [
  {
   "cell_type": "markdown",
   "id": "3cad6426",
   "metadata": {},
   "source": [
    "# Introduction to SQlite3"
   ]
  },
  {
   "cell_type": "markdown",
   "id": "621ab134",
   "metadata": {},
   "source": [
    "SQLite is a C library that provides a lightweight disk-based database that does'nt require a seperate server\n",
    "process and allows accessing the database using a nonstandard variant of the SQL query language "
   ]
  },
  {
   "cell_type": "markdown",
   "id": "d3b69a24",
   "metadata": {},
   "source": [
    "` Steps ` \n",
    "****\n",
    "    - Create a connection to the database \n",
    "    - Create a Cursor Object\n",
    "    - Call the Cursor's execute function to fire the SQL queries \n",
    "    - You can also use the connection object to fire SQL queries ( but this is not desirable )"
   ]
  },
  {
   "cell_type": "code",
   "execution_count": 1,
   "id": "7a1e7458",
   "metadata": {},
   "outputs": [
    {
     "name": "stdout",
     "output_type": "stream",
     "text": [
      "Connected to the database\n"
     ]
    }
   ],
   "source": [
    "import sqlite3 as sq \n",
    "try:\n",
    "    con = sq.connect('student.db')\n",
    "    print('Connected to the database')\n",
    "except Exception as e:\n",
    "    print(repr(e))"
   ]
  },
  {
   "cell_type": "code",
   "execution_count": 2,
   "id": "9220a370",
   "metadata": {},
   "outputs": [
    {
     "data": {
      "text/plain": [
       "<sqlite3.Connection at 0x209e1648340>"
      ]
     },
     "execution_count": 2,
     "metadata": {},
     "output_type": "execute_result"
    }
   ],
   "source": [
    "con"
   ]
  },
  {
   "cell_type": "code",
   "execution_count": 3,
   "id": "8c3cfe9e",
   "metadata": {},
   "outputs": [
    {
     "name": "stdout",
     "output_type": "stream",
     "text": [
      "['DataError', 'DatabaseError', 'Error', 'IntegrityError', 'InterfaceError', 'InternalError', 'NotSupportedError', 'OperationalError', 'ProgrammingError', 'Warning', '__call__', '__class__', '__delattr__', '__dir__', '__doc__', '__enter__', '__eq__', '__exit__', '__format__', '__ge__', '__getattribute__', '__gt__', '__hash__', '__init__', '__init_subclass__', '__le__', '__lt__', '__module__', '__ne__', '__new__', '__reduce__', '__reduce_ex__', '__repr__', '__setattr__', '__sizeof__', '__str__', '__subclasshook__', 'backup', 'close', 'commit', 'create_aggregate', 'create_collation', 'create_function', 'cursor', 'enable_load_extension', 'execute', 'executemany', 'executescript', 'in_transaction', 'interrupt', 'isolation_level', 'iterdump', 'load_extension', 'rollback', 'row_factory', 'set_authorizer', 'set_progress_handler', 'set_trace_callback', 'text_factory', 'total_changes']\n"
     ]
    }
   ],
   "source": [
    "print(dir(con))"
   ]
  },
  {
   "cell_type": "code",
   "execution_count": 4,
   "id": "9e215da4",
   "metadata": {},
   "outputs": [],
   "source": [
    "cur = con.cursor()"
   ]
  },
  {
   "cell_type": "code",
   "execution_count": 5,
   "id": "b26d4cf8",
   "metadata": {},
   "outputs": [
    {
     "data": {
      "text/plain": [
       "<sqlite3.Cursor at 0x209e14cfac0>"
      ]
     },
     "execution_count": 5,
     "metadata": {},
     "output_type": "execute_result"
    }
   ],
   "source": [
    "cur"
   ]
  },
  {
   "cell_type": "code",
   "execution_count": 6,
   "id": "a1f7e773",
   "metadata": {},
   "outputs": [
    {
     "name": "stdout",
     "output_type": "stream",
     "text": [
      "['__class__', '__delattr__', '__dir__', '__doc__', '__eq__', '__format__', '__ge__', '__getattribute__', '__gt__', '__hash__', '__init__', '__init_subclass__', '__iter__', '__le__', '__lt__', '__module__', '__ne__', '__new__', '__next__', '__reduce__', '__reduce_ex__', '__repr__', '__setattr__', '__sizeof__', '__str__', '__subclasshook__', 'arraysize', 'close', 'connection', 'description', 'execute', 'executemany', 'executescript', 'fetchall', 'fetchmany', 'fetchone', 'lastrowid', 'row_factory', 'rowcount', 'setinputsizes', 'setoutputsize']\n"
     ]
    }
   ],
   "source": [
    "print(dir(cur))"
   ]
  },
  {
   "cell_type": "code",
   "execution_count": 7,
   "id": "ec686d21",
   "metadata": {},
   "outputs": [
    {
     "name": "stdout",
     "output_type": "stream",
     "text": [
      "Table created \n"
     ]
    }
   ],
   "source": [
    "# Lets create a table \n",
    "query = \"\"\"create table if not exists STUDENT(roll_no int PRIMARY KEY,name text, score real)\"\"\"\n",
    "try:\n",
    "    cur.execute(query)\n",
    "    print('Table created ')\n",
    "except Exception as e:\n",
    "    print(repr(e))"
   ]
  },
  {
   "cell_type": "code",
   "execution_count": 8,
   "id": "1043abb6",
   "metadata": {},
   "outputs": [],
   "source": [
    "rolls = [ 101,102,103,104,105]\n",
    "names = ['amit','adhar','gokul','sandeep','Jithin']\n",
    "scores = [50,70,60,80,90]\n",
    "\n",
    "data = tuple(zip(rolls,names,scores))"
   ]
  },
  {
   "cell_type": "code",
   "execution_count": 9,
   "id": "2acf1489",
   "metadata": {},
   "outputs": [
    {
     "data": {
      "text/plain": [
       "((101, 'amit', 50),\n",
       " (102, 'adhar', 70),\n",
       " (103, 'gokul', 60),\n",
       " (104, 'sandeep', 80),\n",
       " (105, 'Jithin', 90))"
      ]
     },
     "execution_count": 9,
     "metadata": {},
     "output_type": "execute_result"
    }
   ],
   "source": [
    "data"
   ]
  },
  {
   "cell_type": "code",
   "execution_count": 10,
   "id": "99d69e8b",
   "metadata": {},
   "outputs": [
    {
     "data": {
      "text/plain": [
       "<sqlite3.Cursor at 0x209e14cfac0>"
      ]
     },
     "execution_count": 10,
     "metadata": {},
     "output_type": "execute_result"
    }
   ],
   "source": [
    "cur.executemany('insert into STUDENT values(?,?,?)',(data))"
   ]
  },
  {
   "cell_type": "markdown",
   "id": "dec98802",
   "metadata": {},
   "source": [
    "# Read data "
   ]
  },
  {
   "cell_type": "code",
   "execution_count": 11,
   "id": "6d94bb0d",
   "metadata": {},
   "outputs": [],
   "source": [
    "rows = cur.execute('select * from STUDENT')"
   ]
  },
  {
   "cell_type": "code",
   "execution_count": 12,
   "id": "a671159e",
   "metadata": {},
   "outputs": [
    {
     "data": {
      "text/plain": [
       "<sqlite3.Cursor at 0x209e14cfac0>"
      ]
     },
     "execution_count": 12,
     "metadata": {},
     "output_type": "execute_result"
    }
   ],
   "source": [
    "rows"
   ]
  },
  {
   "cell_type": "code",
   "execution_count": 13,
   "id": "3ed1c0b1",
   "metadata": {},
   "outputs": [
    {
     "data": {
      "text/plain": [
       "[(101, 'amit', 50.0),\n",
       " (102, 'adhar', 70.0),\n",
       " (103, 'gokul', 60.0),\n",
       " (104, 'sandeep', 80.0),\n",
       " (105, 'Jithin', 90.0)]"
      ]
     },
     "execution_count": 13,
     "metadata": {},
     "output_type": "execute_result"
    }
   ],
   "source": [
    "rows.fetchall()"
   ]
  },
  {
   "cell_type": "code",
   "execution_count": 14,
   "id": "2aaee4fc",
   "metadata": {},
   "outputs": [
    {
     "data": {
      "text/plain": [
       "[(50.0, 'amit'),\n",
       " (70.0, 'adhar'),\n",
       " (60.0, 'gokul'),\n",
       " (80.0, 'sandeep'),\n",
       " (90.0, 'Jithin')]"
      ]
     },
     "execution_count": 14,
     "metadata": {},
     "output_type": "execute_result"
    }
   ],
   "source": [
    "rows = cur.execute('select score,name from STUDENT')\n",
    "rows.fetchall()"
   ]
  },
  {
   "cell_type": "code",
   "execution_count": 15,
   "id": "7ba699c1",
   "metadata": {},
   "outputs": [
    {
     "data": {
      "text/plain": [
       "<sqlite3.Cursor at 0x209e14cfac0>"
      ]
     },
     "execution_count": 15,
     "metadata": {},
     "output_type": "execute_result"
    }
   ],
   "source": [
    "cur.execute('insert into student values(?,?,?)',(106,'rahul',40))"
   ]
  },
  {
   "cell_type": "code",
   "execution_count": 16,
   "id": "b3494846",
   "metadata": {},
   "outputs": [],
   "source": [
    "rows=cur.execute('select * from student')"
   ]
  },
  {
   "cell_type": "code",
   "execution_count": 17,
   "id": "4823a397",
   "metadata": {},
   "outputs": [
    {
     "data": {
      "text/plain": [
       "[(101, 'amit', 50.0),\n",
       " (102, 'adhar', 70.0),\n",
       " (103, 'gokul', 60.0),\n",
       " (104, 'sandeep', 80.0),\n",
       " (105, 'Jithin', 90.0),\n",
       " (106, 'rahul', 40.0)]"
      ]
     },
     "execution_count": 17,
     "metadata": {},
     "output_type": "execute_result"
    }
   ],
   "source": [
    "rows.fetchall()"
   ]
  },
  {
   "cell_type": "code",
   "execution_count": 18,
   "id": "c9d63382",
   "metadata": {},
   "outputs": [],
   "source": [
    "row=cur.execute('insert into student values(?,?,?)',(107,'ujjwal',89))"
   ]
  },
  {
   "cell_type": "code",
   "execution_count": 19,
   "id": "8c89fdd9",
   "metadata": {},
   "outputs": [],
   "source": [
    "rows=cur.execute('select * from student order by score')"
   ]
  },
  {
   "cell_type": "code",
   "execution_count": 20,
   "id": "ba270dbf",
   "metadata": {},
   "outputs": [
    {
     "data": {
      "text/plain": [
       "[(106, 'rahul', 40.0),\n",
       " (101, 'amit', 50.0),\n",
       " (103, 'gokul', 60.0),\n",
       " (102, 'adhar', 70.0),\n",
       " (104, 'sandeep', 80.0),\n",
       " (107, 'ujjwal', 89.0),\n",
       " (105, 'Jithin', 90.0)]"
      ]
     },
     "execution_count": 20,
     "metadata": {},
     "output_type": "execute_result"
    }
   ],
   "source": [
    "rows.fetchall()"
   ]
  },
  {
   "cell_type": "code",
   "execution_count": 21,
   "id": "0a1060ef",
   "metadata": {},
   "outputs": [],
   "source": [
    "rows=cur.execute('select * from student where score >=80')"
   ]
  },
  {
   "cell_type": "code",
   "execution_count": 22,
   "id": "06afb722",
   "metadata": {},
   "outputs": [
    {
     "data": {
      "text/plain": [
       "[(104, 'sandeep', 80.0), (105, 'Jithin', 90.0), (107, 'ujjwal', 89.0)]"
      ]
     },
     "execution_count": 22,
     "metadata": {},
     "output_type": "execute_result"
    }
   ],
   "source": [
    "rows.fetchall()"
   ]
  },
  {
   "cell_type": "code",
   "execution_count": 23,
   "id": "c00c4700",
   "metadata": {},
   "outputs": [],
   "source": [
    "rows=cur.execute('select count(*) from student where score >=80')"
   ]
  },
  {
   "cell_type": "code",
   "execution_count": 24,
   "id": "91623801",
   "metadata": {},
   "outputs": [
    {
     "data": {
      "text/plain": [
       "[(3,)]"
      ]
     },
     "execution_count": 24,
     "metadata": {},
     "output_type": "execute_result"
    }
   ],
   "source": [
    "rows.fetchall()"
   ]
  },
  {
   "cell_type": "code",
   "execution_count": 25,
   "id": "94654741",
   "metadata": {},
   "outputs": [],
   "source": [
    "rows=cur.execute('select * from student where name LIKE \"a%\" ')"
   ]
  },
  {
   "cell_type": "code",
   "execution_count": 26,
   "id": "4b3b7181",
   "metadata": {},
   "outputs": [
    {
     "data": {
      "text/plain": [
       "[(101, 'amit', 50.0), (102, 'adhar', 70.0)]"
      ]
     },
     "execution_count": 26,
     "metadata": {},
     "output_type": "execute_result"
    }
   ],
   "source": [
    "rows.fetchall()"
   ]
  },
  {
   "cell_type": "code",
   "execution_count": 33,
   "id": "26491955",
   "metadata": {},
   "outputs": [],
   "source": [
    "try:\n",
    "    rows=cur.execute('insert into student values(?,?,?)',('145','shweta',89))\n",
    "except Exception as e:\n",
    "    print(repr(e))"
   ]
  },
  {
   "cell_type": "code",
   "execution_count": 37,
   "id": "91a18d4d",
   "metadata": {},
   "outputs": [],
   "source": [
    "rows=cur.execute('select * from student  ')"
   ]
  },
  {
   "cell_type": "code",
   "execution_count": 38,
   "id": "30a416fc",
   "metadata": {},
   "outputs": [
    {
     "data": {
      "text/plain": [
       "[(101, 'amit', 50.0),\n",
       " (102, 'adhar', 70.0),\n",
       " (103, 'gokul', 60.0),\n",
       " (104, 'sandeep', 80.0),\n",
       " (105, 'Jithin', 90.0),\n",
       " (106, 'rahul', 40.0),\n",
       " (107, 'ujjwal', 89.0),\n",
       " (109, 'shweta', 89.0),\n",
       " (123, 'shweta', 89.0),\n",
       " (145, 'shweta', 89.0)]"
      ]
     },
     "execution_count": 38,
     "metadata": {},
     "output_type": "execute_result"
    }
   ],
   "source": [
    "rows.fetchall()"
   ]
  },
  {
   "cell_type": "code",
   "execution_count": 39,
   "id": "314f0d9f",
   "metadata": {},
   "outputs": [],
   "source": [
    "con.commit()"
   ]
  },
  {
   "cell_type": "code",
   "execution_count": 40,
   "id": "fcdc0b2e",
   "metadata": {},
   "outputs": [],
   "source": [
    "con.close()"
   ]
  },
  {
   "cell_type": "code",
   "execution_count": 41,
   "id": "b11354f6",
   "metadata": {},
   "outputs": [
    {
     "data": {
      "text/plain": [
       "<sqlite3.Connection at 0x209e1648340>"
      ]
     },
     "execution_count": 41,
     "metadata": {},
     "output_type": "execute_result"
    }
   ],
   "source": [
    "con"
   ]
  },
  {
   "cell_type": "code",
   "execution_count": 42,
   "id": "ed2a17c2",
   "metadata": {},
   "outputs": [],
   "source": [
    "con = sq.connect(':memory:') # In memory database ( RAM )"
   ]
  },
  {
   "cell_type": "code",
   "execution_count": 43,
   "id": "dae82451",
   "metadata": {},
   "outputs": [
    {
     "data": {
      "text/plain": [
       "<sqlite3.Connection at 0x209e3134140>"
      ]
     },
     "execution_count": 43,
     "metadata": {},
     "output_type": "execute_result"
    }
   ],
   "source": [
    "con"
   ]
  },
  {
   "cell_type": "markdown",
   "id": "09a6b862",
   "metadata": {},
   "source": [
    "# UPDATE "
   ]
  },
  {
   "cell_type": "code",
   "execution_count": null,
   "id": "6961ff66",
   "metadata": {},
   "outputs": [],
   "source": []
  }
 ],
 "metadata": {
  "kernelspec": {
   "display_name": "Python 3 (ipykernel)",
   "language": "python",
   "name": "python3"
  },
  "language_info": {
   "codemirror_mode": {
    "name": "ipython",
    "version": 3
   },
   "file_extension": ".py",
   "mimetype": "text/x-python",
   "name": "python",
   "nbconvert_exporter": "python",
   "pygments_lexer": "ipython3",
   "version": "3.10.4"
  }
 },
 "nbformat": 4,
 "nbformat_minor": 5
}
