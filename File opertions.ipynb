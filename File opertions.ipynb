{
 "cells": [
  {
   "cell_type": "markdown",
   "id": "59fa2636",
   "metadata": {},
   "source": [
    "# Files "
   ]
  },
  {
   "cell_type": "code",
   "execution_count": 1,
   "id": "1aeee991",
   "metadata": {},
   "outputs": [
    {
     "data": {
      "text/plain": [
       "<function io.open(file, mode='r', buffering=-1, encoding=None, errors=None, newline=None, closefd=True, opener=None)>"
      ]
     },
     "execution_count": 1,
     "metadata": {},
     "output_type": "execute_result"
    }
   ],
   "source": [
    "open"
   ]
  },
  {
   "cell_type": "code",
   "execution_count": 2,
   "id": "a78756cc",
   "metadata": {},
   "outputs": [],
   "source": [
    "fh = open('myfile.txt','w')"
   ]
  },
  {
   "cell_type": "code",
   "execution_count": 3,
   "id": "ff0f48ce",
   "metadata": {},
   "outputs": [
    {
     "data": {
      "text/plain": [
       "<_io.TextIOWrapper name='myfile.txt' mode='w' encoding='cp1252'>"
      ]
     },
     "execution_count": 3,
     "metadata": {},
     "output_type": "execute_result"
    }
   ],
   "source": [
    "fh"
   ]
  },
  {
   "cell_type": "code",
   "execution_count": 4,
   "id": "ed8d533f",
   "metadata": {},
   "outputs": [
    {
     "name": "stdout",
     "output_type": "stream",
     "text": [
      "['_CHUNK_SIZE', '__class__', '__del__', '__delattr__', '__dict__', '__dir__', '__doc__', '__enter__', '__eq__', '__exit__', '__format__', '__ge__', '__getattribute__', '__gt__', '__hash__', '__init__', '__init_subclass__', '__iter__', '__le__', '__lt__', '__ne__', '__new__', '__next__', '__reduce__', '__reduce_ex__', '__repr__', '__setattr__', '__sizeof__', '__str__', '__subclasshook__', '_checkClosed', '_checkReadable', '_checkSeekable', '_checkWritable', '_finalizing', 'buffer', 'close', 'closed', 'detach', 'encoding', 'errors', 'fileno', 'flush', 'isatty', 'line_buffering', 'mode', 'name', 'newlines', 'read', 'readable', 'readline', 'readlines', 'reconfigure', 'seek', 'seekable', 'tell', 'truncate', 'writable', 'write', 'write_through', 'writelines']\n"
     ]
    }
   ],
   "source": [
    "print(dir(fh))"
   ]
  },
  {
   "cell_type": "code",
   "execution_count": 7,
   "id": "40b2ea2d",
   "metadata": {},
   "outputs": [
    {
     "data": {
      "text/plain": [
       "10"
      ]
     },
     "execution_count": 7,
     "metadata": {},
     "output_type": "execute_result"
    }
   ],
   "source": [
    "fh.write(\"First line\")"
   ]
  },
  {
   "cell_type": "code",
   "execution_count": 8,
   "id": "c9ebc66b",
   "metadata": {},
   "outputs": [],
   "source": [
    "fh.close()"
   ]
  },
  {
   "cell_type": "code",
   "execution_count": 9,
   "id": "4864b940",
   "metadata": {},
   "outputs": [
    {
     "name": "stdout",
     "output_type": "stream",
     "text": [
      "Help on built-in function open in module io:\n",
      "\n",
      "open(file, mode='r', buffering=-1, encoding=None, errors=None, newline=None, closefd=True, opener=None)\n",
      "    Open file and return a stream.  Raise OSError upon failure.\n",
      "    \n",
      "    file is either a text or byte string giving the name (and the path\n",
      "    if the file isn't in the current working directory) of the file to\n",
      "    be opened or an integer file descriptor of the file to be\n",
      "    wrapped. (If a file descriptor is given, it is closed when the\n",
      "    returned I/O object is closed, unless closefd is set to False.)\n",
      "    \n",
      "    mode is an optional string that specifies the mode in which the file\n",
      "    is opened. It defaults to 'r' which means open for reading in text\n",
      "    mode.  Other common values are 'w' for writing (truncating the file if\n",
      "    it already exists), 'x' for creating and writing to a new file, and\n",
      "    'a' for appending (which on some Unix systems, means that all writes\n",
      "    append to the end of the file regardless of the current seek position).\n",
      "    In text mode, if encoding is not specified the encoding used is platform\n",
      "    dependent: locale.getpreferredencoding(False) is called to get the\n",
      "    current locale encoding. (For reading and writing raw bytes use binary\n",
      "    mode and leave encoding unspecified.) The available modes are:\n",
      "    \n",
      "    ========= ===============================================================\n",
      "    Character Meaning\n",
      "    --------- ---------------------------------------------------------------\n",
      "    'r'       open for reading (default)\n",
      "    'w'       open for writing, truncating the file first\n",
      "    'x'       create a new file and open it for writing\n",
      "    'a'       open for writing, appending to the end of the file if it exists\n",
      "    'b'       binary mode\n",
      "    't'       text mode (default)\n",
      "    '+'       open a disk file for updating (reading and writing)\n",
      "    'U'       universal newline mode (deprecated)\n",
      "    ========= ===============================================================\n",
      "    \n",
      "    The default mode is 'rt' (open for reading text). For binary random\n",
      "    access, the mode 'w+b' opens and truncates the file to 0 bytes, while\n",
      "    'r+b' opens the file without truncation. The 'x' mode implies 'w' and\n",
      "    raises an `FileExistsError` if the file already exists.\n",
      "    \n",
      "    Python distinguishes between files opened in binary and text modes,\n",
      "    even when the underlying operating system doesn't. Files opened in\n",
      "    binary mode (appending 'b' to the mode argument) return contents as\n",
      "    bytes objects without any decoding. In text mode (the default, or when\n",
      "    't' is appended to the mode argument), the contents of the file are\n",
      "    returned as strings, the bytes having been first decoded using a\n",
      "    platform-dependent encoding or using the specified encoding if given.\n",
      "    \n",
      "    'U' mode is deprecated and will raise an exception in future versions\n",
      "    of Python.  It has no effect in Python 3.  Use newline to control\n",
      "    universal newlines mode.\n",
      "    \n",
      "    buffering is an optional integer used to set the buffering policy.\n",
      "    Pass 0 to switch buffering off (only allowed in binary mode), 1 to select\n",
      "    line buffering (only usable in text mode), and an integer > 1 to indicate\n",
      "    the size of a fixed-size chunk buffer.  When no buffering argument is\n",
      "    given, the default buffering policy works as follows:\n",
      "    \n",
      "    * Binary files are buffered in fixed-size chunks; the size of the buffer\n",
      "      is chosen using a heuristic trying to determine the underlying device's\n",
      "      \"block size\" and falling back on `io.DEFAULT_BUFFER_SIZE`.\n",
      "      On many systems, the buffer will typically be 4096 or 8192 bytes long.\n",
      "    \n",
      "    * \"Interactive\" text files (files for which isatty() returns True)\n",
      "      use line buffering.  Other text files use the policy described above\n",
      "      for binary files.\n",
      "    \n",
      "    encoding is the name of the encoding used to decode or encode the\n",
      "    file. This should only be used in text mode. The default encoding is\n",
      "    platform dependent, but any encoding supported by Python can be\n",
      "    passed.  See the codecs module for the list of supported encodings.\n",
      "    \n",
      "    errors is an optional string that specifies how encoding errors are to\n",
      "    be handled---this argument should not be used in binary mode. Pass\n",
      "    'strict' to raise a ValueError exception if there is an encoding error\n",
      "    (the default of None has the same effect), or pass 'ignore' to ignore\n",
      "    errors. (Note that ignoring encoding errors can lead to data loss.)\n",
      "    See the documentation for codecs.register or run 'help(codecs.Codec)'\n",
      "    for a list of the permitted encoding error strings.\n",
      "    \n",
      "    newline controls how universal newlines works (it only applies to text\n",
      "    mode). It can be None, '', '\\n', '\\r', and '\\r\\n'.  It works as\n",
      "    follows:\n",
      "    \n",
      "    * On input, if newline is None, universal newlines mode is\n",
      "      enabled. Lines in the input can end in '\\n', '\\r', or '\\r\\n', and\n",
      "      these are translated into '\\n' before being returned to the\n",
      "      caller. If it is '', universal newline mode is enabled, but line\n",
      "      endings are returned to the caller untranslated. If it has any of\n",
      "      the other legal values, input lines are only terminated by the given\n",
      "      string, and the line ending is returned to the caller untranslated.\n",
      "    \n",
      "    * On output, if newline is None, any '\\n' characters written are\n",
      "      translated to the system default line separator, os.linesep. If\n",
      "      newline is '' or '\\n', no translation takes place. If newline is any\n",
      "      of the other legal values, any '\\n' characters written are translated\n",
      "      to the given string.\n",
      "    \n",
      "    If closefd is False, the underlying file descriptor will be kept open\n",
      "    when the file is closed. This does not work when a file name is given\n",
      "    and must be True in that case.\n",
      "    \n",
      "    A custom opener can be used by passing a callable as *opener*. The\n",
      "    underlying file descriptor for the file object is then obtained by\n",
      "    calling *opener* with (*file*, *flags*). *opener* must return an open\n",
      "    file descriptor (passing os.open as *opener* results in functionality\n",
      "    similar to passing None).\n",
      "    \n",
      "    open() returns a file object whose type depends on the mode, and\n",
      "    through which the standard file operations such as reading and writing\n",
      "    are performed. When open() is used to open a file in a text mode ('w',\n",
      "    'r', 'wt', 'rt', etc.), it returns a TextIOWrapper. When used to open\n",
      "    a file in a binary mode, the returned class varies: in read binary\n",
      "    mode, it returns a BufferedReader; in write binary and append binary\n",
      "    modes, it returns a BufferedWriter, and in read/write mode, it returns\n",
      "    a BufferedRandom.\n",
      "    \n",
      "    It is also possible to use a string or bytearray as a file for both\n",
      "    reading and writing. For strings StringIO can be used like a file\n",
      "    opened in a text mode, and for bytes a BytesIO can be used like a file\n",
      "    opened in a binary mode.\n",
      "\n"
     ]
    }
   ],
   "source": [
    "help(open)"
   ]
  },
  {
   "cell_type": "code",
   "execution_count": 11,
   "id": "cfd43196",
   "metadata": {},
   "outputs": [],
   "source": [
    "f = open('myfile.txt','w') # overwrites the content of the file\n",
    "f.writelines('THis is just a line')\n",
    "f.close()\n"
   ]
  },
  {
   "cell_type": "code",
   "execution_count": 12,
   "id": "fe216901",
   "metadata": {},
   "outputs": [],
   "source": [
    "f = open('myfile.txt','a') # overwrites the content of the file\n",
    "f.writelines('THis is a second \\n How are you \\n what is your name')\n",
    "f.close()\n"
   ]
  },
  {
   "cell_type": "code",
   "execution_count": 60,
   "id": "ea06c1c1",
   "metadata": {},
   "outputs": [],
   "source": [
    "import requests\n",
    "from bs4 import BeautifulSoup\n",
    "url = 'https://automatetheboringstuff.com/'\n",
    "\n",
    "def get_data(url):\n",
    "    try:\n",
    "        response = requests.get(url)\n",
    "        print(response.status_code)\n",
    "    except Exception as e:\n",
    "        print(repr(e))\n",
    "        \n",
    "    data = response.text\n",
    "    return data \n",
    "\n",
    "\n"
   ]
  },
  {
   "cell_type": "code",
   "execution_count": 61,
   "id": "bb0bca11",
   "metadata": {},
   "outputs": [],
   "source": [
    "def write_data(filename,data):\n",
    "    f = open(filename,'w')\n",
    "    try:\n",
    "        f.writelines(data)\n",
    "    except Exception as e:\n",
    "        print(\"Exception occured \",repr(e))\n",
    "    finally:\n",
    "        f.close()\n"
   ]
  },
  {
   "cell_type": "code",
   "execution_count": 24,
   "id": "9f4af572",
   "metadata": {},
   "outputs": [
    {
     "data": {
      "text/plain": [
       "'https://automatetheboringstuff.com/'"
      ]
     },
     "execution_count": 24,
     "metadata": {},
     "output_type": "execute_result"
    }
   ],
   "source": [
    "url"
   ]
  },
  {
   "cell_type": "code",
   "execution_count": 62,
   "id": "755c1e15",
   "metadata": {},
   "outputs": [
    {
     "name": "stdout",
     "output_type": "stream",
     "text": [
      "200\n"
     ]
    }
   ],
   "source": [
    "d=get_data(url)"
   ]
  },
  {
   "cell_type": "code",
   "execution_count": 63,
   "id": "e20aa88f",
   "metadata": {},
   "outputs": [],
   "source": [
    "write_data('automatebinary.txt',d)"
   ]
  },
  {
   "cell_type": "code",
   "execution_count": 80,
   "id": "83b8bda4",
   "metadata": {},
   "outputs": [],
   "source": [
    "import requests\n",
    "from bs4 import BeautifulSoup\n",
    "url = 'https://automatetheboringstuff.com/'\n",
    "\n",
    "def get_data(url):\n",
    "    try:\n",
    "        response = requests.get(url)\n",
    "        print(response.status_code)\n",
    "    except Exception as e:\n",
    "        print(repr(e))\n",
    "        \n",
    "    data = response.content\n",
    "    return data "
   ]
  },
  {
   "cell_type": "code",
   "execution_count": 70,
   "id": "418deea9",
   "metadata": {},
   "outputs": [],
   "source": [
    "def write_data(filename,data):\n",
    "    f = open(filename,'rb')\n",
    "    f = open(filename,'wb')\n",
    "    \n",
    "    try:\n",
    "        f.writelines(data)\n",
    "    except Exception as e:\n",
    "        print(\"Exception occured \",repr(e))\n",
    "    finally:\n",
    "        f.close()"
   ]
  },
  {
   "cell_type": "code",
   "execution_count": 71,
   "id": "db7ee283",
   "metadata": {},
   "outputs": [
    {
     "name": "stdout",
     "output_type": "stream",
     "text": [
      "200\n",
      "Exception occured  UnsupportedOperation('write')\n"
     ]
    }
   ],
   "source": [
    "write_data('test.dat',get_data(url))"
   ]
  },
  {
   "cell_type": "code",
   "execution_count": 83,
   "id": "ae82ec50",
   "metadata": {},
   "outputs": [],
   "source": [
    "import requests\n",
    "from bs4 import BeautifulSoup\n",
    "url = 'https://automatetheboringstuff.com/'\n",
    "\n",
    "def get_data(url):\n",
    "    try:\n",
    "        response = requests.get(url)\n",
    "        print(response.status_code)\n",
    "    except Exception as e:\n",
    "        print(repr(e))\n",
    "        \n",
    "    data = response.text\n",
    "    soup = BeautifulSoup(data,'html.parser')\n",
    "    return soup.prettify() \n",
    "\n",
    "def write_data(filename,data):\n",
    "    if type(data)==str:\n",
    "        print(\"string data\")\n",
    "        try:\n",
    "            f = open(filename,'w')\n",
    "            f.writelines(data)\n",
    "        except Exception as e:\n",
    "            print(\"Exception occured \",repr(e))\n",
    "        finally:\n",
    "            f.close()\n",
    "    elif type(data)==bytes:\n",
    "        print('byte data')\n",
    "        try:\n",
    "            f = open(filename,'wb')\n",
    "            f.writelines(data)\n",
    "        except Exception as e:\n",
    "            print(\"Exception occured \",repr(e))\n",
    "        finally:\n",
    "            print(\"Mission Accomplished\".center(80,'*'))\n",
    "            \n"
   ]
  },
  {
   "cell_type": "code",
   "execution_count": 84,
   "id": "faa0b64d",
   "metadata": {},
   "outputs": [
    {
     "name": "stdout",
     "output_type": "stream",
     "text": [
      "200\n"
     ]
    },
    {
     "data": {
      "text/plain": [
       "'<!DOCTYPE html PUBLIC \"-//W3C//DTD XHTML 1.0 Transitional//EN\"\\r\\n    \"http://www.w3.org/TR/xhtml1/DTD/xhtml1-transitional.dtd\">\\n<html lang=\"en\" xml:lang=\"en\" xmlns=\"http://www.w3.org/1999/xhtml\">\\n <head>\\n  <link href=\"/automate2_website.css\" rel=\"stylesheet\" type=\"text/css\"/>\\n  <meta charset=\"utf-8\"/>\\n  <title>\\n   Automate the Boring Stuff with Python\\n  </title>\\n </head>\\n <body>\\n  <header class=\"top_header\">\\n   <a href=\"https://automatetheboringstuff.com/\">\\n    Home\\n   </a>\\n   |\\n   <a href=\"https://www.nostarch.com/automatestuff2\">\\n    Buy Direct from Publisher\\n   </a>\\n   |\\n   <a href=\"https://inventwithpython.com/amazon-automate2\">\\n    Buy on Amazon\\n   </a>\\n   |\\n   <a href=\"https://twitter.com/AlSweigart\">\\n    @AlSweigart\\n   </a>\\n   |\\n   <a href=\"https://www.patreon.com/AlSweigart\">\\n    Support on Patreon\\n   </a>\\n   |\\n   <a href=\"https://www.amazon.com/review/create-review/?ie=UTF8&amp;channel=glance-detail&amp;asin=1593279922\">\\n    Write a Review\\n   </a>\\n   |\\n   <form action=\"https://www.paypal.com/cgi-bin/webscr\" method=\"post\">\\n    <input name=\"cmd\" type=\"hidden\" value=\"_s-xclick\"/>\\n    <input name=\"encrypted\" type=\"hidden\" value=\"-----BEGIN PKCS7-----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-----END PKCS7----- \"/>\\n    <input alt=\"PayPal - The safer, easier way to pay online!\" border=\"0\" name=\"submit\" src=\"https://www.paypal.com/en_US/i/btn/btn_donate_LG.gif\" type=\"image\"/>\\n    <img alt=\"\" border=\"0\" height=\"1\" hidden=\"\" src=\"https://www.paypal.com/en_US/i/scr/pixel.gif\" style=\"display: none !important;\" width=\"1\"/>\\n   </form>\\n  </header>\\n  <div class=\"main\">\\n   <main>\\n    <div>\\n     <h1>\\n      Automate the Boring Stuff with Python\\n     </h1>\\n     <p>\\n      By Al Sweigart. Over 500,000 copies sold.\\n      <a href=\"#toc\">\\n       Free to read\\n      </a>\\n      under a\\n      <a href=\"https://creativecommons.org/licenses/by-nc-sa/3.0/\">\\n       CC license\\n      </a>\\n      .\\n     </p>\\n     <p>\\n      <center>\\n       <img alt=\"Cover of Automate the Boring Stuff with Python\" src=\"/images/cover_automate2_thumb.jpg\"/>\\n      </center>\\n     </p>\\n     <p>\\n      \"The best part of programming is the triumph of seeing the machine do something useful. Automate the Boring Stuff with Python frames all of programming as these small triumphs; it makes the boring fun.\"\\n      <br/>\\n      <strong>\\n       -\\n       <a href=\"https://twitter.com/hmason\">\\n        Hilary Mason\\n       </a>\\n      </strong>\\n      , Data Scientist and Founder of\\n      <a href=\"http://www.fastforwardlabs.com/\">\\n       Fast Forward Labs\\n      </a>\\n     </p>\\n     <p>\\n      \"I\\'m having a lot of fun breaking things and then putting them back together, and just remembering the joy of turning a set of instructions into something useful and fun, like I did when I was a kid.\"\\n      <br/>\\n      <strong>\\n       -\\n       <a href=\"https://twitter.com/wilw\">\\n        Wil Wheaton\\n       </a>\\n      </strong>\\n      ,\\n      <a href=\"http://wilwheaton.net/2015/09/hello-world/\">\\n       WilWheaton.net\\n      </a>\\n     </p>\\n     <h2>\\n      Practical Programming for Total Beginners\\n     </h2>\\n     <p>\\n      If you\\'ve ever spent hours renaming files or updating hundreds of spreadsheet cells, you know how tedious tasks like these can be. But what if you could have your computer do them for you?\\n     </p>\\n     <p>\\n      In\\n      <a href=\"#toc\">\\n       Automate the Boring Stuff with Python\\n      </a>\\n      , you\\'ll learn how to use Python to write programs that do in minutes what would take you hours to do by hand - no prior programming experience required. Once you\\'ve mastered the basics of programming, you\\'ll create Python programs that effortlessly perform useful and impressive feats of automation to:\\n     </p>\\n     <ul>\\n      <li>\\n       Search for text in a file or across multiple files\\n      </li>\\n      <li>\\n       Create, update, move, and rename files and folders\\n      </li>\\n      <li>\\n       Search the Web and download online content\\n      </li>\\n      <li>\\n       Update and format data in Excel spreadsheets of any size\\n      </li>\\n      <li>\\n       Split, merge, watermark, and encrypt PDFs\\n      </li>\\n      <li>\\n       Send reminder emails and text notifications\\n      </li>\\n      <li>\\n       Fill out online forms\\n      </li>\\n     </ul>\\n     <p>\\n      Step-by-step instructions walk you through each program, and practice projects at the end of each chapter challenge you to improve those programs and use your newfound skills to automate similar tasks.\\n     </p>\\n     <p>\\n      Don\\'t spend your time doing work a well-trained monkey could do. Even if you\\'ve never written a line of code, you can make your computer do the grunt work. Learn how in Automate the Boring Stuff with Python.\\n     </p>\\n     <h2 style=\"margin-top: 20px\">\\n      New Book: \"The Big Book of Small Python Projects\"\\n     </h2>\\n     <div>\\n      <center>\\n       <a href=\"https://nostarch.com/big-book-small-python-projects\">\\n        <img alt=\"Cover image of The Big Book of Small Python Projects\" src=\"https://inventwithpython.com/images/cover_bigbookpython_thumb.jpg\"/>\\n       </a>\\n       <br/>\\n      </center>\\n      You\\'ve read a beginner resource like\\n      <a href=\"https://nostarch.com/automatestuff2\">\\n       Automate the Boring Stuff with Python\\n      </a>\\n      or\\n      <a href=\"https://nostarch.com/pythoncrashcourse2e\">\\n       Python Crash Course\\n      </a>\\n      , but still feel stuck when you sit down to write your own programs?\\n      <a href=\"https://nostarch.com/big-book-small-python-projects\">\\n       The Big Book of Small Python Projects\\n      </a>\\n      has 81 games, puzzles, art, simulations, and other programs designed to be simple enough for beginners to read through their code and get inspiration.\\n     </div>\\n     <div>\\n      <h2 style=\"margin-top: 20px\">\\n       Online Video Course on Udemy\\n      </h2>\\n      <center>\\n       <a href=\"https://inventwithpython.com/automateudemy\">\\n        <img alt=\"Udemy course logo\" src=\"/images/automate_udemy_course_logo.jpg\"/>\\n       </a>\\n      </center>\\n      <br/>\\n      This video course follows much (though not all) of the content of the book.\\n      <a href=\"https://inventwithpython.com/automateudemy\">\\n       Use this link to apply a 60% discount code.\\n      </a>\\n      Or preview\\n      <a href=\"https://www.youtube.com/watch?v=1F_OgqRuSdI&amp;list=PL0-84-yl1fUnRuXGFe_F7qSH1LEnn9LkW\">\\n       the first 15 course videos for free on YouTube.\\n      </a>\\n     </div>\\n     <a name=\"toc\">\\n     </a>\\n     <h2>\\n      Table of Contents\\n     </h2>\\n     <ul>\\n      <li>\\n       <a href=\"/2e/chapter0/\">\\n        Introduction\\n       </a>\\n      </li>\\n      <li>\\n       <a href=\"/2e/chapter1/\">\\n        Chapter  1 – Python Basics\\n       </a>\\n      </li>\\n      <li>\\n       <a href=\"/2e/chapter2/\">\\n        Chapter  2 – Flow Control\\n       </a>\\n      </li>\\n      <li>\\n       <a href=\"/2e/chapter3/\">\\n        Chapter  3 – Functions\\n       </a>\\n      </li>\\n      <li>\\n       <a href=\"/2e/chapter4/\">\\n        Chapter  4 – Lists\\n       </a>\\n      </li>\\n      <li>\\n       <a href=\"/2e/chapter5/\">\\n        Chapter  5 – Dictionaries and Structuring Data\\n       </a>\\n      </li>\\n      <li>\\n       <a href=\"/2e/chapter6/\">\\n        Chapter  6 – Manipulating Strings\\n       </a>\\n      </li>\\n      <li>\\n       <a href=\"/2e/chapter7/\">\\n        Chapter  7 – Pattern Matching with Regular Expressions\\n       </a>\\n      </li>\\n      <li>\\n       <a href=\"/2e/chapter8/\">\\n        Chapter  8 – Input Validation\\n       </a>\\n      </li>\\n      <li>\\n       <a href=\"/2e/chapter9/\">\\n        Chapter  9 – Reading and Writing Files\\n       </a>\\n      </li>\\n      <li>\\n       <a href=\"/2e/chapter10/\">\\n        Chapter 10 – Organizing Files\\n       </a>\\n      </li>\\n      <li>\\n       <a href=\"/2e/chapter11/\">\\n        Chapter 11 – Debugging\\n       </a>\\n      </li>\\n      <li>\\n       <a href=\"/2e/chapter12/\">\\n        Chapter 12 – Web Scraping\\n       </a>\\n      </li>\\n      <li>\\n       <a href=\"/2e/chapter13/\">\\n        Chapter 13 – Working with Excel Spreadsheets\\n       </a>\\n      </li>\\n      <li>\\n       <a href=\"/2e/chapter14/\">\\n        Chapter 14 – Working with Google Spreadsheets\\n       </a>\\n      </li>\\n      <li>\\n       <a href=\"/2e/chapter15/\">\\n        Chapter 15 – Working with PDF and Word Documents\\n       </a>\\n      </li>\\n      <li>\\n       <a href=\"/2e/chapter16/\">\\n        Chapter 16 – Working with CSV Files and JSON Data\\n       </a>\\n      </li>\\n      <li>\\n       <a href=\"/2e/chapter17/\">\\n        Chapter 17 – Keeping Time, Scheduling Tasks, and Launching Programs\\n       </a>\\n      </li>\\n      <li>\\n       <a href=\"/2e/chapter18/\">\\n        Chapter 18 – Sending Email and Text Messages\\n       </a>\\n      </li>\\n      <li>\\n       <a href=\"/2e/chapter19/\">\\n        Chapter 19 – Manipulating Images\\n       </a>\\n      </li>\\n      <li>\\n       <a href=\"/2e/chapter20/\">\\n        Chapter 20 – Controlling the Keyboard and Mouse with GUI Automation\\n       </a>\\n      </li>\\n      <li>\\n       <a href=\"/2e/appendixa/\">\\n        Appendix A – Installing Third-Party Modules\\n       </a>\\n      </li>\\n      <li>\\n       <a href=\"/2e/appendixb/\">\\n        Appendix B – Running Programs\\n       </a>\\n      </li>\\n      <li>\\n       <a href=\"/2e/appendixc/\">\\n        Appendix C – Answers to the Practice Questions\\n       </a>\\n      </li>\\n     </ul>\\n     <p>\\n      <a href=\"/chapter0/\">\\n       (Link to the older 1st edition.)\\n      </a>\\n     </p>\\n     <h2>\\n      Additional Content\\n     </h2>\\n     <ul>\\n      <li>\\n       <a href=\"https://www.nostarch.com/download/Automate_the_Boring_Stuff_onlinematerials.zip\">\\n        Download files used in the book\\n       </a>\\n      </li>\\n      <li>\\n       <a href=\"/list-of-css-selector-tutorials.html\">\\n        List of CSS Selector Tutorials\\n       </a>\\n      </li>\\n      <li>\\n       <a href=\"/list-of-json-apis.html\">\\n        List of JSON APIs\\n       </a>\\n      </li>\\n      <li>\\n       <a href=\"/list-of-programming-practice-sites.html\">\\n        List of Programming Practice Sites\\n       </a>\\n      </li>\\n      <li>\\n       <a href=\"/list-of-web-comics.html\">\\n        List of Web Comics\\n       </a>\\n      </li>\\n      <li>\\n       <a href=\"/schedulers.html\">\\n        Schedulers for Windows, Mac, and Linux\\n       </a>\\n      </li>\\n      <li>\\n       <a href=\"/how-to-do-pycon.html\">\\n        How to Do PyCon (or any tech conference)\\n       </a>\\n      </li>\\n     </ul>\\n     <h2>\\n      About the Author\\n     </h2>\\n     <p>\\n      Al Sweigart is a software developer and teaches programming to kids and adults. He has written several books for beginners and makes them freely available at\\n      <a href=\"https://inventwithpython.com\">\\n       InventWithPython.com\\n      </a>\\n      . His personal website is\\n      <a href=\"https://alsweigart.com\">\\n       AlSweigart.com\\n      </a>\\n      . You can follow @AlSweigart on\\n      <a href=\"https://twitter.com/AlSweigart\">\\n       Twitter\\n      </a>\\n      and\\n      <a href=\"https://twitch.tv/alsweigart\">\\n       Twitch\\n      </a>\\n      .\\n     </p>\\n    </div>\\n   </main>\\n   <footer>\\n    <div>\\n     <br/>\\n     Read the author\\'s other free programming books on\\n     <a href=\"https://inventwithpython.com\">\\n      InventWithPython.com\\n     </a>\\n     . Support the author with a purchase:\\n     <br/>\\n     <a href=\"https://www.nostarch.com/automatestuff2\">\\n      Buy Direct from Publisher (Free Ebook!)\\n     </a>\\n     |\\n     <a href=\"https://inventwithpython.com/amazon-automate2\">\\n      Buy on Amazon\\n     </a>\\n    </div>\\n    <div>\\n     <center>\\n      <a href=\"https://automatetheboringstuff.com\">\\n       <img alt=\"Automate the Boring Stuff with Python book cover thumbnail\" src=\"/images/cover_automate2_thumb.jpg\" style=\"width: 120px\"/>\\n      </a>\\n      <a href=\"https://inventwithpython.com/bigbookpython\">\\n       <img alt=\"Big Book of Small Python Projects book cover thumbnail\" src=\"/images/cover_bigbookpython_thumb.jpg\" style=\"width: 120px\"/>\\n      </a>\\n      <a href=\"https://inventwithpython.com/beyond\">\\n       <img alt=\"Beyond the Basic Stuff with Python book cover thumbnail\" src=\"/images/cover_beyond_thumb.jpg\" style=\"width: 120px\"/>\\n      </a>\\n      <a href=\"https://turtleappstore.com/book\">\\n       <img alt=\"Coding with Minecraft book cover thumbnail\" src=\"/images/cover_codingwithminecraft_thumb.png\" style=\"width: 120px\"/>\\n      </a>\\n      <a href=\"https://inventwithpython.com/cracking/\">\\n       <img alt=\"Cracking Codes with Python book cover thumbnail\" src=\"/images/cover_crackingcodes_thumb.png\" style=\"width: 120px\"/>\\n      </a>\\n      <a href=\"https://inventwithpython.com/invent4thed\">\\n       <img alt=\"Invent with Python book cover thumbnail\" src=\"/images/cover_invent4th_thumb.png\" style=\"width: 120px\"/>\\n      </a>\\n      <a href=\"https://inventwithscratch.com/book3/\">\\n       <img alt=\"Scratch 3 Programming Playground book cover thumbnail\" src=\"/images/cover_scratch3programmingplayground_thumb.png\" style=\"width: 120px\"/>\\n      </a>\\n      <a href=\"https://inventwithpython.com/pygame/\">\\n       <img alt=\"Making Games with Python and Pygame book cover thumbnail\" src=\"/images/cover_makinggames_thumb.png\" style=\"width: 120px\"/>\\n      </a>\\n     </center>\\n    </div>\\n   </footer>\\n  </div>\\n </body>\\n</html>'"
      ]
     },
     "execution_count": 84,
     "metadata": {},
     "output_type": "execute_result"
    }
   ],
   "source": [
    "get_data(url)"
   ]
  },
  {
   "cell_type": "code",
   "execution_count": 85,
   "id": "d6a425e4",
   "metadata": {},
   "outputs": [
    {
     "name": "stdout",
     "output_type": "stream",
     "text": [
      "200\n",
      "string data\n"
     ]
    }
   ],
   "source": [
    "write_data('t1.txt',get_data(url))"
   ]
  },
  {
   "cell_type": "code",
   "execution_count": 86,
   "id": "12f3c774",
   "metadata": {},
   "outputs": [],
   "source": [
    "import requests\n",
    "from bs4 import BeautifulSoup\n",
    "url = 'https://automatetheboringstuff.com/'\n",
    "\n",
    "def get_data(url):\n",
    "    try:\n",
    "        response = requests.get(url)\n",
    "        print(response.status_code)\n",
    "    except Exception as e:\n",
    "        print(repr(e))\n",
    "        \n",
    "    data = response.text\n",
    "    soup = BeautifulSoup(data,'html.parser')\n",
    "    return soup.prettify() \n",
    "\n",
    "def write_data(filename,data):\n",
    "    if type(data)==str:\n",
    "        print(\"string data\")\n",
    "        try:\n",
    "            f = open(filename,'w')\n",
    "            f.writelines(data.encode('utf-8'))\n",
    "        except Exception as e:\n",
    "            print(\"Exception occured \",repr(e))\n",
    "        finally:\n",
    "            f.close()\n",
    "    elif type(data)==bytes:\n",
    "        print('byte data')\n",
    "        try:\n",
    "            f = open(filename,'wb')\n",
    "            f.writelines(data.encode('utf-8'))\n",
    "        except Exception as e:\n",
    "            print(\"Exception occured \",repr(e))\n",
    "        finally:\n",
    "            print(\"Mission Accomplished\".center(80,'*'))\n",
    "            \n"
   ]
  },
  {
   "cell_type": "code",
   "execution_count": 87,
   "id": "646d78a9",
   "metadata": {},
   "outputs": [
    {
     "name": "stdout",
     "output_type": "stream",
     "text": [
      "200\n",
      "string data\n",
      "Exception occured  TypeError('write() argument must be str, not int')\n"
     ]
    }
   ],
   "source": [
    "write_data('t2.txt',get_data(url))"
   ]
  },
  {
   "cell_type": "markdown",
   "id": "bb5e58e2",
   "metadata": {},
   "source": [
    "# With context manager "
   ]
  },
  {
   "cell_type": "code",
   "execution_count": 88,
   "id": "e5fde5b8",
   "metadata": {},
   "outputs": [],
   "source": [
    "with open('first.txt','w') as f:\n",
    "    f.writelines(\"Good morning\\n what is your name\")"
   ]
  },
  {
   "cell_type": "markdown",
   "id": "76005efc",
   "metadata": {},
   "source": [
    "# Reading from a file "
   ]
  },
  {
   "cell_type": "code",
   "execution_count": 94,
   "id": "5bf1ea64",
   "metadata": {},
   "outputs": [
    {
     "name": "stdout",
     "output_type": "stream",
     "text": [
      "Goo\n"
     ]
    }
   ],
   "source": [
    "with open('first.txt','r') as f:\n",
    "    print(f.read(3))"
   ]
  },
  {
   "cell_type": "code",
   "execution_count": 92,
   "id": "451fddea",
   "metadata": {},
   "outputs": [
    {
     "name": "stdout",
     "output_type": "stream",
     "text": [
      "Help on built-in function read:\n",
      "\n",
      "read(size=-1, /) method of _io.TextIOWrapper instance\n",
      "    Read at most n characters from stream.\n",
      "    \n",
      "    Read from underlying buffer until we have n characters or we hit EOF.\n",
      "    If n is negative or omitted, read until EOF.\n",
      "\n"
     ]
    }
   ],
   "source": [
    "help(f.read)"
   ]
  },
  {
   "cell_type": "code",
   "execution_count": 96,
   "id": "ef3a3945",
   "metadata": {},
   "outputs": [
    {
     "name": "stdout",
     "output_type": "stream",
     "text": [
      "Good morning\n",
      " what is your name\n"
     ]
    }
   ],
   "source": [
    "with open('first.txt','r') as f:\n",
    "    print(f.read())"
   ]
  },
  {
   "cell_type": "code",
   "execution_count": 97,
   "id": "fea8a2dd",
   "metadata": {},
   "outputs": [
    {
     "name": "stdout",
     "output_type": "stream",
     "text": [
      "Help on built-in function readlines:\n",
      "\n",
      "readlines(hint=-1, /) method of _io.TextIOWrapper instance\n",
      "    Return a list of lines from the stream.\n",
      "    \n",
      "    hint can be specified to control the number of lines read: no more\n",
      "    lines will be read if the total size (in bytes/characters) of all\n",
      "    lines so far exceeds hint.\n",
      "\n"
     ]
    }
   ],
   "source": [
    "help(f.readlines)"
   ]
  },
  {
   "cell_type": "code",
   "execution_count": 98,
   "id": "87329522",
   "metadata": {},
   "outputs": [
    {
     "name": "stdout",
     "output_type": "stream",
     "text": [
      "['Good morning\\n', ' what is your name']\n"
     ]
    }
   ],
   "source": [
    "with open('first.txt','r') as f:\n",
    "    print(f.readlines())"
   ]
  },
  {
   "cell_type": "code",
   "execution_count": null,
   "id": "dde3f637",
   "metadata": {},
   "outputs": [],
   "source": []
  }
 ],
 "metadata": {
  "kernelspec": {
   "display_name": "Python 3 (ipykernel)",
   "language": "python",
   "name": "python3"
  },
  "language_info": {
   "codemirror_mode": {
    "name": "ipython",
    "version": 3
   },
   "file_extension": ".py",
   "mimetype": "text/x-python",
   "name": "python",
   "nbconvert_exporter": "python",
   "pygments_lexer": "ipython3",
   "version": "3.10.4"
  }
 },
 "nbformat": 4,
 "nbformat_minor": 5
}
