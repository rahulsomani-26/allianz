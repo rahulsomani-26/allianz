{
 "cells": [
  {
   "cell_type": "markdown",
   "id": "1c3563a8",
   "metadata": {},
   "source": [
    "# Global and local variables "
   ]
  },
  {
   "cell_type": "code",
   "execution_count": 1,
   "id": "006f119b",
   "metadata": {},
   "outputs": [],
   "source": [
    "a = 10 "
   ]
  },
  {
   "cell_type": "code",
   "execution_count": 2,
   "id": "f59edf35",
   "metadata": {},
   "outputs": [
    {
     "data": {
      "text/plain": [
       "10"
      ]
     },
     "execution_count": 2,
     "metadata": {},
     "output_type": "execute_result"
    }
   ],
   "source": [
    "a"
   ]
  },
  {
   "cell_type": "code",
   "execution_count": 6,
   "id": "3644683a",
   "metadata": {},
   "outputs": [],
   "source": [
    "def my_func(n):\n",
    "    c = n**a\n",
    "    return c "
   ]
  },
  {
   "cell_type": "code",
   "execution_count": 7,
   "id": "196ee66e",
   "metadata": {},
   "outputs": [
    {
     "data": {
      "text/plain": [
       "<function __main__.my_func(n)>"
      ]
     },
     "execution_count": 7,
     "metadata": {},
     "output_type": "execute_result"
    }
   ],
   "source": [
    "my_func"
   ]
  },
  {
   "cell_type": "code",
   "execution_count": 8,
   "id": "ed5c12e3",
   "metadata": {},
   "outputs": [
    {
     "data": {
      "text/plain": [
       "1024"
      ]
     },
     "execution_count": 8,
     "metadata": {},
     "output_type": "execute_result"
    }
   ],
   "source": [
    "my_func(2)"
   ]
  },
  {
   "cell_type": "code",
   "execution_count": 10,
   "id": "5f1641b6",
   "metadata": {},
   "outputs": [],
   "source": [
    "def my_func():\n",
    "    print(\"Global a:\",a)\n",
    "    c = a**2\n",
    "    return c "
   ]
  },
  {
   "cell_type": "code",
   "execution_count": 11,
   "id": "378fdec4",
   "metadata": {},
   "outputs": [
    {
     "name": "stdout",
     "output_type": "stream",
     "text": [
      "Global a: 10\n"
     ]
    },
    {
     "data": {
      "text/plain": [
       "100"
      ]
     },
     "execution_count": 11,
     "metadata": {},
     "output_type": "execute_result"
    }
   ],
   "source": [
    "my_func()"
   ]
  },
  {
   "cell_type": "code",
   "execution_count": 12,
   "id": "993cbc92",
   "metadata": {},
   "outputs": [
    {
     "data": {
      "text/plain": [
       "10"
      ]
     },
     "execution_count": 12,
     "metadata": {},
     "output_type": "execute_result"
    }
   ],
   "source": [
    "a"
   ]
  },
  {
   "cell_type": "code",
   "execution_count": 13,
   "id": "a8afc613",
   "metadata": {},
   "outputs": [],
   "source": [
    "def my_func():\n",
    "    print(\"Global a:\",a)\n",
    "    c = a**2\n",
    "    a = 'python'\n",
    "    return c "
   ]
  },
  {
   "cell_type": "code",
   "execution_count": 14,
   "id": "271a3e34",
   "metadata": {},
   "outputs": [
    {
     "data": {
      "text/plain": [
       "10"
      ]
     },
     "execution_count": 14,
     "metadata": {},
     "output_type": "execute_result"
    }
   ],
   "source": [
    "a"
   ]
  },
  {
   "cell_type": "code",
   "execution_count": 15,
   "id": "78730548",
   "metadata": {},
   "outputs": [],
   "source": [
    "def my_func():\n",
    "    global a \n",
    "    a='python'\n",
    " \n",
    "    return 'world' "
   ]
  },
  {
   "cell_type": "code",
   "execution_count": 16,
   "id": "4645448c",
   "metadata": {},
   "outputs": [
    {
     "data": {
      "text/plain": [
       "10"
      ]
     },
     "execution_count": 16,
     "metadata": {},
     "output_type": "execute_result"
    }
   ],
   "source": [
    "a"
   ]
  },
  {
   "cell_type": "code",
   "execution_count": 17,
   "id": "787804f4",
   "metadata": {},
   "outputs": [
    {
     "data": {
      "text/plain": [
       "'world'"
      ]
     },
     "execution_count": 17,
     "metadata": {},
     "output_type": "execute_result"
    }
   ],
   "source": [
    "my_func()"
   ]
  },
  {
   "cell_type": "code",
   "execution_count": 18,
   "id": "ebfd3320",
   "metadata": {},
   "outputs": [
    {
     "data": {
      "text/plain": [
       "'python'"
      ]
     },
     "execution_count": 18,
     "metadata": {},
     "output_type": "execute_result"
    }
   ],
   "source": [
    "a"
   ]
  },
  {
   "cell_type": "code",
   "execution_count": 21,
   "id": "f3364417",
   "metadata": {},
   "outputs": [],
   "source": [
    "def my_func():\n",
    "    \"\"\"\"\"\"\n",
    "    global somevar\n",
    "    somevar = 50 \n",
    "    return "
   ]
  },
  {
   "cell_type": "code",
   "execution_count": 22,
   "id": "4f6e5d28",
   "metadata": {},
   "outputs": [
    {
     "ename": "NameError",
     "evalue": "name 'somevar' is not defined",
     "output_type": "error",
     "traceback": [
      "\u001b[1;31m---------------------------------------------------------------------------\u001b[0m",
      "\u001b[1;31mNameError\u001b[0m                                 Traceback (most recent call last)",
      "Input \u001b[1;32mIn [22]\u001b[0m, in \u001b[0;36m<cell line: 1>\u001b[1;34m()\u001b[0m\n\u001b[1;32m----> 1\u001b[0m \u001b[43msomevar\u001b[49m\n",
      "\u001b[1;31mNameError\u001b[0m: name 'somevar' is not defined"
     ]
    }
   ],
   "source": [
    "somevar"
   ]
  },
  {
   "cell_type": "code",
   "execution_count": 23,
   "id": "633b9384",
   "metadata": {},
   "outputs": [],
   "source": [
    "my_func()"
   ]
  },
  {
   "cell_type": "code",
   "execution_count": 24,
   "id": "00038a80",
   "metadata": {},
   "outputs": [
    {
     "data": {
      "text/plain": [
       "50"
      ]
     },
     "execution_count": 24,
     "metadata": {},
     "output_type": "execute_result"
    }
   ],
   "source": [
    "somevar"
   ]
  },
  {
   "cell_type": "code",
   "execution_count": 45,
   "id": "18b8e042",
   "metadata": {},
   "outputs": [],
   "source": [
    "a = 10 "
   ]
  },
  {
   "cell_type": "code",
   "execution_count": 46,
   "id": "e3bee231",
   "metadata": {},
   "outputs": [],
   "source": [
    "def my_func():\n",
    "    print(a)\n",
    "    a=23\n",
    "   \n"
   ]
  },
  {
   "cell_type": "code",
   "execution_count": 47,
   "id": "d93d5973",
   "metadata": {},
   "outputs": [
    {
     "name": "stdout",
     "output_type": "stream",
     "text": [
      "10\n"
     ]
    }
   ],
   "source": [
    "my_func()"
   ]
  },
  {
   "cell_type": "markdown",
   "id": "3de3b464",
   "metadata": {},
   "source": [
    "# Inner Functions "
   ]
  },
  {
   "cell_type": "code",
   "execution_count": 34,
   "id": "87a193ad",
   "metadata": {},
   "outputs": [],
   "source": [
    "def outer():\n",
    "    print(\"Within outer\")\n",
    "    def inner():\n",
    "        print(\"within inner\")\n",
    "    inner()"
   ]
  },
  {
   "cell_type": "code",
   "execution_count": 35,
   "id": "0a120ce7",
   "metadata": {},
   "outputs": [
    {
     "name": "stdout",
     "output_type": "stream",
     "text": [
      "Within outer\n",
      "within inner\n"
     ]
    }
   ],
   "source": [
    "outer()"
   ]
  },
  {
   "cell_type": "code",
   "execution_count": 38,
   "id": "7fdf1256",
   "metadata": {},
   "outputs": [],
   "source": [
    "def outer():\n",
    "    print(\"within outer\")\n",
    "    a = 10 \n",
    "    def inner():\n",
    "        print(\"Within inner\")\n",
    "        print(a)\n",
    "    inner()"
   ]
  },
  {
   "cell_type": "code",
   "execution_count": 39,
   "id": "d3935655",
   "metadata": {},
   "outputs": [
    {
     "name": "stdout",
     "output_type": "stream",
     "text": [
      "within outer\n",
      "Within inner\n",
      "10\n"
     ]
    }
   ],
   "source": [
    "outer()"
   ]
  },
  {
   "cell_type": "code",
   "execution_count": 41,
   "id": "134f3d61",
   "metadata": {},
   "outputs": [],
   "source": [
    "a=100\n",
    "def outer():\n",
    "    print(\"Within {}\".format(__name__))\n",
    "    global a \n",
    "    a = 10000\n",
    "    print(a)\n",
    "    def inner():\n",
    "        a = 'python'\n",
    "        print(a)\n",
    "    inner()\n"
   ]
  },
  {
   "cell_type": "code",
   "execution_count": 42,
   "id": "fe8a0aa1",
   "metadata": {},
   "outputs": [
    {
     "data": {
      "text/plain": [
       "100"
      ]
     },
     "execution_count": 42,
     "metadata": {},
     "output_type": "execute_result"
    }
   ],
   "source": [
    "a\n"
   ]
  },
  {
   "cell_type": "code",
   "execution_count": 43,
   "id": "189930c2",
   "metadata": {},
   "outputs": [
    {
     "name": "stdout",
     "output_type": "stream",
     "text": [
      "Within __main__\n",
      "10000\n",
      "python\n"
     ]
    }
   ],
   "source": [
    "outer()"
   ]
  },
  {
   "cell_type": "code",
   "execution_count": 44,
   "id": "d0f812a9",
   "metadata": {},
   "outputs": [
    {
     "data": {
      "text/plain": [
       "10000"
      ]
     },
     "execution_count": 44,
     "metadata": {},
     "output_type": "execute_result"
    }
   ],
   "source": [
    "a"
   ]
  },
  {
   "cell_type": "code",
   "execution_count": 48,
   "id": "54d9fc90",
   "metadata": {},
   "outputs": [
    {
     "ename": "NameError",
     "evalue": "name 'b' is not defined",
     "output_type": "error",
     "traceback": [
      "\u001b[1;31m---------------------------------------------------------------------------\u001b[0m",
      "\u001b[1;31mNameError\u001b[0m                                 Traceback (most recent call last)",
      "Input \u001b[1;32mIn [48]\u001b[0m, in \u001b[0;36m<cell line: 1>\u001b[1;34m()\u001b[0m\n\u001b[1;32m----> 1\u001b[0m \u001b[38;5;28mprint\u001b[39m(\u001b[43mb\u001b[49m)\n\u001b[0;32m      2\u001b[0m b \u001b[38;5;241m=\u001b[39m \u001b[38;5;241m20\u001b[39m\n",
      "\u001b[1;31mNameError\u001b[0m: name 'b' is not defined"
     ]
    }
   ],
   "source": [
    "print(b)\n",
    "b = 20 "
   ]
  },
  {
   "cell_type": "code",
   "execution_count": 49,
   "id": "19e86e21",
   "metadata": {},
   "outputs": [],
   "source": [
    "a=100\n",
    "def outer():\n",
    "    print(\"hello\")\n",
    "    a = 10000\n",
    "    print(a)\n",
    "    def inner():\n",
    "        nonlocal a\n",
    "        a = 'python'\n",
    "        print(a)\n",
    "    inner()"
   ]
  },
  {
   "cell_type": "code",
   "execution_count": 50,
   "id": "5f81583b",
   "metadata": {},
   "outputs": [
    {
     "data": {
      "text/plain": [
       "100"
      ]
     },
     "execution_count": 50,
     "metadata": {},
     "output_type": "execute_result"
    }
   ],
   "source": [
    "a"
   ]
  },
  {
   "cell_type": "code",
   "execution_count": 51,
   "id": "f81242b3",
   "metadata": {},
   "outputs": [
    {
     "name": "stdout",
     "output_type": "stream",
     "text": [
      "hello\n",
      "10000\n",
      "python\n"
     ]
    }
   ],
   "source": [
    "outer()"
   ]
  },
  {
   "cell_type": "code",
   "execution_count": 52,
   "id": "3e70e44d",
   "metadata": {},
   "outputs": [
    {
     "data": {
      "text/plain": [
       "100"
      ]
     },
     "execution_count": 52,
     "metadata": {},
     "output_type": "execute_result"
    }
   ],
   "source": [
    "a"
   ]
  },
  {
   "cell_type": "code",
   "execution_count": 53,
   "id": "2a7c9818",
   "metadata": {},
   "outputs": [],
   "source": [
    "def outer():\n",
    "    x = 'java'\n",
    "    print(x)\n",
    "    def inner():\n",
    "        x = 'python'\n",
    "        print(x)\n",
    "    inner()\n",
    "    print(x)"
   ]
  },
  {
   "cell_type": "code",
   "execution_count": 54,
   "id": "78fcff93",
   "metadata": {},
   "outputs": [
    {
     "name": "stdout",
     "output_type": "stream",
     "text": [
      "java\n",
      "python\n",
      "java\n"
     ]
    }
   ],
   "source": [
    "outer()"
   ]
  },
  {
   "cell_type": "code",
   "execution_count": 57,
   "id": "1ba75d8c",
   "metadata": {},
   "outputs": [
    {
     "ename": "SyntaxError",
     "evalue": "no binding for nonlocal 'x' found (4031293815.py, line 4)",
     "output_type": "error",
     "traceback": [
      "\u001b[1;36m  Input \u001b[1;32mIn [57]\u001b[1;36m\u001b[0m\n\u001b[1;33m    nonlocal x\u001b[0m\n\u001b[1;37m    ^\u001b[0m\n\u001b[1;31mSyntaxError\u001b[0m\u001b[1;31m:\u001b[0m no binding for nonlocal 'x' found\n"
     ]
    }
   ],
   "source": [
    "x = 'global'\n",
    "def outer():\n",
    "    def inner():\n",
    "        nonlocal x\n",
    "        x = 'python'\n",
    "        print(x)\n",
    "    inner()\n",
    "    print(x)"
   ]
  },
  {
   "cell_type": "code",
   "execution_count": 59,
   "id": "bc8694de",
   "metadata": {},
   "outputs": [
    {
     "name": "stdout",
     "output_type": "stream",
     "text": [
      "java\n",
      "python\n",
      "python\n"
     ]
    }
   ],
   "source": [
    "outer()"
   ]
  },
  {
   "cell_type": "code",
   "execution_count": 60,
   "id": "a4dcb20c",
   "metadata": {},
   "outputs": [
    {
     "data": {
      "text/plain": [
       "'global'"
      ]
     },
     "execution_count": 60,
     "metadata": {},
     "output_type": "execute_result"
    }
   ],
   "source": [
    "x"
   ]
  },
  {
   "cell_type": "code",
   "execution_count": 61,
   "id": "01141e0c",
   "metadata": {},
   "outputs": [],
   "source": [
    "x = 'global'\n",
    "def outer():\n",
    "    def inner():\n",
    "        global x\n",
    "        x = 'python'\n",
    "        print(x)\n",
    "    inner()\n",
    "    print(x)"
   ]
  },
  {
   "cell_type": "code",
   "execution_count": 62,
   "id": "dce90b98",
   "metadata": {},
   "outputs": [
    {
     "name": "stdout",
     "output_type": "stream",
     "text": [
      "python\n",
      "python\n"
     ]
    }
   ],
   "source": [
    "outer()"
   ]
  },
  {
   "cell_type": "code",
   "execution_count": 63,
   "id": "22e5093d",
   "metadata": {},
   "outputs": [
    {
     "data": {
      "text/plain": [
       "'python'"
      ]
     },
     "execution_count": 63,
     "metadata": {},
     "output_type": "execute_result"
    }
   ],
   "source": [
    "x"
   ]
  },
  {
   "cell_type": "code",
   "execution_count": 64,
   "id": "971ceb45",
   "metadata": {},
   "outputs": [
    {
     "ename": "SyntaxError",
     "evalue": "no binding for nonlocal 'x' found (4031293815.py, line 4)",
     "output_type": "error",
     "traceback": [
      "\u001b[1;36m  Input \u001b[1;32mIn [64]\u001b[1;36m\u001b[0m\n\u001b[1;33m    nonlocal x\u001b[0m\n\u001b[1;37m    ^\u001b[0m\n\u001b[1;31mSyntaxError\u001b[0m\u001b[1;31m:\u001b[0m no binding for nonlocal 'x' found\n"
     ]
    }
   ],
   "source": [
    "x = 'global'\n",
    "def outer():\n",
    "    def inner():\n",
    "        nonlocal x\n",
    "        x = 'python'\n",
    "        print(x)\n",
    "    inner()\n",
    "    print(x)"
   ]
  },
  {
   "cell_type": "code",
   "execution_count": 65,
   "id": "414dbcc5",
   "metadata": {},
   "outputs": [
    {
     "ename": "SyntaxError",
     "evalue": "no binding for nonlocal 'x' found (1276826486.py, line 3)",
     "output_type": "error",
     "traceback": [
      "\u001b[1;36m  Input \u001b[1;32mIn [65]\u001b[1;36m\u001b[0m\n\u001b[1;33m    nonlocal x\u001b[0m\n\u001b[1;37m    ^\u001b[0m\n\u001b[1;31mSyntaxError\u001b[0m\u001b[1;31m:\u001b[0m no binding for nonlocal 'x' found\n"
     ]
    }
   ],
   "source": [
    "x = 'global'\n",
    "def outer():\n",
    "    nonlocal x\n",
    "    x='python'\n",
    "    def inner():\n",
    "        x = 'java'\n",
    "        print(x)\n",
    "    inner()\n",
    "    print(x)"
   ]
  },
  {
   "cell_type": "code",
   "execution_count": 67,
   "id": "e64f6ca5",
   "metadata": {},
   "outputs": [],
   "source": [
    "def outer():\n",
    "    x  = 'python'\n",
    "    print(x)\n",
    "    def inner1():\n",
    "        def inner2():\n",
    "            nonlocal x\n",
    "            x = 'java'\n",
    "            print(x)\n",
    "        inner2()\n",
    "    inner1()\n",
    "    print(x)"
   ]
  },
  {
   "cell_type": "code",
   "execution_count": 68,
   "id": "25eb3e05",
   "metadata": {},
   "outputs": [
    {
     "name": "stdout",
     "output_type": "stream",
     "text": [
      "python\n",
      "java\n",
      "java\n"
     ]
    }
   ],
   "source": [
    "outer()"
   ]
  },
  {
   "cell_type": "markdown",
   "id": "37dd409c",
   "metadata": {},
   "source": [
    "`Create or initialize a dictionary of alphabets all with an initial value of 0.\n",
    "In how many ways can you do so ?` "
   ]
  },
  {
   "cell_type": "code",
   "execution_count": 77,
   "id": "7b50d6af",
   "metadata": {},
   "outputs": [],
   "source": [
    "d= dict(zip('abcdefghijklmnopqrstuvwxyz',[0 for _ in range(26)]))"
   ]
  },
  {
   "cell_type": "code",
   "execution_count": 78,
   "id": "3403dc6f",
   "metadata": {},
   "outputs": [
    {
     "data": {
      "text/plain": [
       "{'a': 0,\n",
       " 'b': 0,\n",
       " 'c': 0,\n",
       " 'd': 0,\n",
       " 'e': 0,\n",
       " 'f': 0,\n",
       " 'g': 0,\n",
       " 'h': 0,\n",
       " 'i': 0,\n",
       " 'j': 0,\n",
       " 'k': 0,\n",
       " 'l': 0,\n",
       " 'm': 0,\n",
       " 'n': 0,\n",
       " 'o': 0,\n",
       " 'p': 0,\n",
       " 'q': 0,\n",
       " 'r': 0,\n",
       " 's': 0,\n",
       " 't': 0,\n",
       " 'u': 0,\n",
       " 'v': 0,\n",
       " 'w': 0,\n",
       " 'x': 0,\n",
       " 'y': 0,\n",
       " 'z': 0}"
      ]
     },
     "execution_count": 78,
     "metadata": {},
     "output_type": "execute_result"
    }
   ],
   "source": [
    "d"
   ]
  },
  {
   "cell_type": "markdown",
   "id": "869162d0",
   "metadata": {},
   "source": [
    "# List Comprehensions \n",
    "\n",
    "` concise way of creating lists `\n"
   ]
  },
  {
   "cell_type": "code",
   "execution_count": 82,
   "id": "660ed4ce",
   "metadata": {},
   "outputs": [],
   "source": [
    "def squared():\n",
    "    l = []\n",
    "    for i in range(10):\n",
    "            l.append(i**2)\n",
    "    return l "
   ]
  },
  {
   "cell_type": "code",
   "execution_count": 83,
   "id": "cda6abb6",
   "metadata": {},
   "outputs": [
    {
     "data": {
      "text/plain": [
       "[0, 1, 4, 9, 16, 25, 36, 49, 64, 81]"
      ]
     },
     "execution_count": 83,
     "metadata": {},
     "output_type": "execute_result"
    }
   ],
   "source": [
    "squared()"
   ]
  },
  {
   "cell_type": "code",
   "execution_count": 84,
   "id": "e50a9d37",
   "metadata": {},
   "outputs": [
    {
     "data": {
      "text/plain": [
       "[0, 1, 4, 9, 16, 25, 36, 49, 64, 81]"
      ]
     },
     "execution_count": 84,
     "metadata": {},
     "output_type": "execute_result"
    }
   ],
   "source": [
    "[i**2 for i in range(10)]"
   ]
  },
  {
   "cell_type": "code",
   "execution_count": 85,
   "id": "00b68fc7",
   "metadata": {},
   "outputs": [
    {
     "data": {
      "text/plain": [
       "[1, 9, 25, 49, 81]"
      ]
     },
     "execution_count": 85,
     "metadata": {},
     "output_type": "execute_result"
    }
   ],
   "source": [
    "[i**2 for i in range(10) if i%2!=0]"
   ]
  },
  {
   "cell_type": "code",
   "execution_count": 89,
   "id": "b7775b66",
   "metadata": {},
   "outputs": [
    {
     "data": {
      "text/plain": [
       "[[2, 3],\n",
       " [2, 3, 2, 3],\n",
       " [2, 3, 2, 3, 2, 3],\n",
       " [2, 3, 2, 3, 2, 3, 2, 3],\n",
       " [2, 3, 2, 3, 2, 3, 2, 3, 2, 3],\n",
       " [2, 3, 2, 3, 2, 3, 2, 3, 2, 3, 2, 3],\n",
       " [2, 3, 2, 3, 2, 3, 2, 3, 2, 3, 2, 3, 2, 3],\n",
       " [2, 3, 2, 3, 2, 3, 2, 3, 2, 3, 2, 3, 2, 3, 2, 3],\n",
       " [2, 3, 2, 3, 2, 3, 2, 3, 2, 3, 2, 3, 2, 3, 2, 3, 2, 3]]"
      ]
     },
     "execution_count": 89,
     "metadata": {},
     "output_type": "execute_result"
    }
   ],
   "source": [
    "[[2,3]*i for i in range(1,10)]"
   ]
  },
  {
   "cell_type": "code",
   "execution_count": 88,
   "id": "4d3e5901",
   "metadata": {},
   "outputs": [
    {
     "data": {
      "text/plain": [
       "[[2, 3, 2, 3, 2, 3, 2, 3, 2, 3, 2, 3, 2, 3, 2, 3, 2, 3, 2, 3],\n",
       " [2, 3, 2, 3, 2, 3, 2, 3, 2, 3, 2, 3, 2, 3, 2, 3, 2, 3],\n",
       " [2, 3, 2, 3, 2, 3, 2, 3, 2, 3, 2, 3, 2, 3, 2, 3],\n",
       " [2, 3, 2, 3, 2, 3, 2, 3, 2, 3, 2, 3, 2, 3],\n",
       " [2, 3, 2, 3, 2, 3, 2, 3, 2, 3, 2, 3],\n",
       " [2, 3, 2, 3, 2, 3, 2, 3, 2, 3],\n",
       " [2, 3, 2, 3, 2, 3, 2, 3],\n",
       " [2, 3, 2, 3, 2, 3],\n",
       " [2, 3, 2, 3],\n",
       " [2, 3]]"
      ]
     },
     "execution_count": 88,
     "metadata": {},
     "output_type": "execute_result"
    }
   ],
   "source": [
    "[[2,3]*i for i in range(10,0,-1)]"
   ]
  },
  {
   "cell_type": "markdown",
   "id": "88eedbcb",
   "metadata": {},
   "source": [
    "##Question:\n",
    "\n",
    "``\n",
    "    input : colors = ['black','white']\n",
    "            sizes = ['S','M','L']``\n",
    "            \n",
    "    output: [('black','S'), and all combinations ]\n",
    "        \n",
    " "
   ]
  },
  {
   "cell_type": "code",
   "execution_count": 91,
   "id": "7ce8f246",
   "metadata": {},
   "outputs": [],
   "source": [
    "l=[[]]*5"
   ]
  },
  {
   "cell_type": "code",
   "execution_count": 92,
   "id": "b29db45a",
   "metadata": {},
   "outputs": [
    {
     "data": {
      "text/plain": [
       "[[], [], [], [], []]"
      ]
     },
     "execution_count": 92,
     "metadata": {},
     "output_type": "execute_result"
    }
   ],
   "source": [
    "l"
   ]
  },
  {
   "cell_type": "code",
   "execution_count": 93,
   "id": "a7def866",
   "metadata": {},
   "outputs": [],
   "source": [
    "l[0].append(10)"
   ]
  },
  {
   "cell_type": "code",
   "execution_count": 94,
   "id": "10d1cf31",
   "metadata": {},
   "outputs": [
    {
     "data": {
      "text/plain": [
       "[[10], [10], [10], [10], [10]]"
      ]
     },
     "execution_count": 94,
     "metadata": {},
     "output_type": "execute_result"
    }
   ],
   "source": [
    "l"
   ]
  },
  {
   "cell_type": "code",
   "execution_count": 96,
   "id": "2a23c386",
   "metadata": {},
   "outputs": [],
   "source": [
    "import keyboard"
   ]
  },
  {
   "cell_type": "code",
   "execution_count": 97,
   "id": "b224daf0",
   "metadata": {},
   "outputs": [
    {
     "name": "stdout",
     "output_type": "stream",
     "text": [
      "['KEY_DOWN', 'KEY_UP', 'KeyboardEvent', '_Event', '_GenericListener', '_KeyboardListener', '_Lock', '_State', '_Thread', '_UninterruptibleEvent', '__builtins__', '__cached__', '__doc__', '__file__', '__loader__', '__name__', '__package__', '__path__', '__spec__', '_add_hotkey_step', '_canonical_names', '_collections', '_generic', '_hooks', '_hotkeys', '_is_list', '_is_number', '_is_str', '_itertools', '_keyboard_event', '_listener', '_logically_pressed_keys', '_modifier_scan_codes', '_os_keyboard', '_physically_pressed_keys', '_platform', '_pressed_events', '_pressed_events_lock', '_print_function', '_queue', '_re', '_recording', '_time', '_winkeyboard', '_word_listeners', 'add_abbreviation', 'add_hotkey', 'add_word_listener', 'all_modifiers', 'block_key', 'call_later', 'clear_all_hotkeys', 'clear_hotkey', 'get_hotkey_name', 'get_typed_strings', 'hook', 'hook_key', 'is_modifier', 'is_pressed', 'key_to_scan_codes', 'normalize_name', 'on_press', 'on_press_key', 'on_release', 'on_release_key', 'parse_hotkey', 'parse_hotkey_combinations', 'play', 'press', 'press_and_release', 'read_event', 'read_hotkey', 'read_key', 'record', 'register_abbreviation', 'register_hotkey', 'register_word_listener', 'release', 'remap_hotkey', 'remap_key', 'remove_abbreviation', 'remove_all_hotkeys', 'remove_hotkey', 'remove_word_listener', 'replay', 'restore_modifiers', 'restore_state', 'send', 'sided_modifiers', 'start_recording', 'stash_state', 'stop_recording', 'unblock_key', 'unhook', 'unhook_all', 'unhook_all_hotkeys', 'unhook_key', 'unregister_all_hotkeys', 'unregister_hotkey', 'unremap_hotkey', 'unremap_key', 'version', 'wait', 'write']\n"
     ]
    }
   ],
   "source": [
    "print(dir(keyboard))"
   ]
  },
  {
   "cell_type": "code",
   "execution_count": 98,
   "id": "f0a9ad58",
   "metadata": {},
   "outputs": [
    {
     "name": "stdout",
     "output_type": "stream",
     "text": [
      "Help on package keyboard:\n",
      "\n",
      "NAME\n",
      "    keyboard\n",
      "\n",
      "DESCRIPTION\n",
      "    keyboard\n",
      "    ========\n",
      "    \n",
      "    Take full control of your keyboard with this small Python library. Hook global events, register hotkeys, simulate key presses and much more.\n",
      "    \n",
      "    ## Features\n",
      "    \n",
      "    - **Global event hook** on all keyboards (captures keys regardless of focus).\n",
      "    - **Listen** and **send** keyboard events.\n",
      "    - Works with **Windows** and **Linux** (requires sudo), with experimental **OS X** support (thanks @glitchassassin!).\n",
      "    - **Pure Python**, no C modules to be compiled.\n",
      "    - **Zero dependencies**. Trivial to install and deploy, just copy the files.\n",
      "    - **Python 2 and 3**.\n",
      "    - Complex hotkey support (e.g. `ctrl+shift+m, ctrl+space`) with controllable timeout.\n",
      "    - Includes **high level API** (e.g. [record](#keyboard.record) and [play](#keyboard.play), [add_abbreviation](#keyboard.add_abbreviation)).\n",
      "    - Maps keys as they actually are in your layout, with **full internationalization support** (e.g. `Ctrl+ç`).\n",
      "    - Events automatically captured in separate thread, doesn't block main program.\n",
      "    - Tested and documented.\n",
      "    - Doesn't break accented dead keys (I'm looking at you, pyHook).\n",
      "    - Mouse support available via project [mouse](https://github.com/boppreh/mouse) (`pip install mouse`).\n",
      "    \n",
      "    ## Usage\n",
      "    \n",
      "    Install the [PyPI package](https://pypi.python.org/pypi/keyboard/):\n",
      "    \n",
      "        pip install keyboard\n",
      "    \n",
      "    or clone the repository (no installation required, source files are sufficient):\n",
      "    \n",
      "        git clone https://github.com/boppreh/keyboard\n",
      "    \n",
      "    or [download and extract the zip](https://github.com/boppreh/keyboard/archive/master.zip) into your project folder.\n",
      "    \n",
      "    Then check the [API docs below](https://github.com/boppreh/keyboard#api) to see what features are available.\n",
      "    \n",
      "    \n",
      "    ## Example\n",
      "    \n",
      "    \n",
      "    ```py\n",
      "    import keyboard\n",
      "    \n",
      "    keyboard.press_and_release('shift+s, space')\n",
      "    \n",
      "    keyboard.write('The quick brown fox jumps over the lazy dog.')\n",
      "    \n",
      "    keyboard.add_hotkey('ctrl+shift+a', print, args=('triggered', 'hotkey'))\n",
      "    \n",
      "    # Press PAGE UP then PAGE DOWN to type \"foobar\".\n",
      "    keyboard.add_hotkey('page up, page down', lambda: keyboard.write('foobar'))\n",
      "    \n",
      "    # Blocks until you press esc.\n",
      "    keyboard.wait('esc')\n",
      "    \n",
      "    # Record events until 'esc' is pressed.\n",
      "    recorded = keyboard.record(until='esc')\n",
      "    # Then replay back at three times the speed.\n",
      "    keyboard.play(recorded, speed_factor=3)\n",
      "    \n",
      "    # Type @@ then press space to replace with abbreviation.\n",
      "    keyboard.add_abbreviation('@@', 'my.long.email@example.com')\n",
      "    \n",
      "    # Block forever, like `while True`.\n",
      "    keyboard.wait()\n",
      "    ```\n",
      "    \n",
      "    ## Known limitations:\n",
      "    \n",
      "    - Events generated under Windows don't report device id (`event.device == None`). [#21](https://github.com/boppreh/keyboard/issues/21)\n",
      "    - Media keys on Linux may appear nameless (scan-code only) or not at all. [#20](https://github.com/boppreh/keyboard/issues/20)\n",
      "    - Key suppression/blocking only available on Windows. [#22](https://github.com/boppreh/keyboard/issues/22)\n",
      "    - To avoid depending on X, the Linux parts reads raw device files (`/dev/input/input*`)\n",
      "    but this requires root.\n",
      "    - Other applications, such as some games, may register hooks that swallow all \n",
      "    key events. In this case `keyboard` will be unable to report events.\n",
      "    - This program makes no attempt to hide itself, so don't use it for keyloggers or online gaming bots. Be responsible.\n",
      "\n",
      "PACKAGE CONTENTS\n",
      "    __main__\n",
      "    _canonical_names\n",
      "    _darwinkeyboard\n",
      "    _darwinmouse\n",
      "    _generic\n",
      "    _keyboard_event\n",
      "    _keyboard_tests\n",
      "    _mouse_event\n",
      "    _mouse_tests\n",
      "    _nixcommon\n",
      "    _nixkeyboard\n",
      "    _nixmouse\n",
      "    _winkeyboard\n",
      "    _winmouse\n",
      "    mouse\n",
      "\n",
      "SUBMODULES\n",
      "    _os_keyboard\n",
      "\n",
      "FUNCTIONS\n",
      "    add_abbreviation(source_text, replacement_text, match_suffix=False, timeout=2)\n",
      "        Registers a hotkey that replaces one typed text with another. For example\n",
      "        \n",
      "            add_abbreviation('tm', u'™')\n",
      "        \n",
      "        Replaces every \"tm\" followed by a space with a ™ symbol (and no space). The\n",
      "        replacement is done by sending backspace events.\n",
      "        \n",
      "        - `match_suffix` defines if endings of words should also be checked instead\n",
      "        of only whole words. E.g. if true, typing 'carpet'+space will trigger the\n",
      "        listener for 'pet'. Defaults to false, only whole words are checked.\n",
      "        - `timeout` is the maximum number of seconds between typed characters before\n",
      "        the current word is discarded. Defaults to 2 seconds.\n",
      "        \n",
      "        For more details see `add_word_listener`.\n",
      "    \n",
      "    add_hotkey(hotkey, callback, args=(), suppress=False, timeout=1, trigger_on_release=False)\n",
      "        Invokes a callback every time a hotkey is pressed. The hotkey must\n",
      "        be in the format `ctrl+shift+a, s`. This would trigger when the user holds\n",
      "        ctrl, shift and \"a\" at once, releases, and then presses \"s\". To represent\n",
      "        literal commas, pluses, and spaces, use their names ('comma', 'plus',\n",
      "        'space').\n",
      "        \n",
      "        - `args` is an optional list of arguments to passed to the callback during\n",
      "        each invocation.\n",
      "        - `suppress` defines if successful triggers should block the keys from being\n",
      "        sent to other programs.\n",
      "        - `timeout` is the amount of seconds allowed to pass between key presses.\n",
      "        - `trigger_on_release` if true, the callback is invoked on key release instead\n",
      "        of key press.\n",
      "        \n",
      "        The event handler function is returned. To remove a hotkey call\n",
      "        `remove_hotkey(hotkey)` or `remove_hotkey(handler)`.\n",
      "        before the hotkey state is reset.\n",
      "        \n",
      "        Note: hotkeys are activated when the last key is *pressed*, not released.\n",
      "        Note: the callback is executed in a separate thread, asynchronously. For an\n",
      "        example of how to use a callback synchronously, see `wait`.\n",
      "        \n",
      "        Examples:\n",
      "        \n",
      "            # Different but equivalent ways to listen for a spacebar key press.\n",
      "            add_hotkey(' ', print, args=['space was pressed'])\n",
      "            add_hotkey('space', print, args=['space was pressed'])\n",
      "            add_hotkey('Space', print, args=['space was pressed'])\n",
      "            # Here 57 represents the keyboard code for spacebar; so you will be\n",
      "            # pressing 'spacebar', not '57' to activate the print function.\n",
      "            add_hotkey(57, print, args=['space was pressed'])\n",
      "        \n",
      "            add_hotkey('ctrl+q', quit)\n",
      "            add_hotkey('ctrl+alt+enter, space', some_callback)\n",
      "    \n",
      "    add_word_listener(word, callback, triggers=['space'], match_suffix=False, timeout=2)\n",
      "        Invokes a callback every time a sequence of characters is typed (e.g. 'pet')\n",
      "        and followed by a trigger key (e.g. space). Modifiers (e.g. alt, ctrl,\n",
      "        shift) are ignored.\n",
      "        \n",
      "        - `word` the typed text to be matched. E.g. 'pet'.\n",
      "        - `callback` is an argument-less function to be invoked each time the word\n",
      "        is typed.\n",
      "        - `triggers` is the list of keys that will cause a match to be checked. If\n",
      "        the user presses some key that is not a character (len>1) and not in\n",
      "        triggers, the characters so far will be discarded. By default the trigger\n",
      "        is only `space`.\n",
      "        - `match_suffix` defines if endings of words should also be checked instead\n",
      "        of only whole words. E.g. if true, typing 'carpet'+space will trigger the\n",
      "        listener for 'pet'. Defaults to false, only whole words are checked.\n",
      "        - `timeout` is the maximum number of seconds between typed characters before\n",
      "        the current word is discarded. Defaults to 2 seconds.\n",
      "        \n",
      "        Returns the event handler created. To remove a word listener use\n",
      "        `remove_word_listener(word)` or `remove_word_listener(handler)`.\n",
      "        \n",
      "        Note: all actions are performed on key down. Key up events are ignored.\n",
      "        Note: word matches are **case sensitive**.\n",
      "    \n",
      "    block_key(key)\n",
      "        Suppresses all key events of the given key, regardless of modifiers.\n",
      "    \n",
      "    call_later(fn, args=(), delay=0.001)\n",
      "        Calls the provided function in a new thread after waiting some time.\n",
      "        Useful for giving the system some time to process an event, without blocking\n",
      "        the current execution flow.\n",
      "    \n",
      "    clear_all_hotkeys = unhook_all_hotkeys()\n",
      "        Removes all keyboard hotkeys in use, including abbreviations, word listeners,\n",
      "        `record`ers and `wait`s.\n",
      "    \n",
      "    clear_hotkey = remove_hotkey(hotkey_or_callback)\n",
      "        Removes a previously hooked hotkey. Must be called with the value returned\n",
      "        by `add_hotkey`.\n",
      "    \n",
      "    get_hotkey_name(names=None)\n",
      "        Returns a string representation of hotkey from the given key names, or\n",
      "        the currently pressed keys if not given.  This function:\n",
      "        \n",
      "        - normalizes names;\n",
      "        - removes \"left\" and \"right\" prefixes;\n",
      "        - replaces the \"+\" key name with \"plus\" to avoid ambiguity;\n",
      "        - puts modifier keys first, in a standardized order;\n",
      "        - sort remaining keys;\n",
      "        - finally, joins everything with \"+\".\n",
      "        \n",
      "        Example:\n",
      "        \n",
      "            get_hotkey_name(['+', 'left ctrl', 'shift'])\n",
      "            # \"ctrl+shift+plus\"\n",
      "    \n",
      "    get_typed_strings(events, allow_backspace=True)\n",
      "        Given a sequence of events, tries to deduce what strings were typed.\n",
      "        Strings are separated when a non-textual key is pressed (such as tab or\n",
      "        enter). Characters are converted to uppercase according to shift and\n",
      "        capslock status. If `allow_backspace` is True, backspaces remove the last\n",
      "        character typed.\n",
      "        \n",
      "        This function is a generator, so you can pass an infinite stream of events\n",
      "        and convert them to strings in real time.\n",
      "        \n",
      "        Note this functions is merely an heuristic. Windows for example keeps per-\n",
      "        process keyboard state such as keyboard layout, and this information is not\n",
      "        available for our hooks.\n",
      "        \n",
      "            get_type_strings(record()) #-> ['This is what', 'I recorded', '']\n",
      "    \n",
      "    hook(callback, suppress=False, on_remove=<function <lambda> at 0x0000015B2185C040>)\n",
      "        Installs a global listener on all available keyboards, invoking `callback`\n",
      "        each time a key is pressed or released.\n",
      "        \n",
      "        The event passed to the callback is of type `keyboard.KeyboardEvent`,\n",
      "        with the following attributes:\n",
      "        \n",
      "        - `name`: an Unicode representation of the character (e.g. \"&\") or\n",
      "        description (e.g.  \"space\"). The name is always lower-case.\n",
      "        - `scan_code`: number representing the physical key, e.g. 55.\n",
      "        - `time`: timestamp of the time the event occurred, with as much precision\n",
      "        as given by the OS.\n",
      "        \n",
      "        Returns the given callback for easier development.\n",
      "    \n",
      "    hook_key(key, callback, suppress=False)\n",
      "        Hooks key up and key down events for a single key. Returns the event handler\n",
      "        created. To remove a hooked key use `unhook_key(key)` or\n",
      "        `unhook_key(handler)`.\n",
      "        \n",
      "        Note: this function shares state with hotkeys, so `clear_all_hotkeys`\n",
      "        affects it as well.\n",
      "    \n",
      "    is_modifier(key)\n",
      "        Returns True if `key` is a scan code or name of a modifier key.\n",
      "    \n",
      "    is_pressed(hotkey)\n",
      "        Returns True if the key is pressed.\n",
      "        \n",
      "            is_pressed(57) #-> True\n",
      "            is_pressed('space') #-> True\n",
      "            is_pressed('ctrl+space') #-> True\n",
      "    \n",
      "    key_to_scan_codes(key, error_if_missing=True)\n",
      "        Returns a list of scan codes associated with this key (name or scan code).\n",
      "    \n",
      "    on_press(callback, suppress=False)\n",
      "        Invokes `callback` for every KEY_DOWN event. For details see `hook`.\n",
      "    \n",
      "    on_press_key(key, callback, suppress=False)\n",
      "        Invokes `callback` for KEY_DOWN event related to the given key. For details see `hook`.\n",
      "    \n",
      "    on_release(callback, suppress=False)\n",
      "        Invokes `callback` for every KEY_UP event. For details see `hook`.\n",
      "    \n",
      "    on_release_key(key, callback, suppress=False)\n",
      "        Invokes `callback` for KEY_UP event related to the given key. For details see `hook`.\n",
      "    \n",
      "    parse_hotkey(hotkey)\n",
      "        Parses a user-provided hotkey into nested tuples representing the\n",
      "        parsed structure, with the bottom values being lists of scan codes.\n",
      "        Also accepts raw scan codes, which are then wrapped in the required\n",
      "        number of nestings.\n",
      "        \n",
      "        Example:\n",
      "        \n",
      "            parse_hotkey(\"alt+shift+a, alt+b, c\")\n",
      "            #    Keys:    ^~^ ^~~~^ ^  ^~^ ^  ^\n",
      "            #    Steps:   ^~~~~~~~~~^  ^~~~^  ^\n",
      "        \n",
      "            # ((alt_codes, shift_codes, a_codes), (alt_codes, b_codes), (c_codes,))\n",
      "    \n",
      "    parse_hotkey_combinations(hotkey)\n",
      "        Parses a user-provided hotkey. Differently from `parse_hotkey`,\n",
      "        instead of each step being a list of the different scan codes for each key,\n",
      "        each step is a list of all possible combinations of those scan codes.\n",
      "    \n",
      "    play(events, speed_factor=1.0)\n",
      "        Plays a sequence of recorded events, maintaining the relative time\n",
      "        intervals. If speed_factor is <= 0 then the actions are replayed as fast\n",
      "        as the OS allows. Pairs well with `record()`.\n",
      "        \n",
      "        Note: the current keyboard state is cleared at the beginning and restored at\n",
      "        the end of the function.\n",
      "    \n",
      "    press(hotkey)\n",
      "        Presses and holds down a hotkey (see `send`).\n",
      "    \n",
      "    press_and_release = send(hotkey, do_press=True, do_release=True)\n",
      "        Sends OS events that perform the given *hotkey* hotkey.\n",
      "        \n",
      "        - `hotkey` can be either a scan code (e.g. 57 for space), single key\n",
      "        (e.g. 'space') or multi-key, multi-step hotkey (e.g. 'alt+F4, enter').\n",
      "        - `do_press` if true then press events are sent. Defaults to True.\n",
      "        - `do_release` if true then release events are sent. Defaults to True.\n",
      "        \n",
      "            send(57)\n",
      "            send('ctrl+alt+del')\n",
      "            send('alt+F4, enter')\n",
      "            send('shift+s')\n",
      "        \n",
      "        Note: keys are released in the opposite order they were pressed.\n",
      "    \n",
      "    read_event(suppress=False)\n",
      "        Blocks until a keyboard event happens, then returns that event.\n",
      "    \n",
      "    read_hotkey(suppress=True)\n",
      "        Similar to `read_key()`, but blocks until the user presses and releases a\n",
      "        hotkey (or single key), then returns a string representing the hotkey\n",
      "        pressed.\n",
      "        \n",
      "        Example:\n",
      "        \n",
      "            read_hotkey()\n",
      "            # \"ctrl+shift+p\"\n",
      "    \n",
      "    read_key(suppress=False)\n",
      "        Blocks until a keyboard event happens, then returns that event's name or,\n",
      "        if missing, its scan code.\n",
      "    \n",
      "    record(until='escape', suppress=False, trigger_on_release=False)\n",
      "        Records all keyboard events from all keyboards until the user presses the\n",
      "        given hotkey. Then returns the list of events recorded, of type\n",
      "        `keyboard.KeyboardEvent`. Pairs well with\n",
      "        `play(events)`.\n",
      "        \n",
      "        Note: this is a blocking function.\n",
      "        Note: for more details on the keyboard hook and events see `hook`.\n",
      "    \n",
      "    register_abbreviation = add_abbreviation(source_text, replacement_text, match_suffix=False, timeout=2)\n",
      "        Registers a hotkey that replaces one typed text with another. For example\n",
      "        \n",
      "            add_abbreviation('tm', u'™')\n",
      "        \n",
      "        Replaces every \"tm\" followed by a space with a ™ symbol (and no space). The\n",
      "        replacement is done by sending backspace events.\n",
      "        \n",
      "        - `match_suffix` defines if endings of words should also be checked instead\n",
      "        of only whole words. E.g. if true, typing 'carpet'+space will trigger the\n",
      "        listener for 'pet'. Defaults to false, only whole words are checked.\n",
      "        - `timeout` is the maximum number of seconds between typed characters before\n",
      "        the current word is discarded. Defaults to 2 seconds.\n",
      "        \n",
      "        For more details see `add_word_listener`.\n",
      "    \n",
      "    register_hotkey = add_hotkey(hotkey, callback, args=(), suppress=False, timeout=1, trigger_on_release=False)\n",
      "        Invokes a callback every time a hotkey is pressed. The hotkey must\n",
      "        be in the format `ctrl+shift+a, s`. This would trigger when the user holds\n",
      "        ctrl, shift and \"a\" at once, releases, and then presses \"s\". To represent\n",
      "        literal commas, pluses, and spaces, use their names ('comma', 'plus',\n",
      "        'space').\n",
      "        \n",
      "        - `args` is an optional list of arguments to passed to the callback during\n",
      "        each invocation.\n",
      "        - `suppress` defines if successful triggers should block the keys from being\n",
      "        sent to other programs.\n",
      "        - `timeout` is the amount of seconds allowed to pass between key presses.\n",
      "        - `trigger_on_release` if true, the callback is invoked on key release instead\n",
      "        of key press.\n",
      "        \n",
      "        The event handler function is returned. To remove a hotkey call\n",
      "        `remove_hotkey(hotkey)` or `remove_hotkey(handler)`.\n",
      "        before the hotkey state is reset.\n",
      "        \n",
      "        Note: hotkeys are activated when the last key is *pressed*, not released.\n",
      "        Note: the callback is executed in a separate thread, asynchronously. For an\n",
      "        example of how to use a callback synchronously, see `wait`.\n",
      "        \n",
      "        Examples:\n",
      "        \n",
      "            # Different but equivalent ways to listen for a spacebar key press.\n",
      "            add_hotkey(' ', print, args=['space was pressed'])\n",
      "            add_hotkey('space', print, args=['space was pressed'])\n",
      "            add_hotkey('Space', print, args=['space was pressed'])\n",
      "            # Here 57 represents the keyboard code for spacebar; so you will be\n",
      "            # pressing 'spacebar', not '57' to activate the print function.\n",
      "            add_hotkey(57, print, args=['space was pressed'])\n",
      "        \n",
      "            add_hotkey('ctrl+q', quit)\n",
      "            add_hotkey('ctrl+alt+enter, space', some_callback)\n",
      "    \n",
      "    register_word_listener = add_word_listener(word, callback, triggers=['space'], match_suffix=False, timeout=2)\n",
      "        Invokes a callback every time a sequence of characters is typed (e.g. 'pet')\n",
      "        and followed by a trigger key (e.g. space). Modifiers (e.g. alt, ctrl,\n",
      "        shift) are ignored.\n",
      "        \n",
      "        - `word` the typed text to be matched. E.g. 'pet'.\n",
      "        - `callback` is an argument-less function to be invoked each time the word\n",
      "        is typed.\n",
      "        - `triggers` is the list of keys that will cause a match to be checked. If\n",
      "        the user presses some key that is not a character (len>1) and not in\n",
      "        triggers, the characters so far will be discarded. By default the trigger\n",
      "        is only `space`.\n",
      "        - `match_suffix` defines if endings of words should also be checked instead\n",
      "        of only whole words. E.g. if true, typing 'carpet'+space will trigger the\n",
      "        listener for 'pet'. Defaults to false, only whole words are checked.\n",
      "        - `timeout` is the maximum number of seconds between typed characters before\n",
      "        the current word is discarded. Defaults to 2 seconds.\n",
      "        \n",
      "        Returns the event handler created. To remove a word listener use\n",
      "        `remove_word_listener(word)` or `remove_word_listener(handler)`.\n",
      "        \n",
      "        Note: all actions are performed on key down. Key up events are ignored.\n",
      "        Note: word matches are **case sensitive**.\n",
      "    \n",
      "    release(hotkey)\n",
      "        Releases a hotkey (see `send`).\n",
      "    \n",
      "    remap_hotkey(src, dst, suppress=True, trigger_on_release=False)\n",
      "        Whenever the hotkey `src` is pressed, suppress it and send\n",
      "        `dst` instead.\n",
      "        \n",
      "        Example:\n",
      "        \n",
      "            remap('alt+w', 'ctrl+up')\n",
      "    \n",
      "    remap_key(src, dst)\n",
      "        Whenever the key `src` is pressed or released, regardless of modifiers,\n",
      "        press or release the hotkey `dst` instead.\n",
      "    \n",
      "    remove_abbreviation = remove_word_listener(word_or_handler)\n",
      "        Removes a previously registered word listener. Accepts either the word used\n",
      "        during registration (exact string) or the event handler returned by the\n",
      "        `add_word_listener` or `add_abbreviation` functions.\n",
      "    \n",
      "    remove_all_hotkeys = unhook_all_hotkeys()\n",
      "        Removes all keyboard hotkeys in use, including abbreviations, word listeners,\n",
      "        `record`ers and `wait`s.\n",
      "    \n",
      "    remove_hotkey(hotkey_or_callback)\n",
      "        Removes a previously hooked hotkey. Must be called with the value returned\n",
      "        by `add_hotkey`.\n",
      "    \n",
      "    remove_word_listener(word_or_handler)\n",
      "        Removes a previously registered word listener. Accepts either the word used\n",
      "        during registration (exact string) or the event handler returned by the\n",
      "        `add_word_listener` or `add_abbreviation` functions.\n",
      "    \n",
      "    replay = play(events, speed_factor=1.0)\n",
      "        Plays a sequence of recorded events, maintaining the relative time\n",
      "        intervals. If speed_factor is <= 0 then the actions are replayed as fast\n",
      "        as the OS allows. Pairs well with `record()`.\n",
      "        \n",
      "        Note: the current keyboard state is cleared at the beginning and restored at\n",
      "        the end of the function.\n",
      "    \n",
      "    restore_modifiers(scan_codes)\n",
      "        Like `restore_state`, but only restores modifier keys.\n",
      "    \n",
      "    restore_state(scan_codes)\n",
      "        Given a list of scan_codes ensures these keys, and only these keys, are\n",
      "        pressed. Pairs well with `stash_state`, alternative to `restore_modifiers`.\n",
      "    \n",
      "    send(hotkey, do_press=True, do_release=True)\n",
      "        Sends OS events that perform the given *hotkey* hotkey.\n",
      "        \n",
      "        - `hotkey` can be either a scan code (e.g. 57 for space), single key\n",
      "        (e.g. 'space') or multi-key, multi-step hotkey (e.g. 'alt+F4, enter').\n",
      "        - `do_press` if true then press events are sent. Defaults to True.\n",
      "        - `do_release` if true then release events are sent. Defaults to True.\n",
      "        \n",
      "            send(57)\n",
      "            send('ctrl+alt+del')\n",
      "            send('alt+F4, enter')\n",
      "            send('shift+s')\n",
      "        \n",
      "        Note: keys are released in the opposite order they were pressed.\n",
      "    \n",
      "    start_recording(recorded_events_queue=None)\n",
      "        Starts recording all keyboard events into a global variable, or the given\n",
      "        queue if any. Returns the queue of events and the hooked function.\n",
      "        \n",
      "        Use `stop_recording()` or `unhook(hooked_function)` to stop.\n",
      "    \n",
      "    stash_state()\n",
      "        Builds a list of all currently pressed scan codes, releases them and returns\n",
      "        the list. Pairs well with `restore_state` and `restore_modifiers`.\n",
      "    \n",
      "    stop_recording()\n",
      "        Stops the global recording of events and returns a list of the events\n",
      "        captured.\n",
      "    \n",
      "    unblock_key = unhook(remove)\n",
      "        Removes a previously added hook, either by callback or by the return value\n",
      "        of `hook`.\n",
      "    \n",
      "    unhook(remove)\n",
      "        Removes a previously added hook, either by callback or by the return value\n",
      "        of `hook`.\n",
      "    \n",
      "    unhook_all()\n",
      "        Removes all keyboard hooks in use, including hotkeys, abbreviations, word\n",
      "        listeners, `record`ers and `wait`s.\n",
      "    \n",
      "    unhook_all_hotkeys()\n",
      "        Removes all keyboard hotkeys in use, including abbreviations, word listeners,\n",
      "        `record`ers and `wait`s.\n",
      "    \n",
      "    unhook_key = unhook(remove)\n",
      "        Removes a previously added hook, either by callback or by the return value\n",
      "        of `hook`.\n",
      "    \n",
      "    unregister_all_hotkeys = unhook_all_hotkeys()\n",
      "        Removes all keyboard hotkeys in use, including abbreviations, word listeners,\n",
      "        `record`ers and `wait`s.\n",
      "    \n",
      "    unregister_hotkey = remove_hotkey(hotkey_or_callback)\n",
      "        Removes a previously hooked hotkey. Must be called with the value returned\n",
      "        by `add_hotkey`.\n",
      "    \n",
      "    unremap_hotkey = remove_hotkey(hotkey_or_callback)\n",
      "        Removes a previously hooked hotkey. Must be called with the value returned\n",
      "        by `add_hotkey`.\n",
      "    \n",
      "    unremap_key = unhook(remove)\n",
      "        Removes a previously added hook, either by callback or by the return value\n",
      "        of `hook`.\n",
      "    \n",
      "    wait(hotkey=None, suppress=False, trigger_on_release=False)\n",
      "        Blocks the program execution until the given hotkey is pressed or,\n",
      "        if given no parameters, blocks forever.\n",
      "    \n",
      "    write(text, delay=0, restore_state_after=True, exact=None)\n",
      "        Sends artificial keyboard events to the OS, simulating the typing of a given\n",
      "        text. Characters not available on the keyboard are typed as explicit unicode\n",
      "        characters using OS-specific functionality, such as alt+codepoint.\n",
      "        \n",
      "        To ensure text integrity, all currently pressed keys are released before\n",
      "        the text is typed, and modifiers are restored afterwards.\n",
      "        \n",
      "        - `delay` is the number of seconds to wait between keypresses, defaults to\n",
      "        no delay.\n",
      "        - `restore_state_after` can be used to restore the state of pressed keys\n",
      "        after the text is typed, i.e. presses the keys that were released at the\n",
      "        beginning. Defaults to True.\n",
      "        - `exact` forces typing all characters as explicit unicode (e.g.\n",
      "        alt+codepoint or special events). If None, uses platform-specific suggested\n",
      "        value.\n",
      "\n",
      "DATA\n",
      "    KEY_DOWN = 'down'\n",
      "    KEY_UP = 'up'\n",
      "    all_modifiers = {'alt', 'alt gr', 'ctrl', 'left alt', 'left ctrl', 'le...\n",
      "    sided_modifiers = {'alt', 'ctrl', 'shift', 'windows'}\n",
      "    version = '0.13.5'\n",
      "\n",
      "FILE\n",
      "    c:\\users\\rahul\\appdata\\local\\programs\\python\\python310\\lib\\site-packages\\keyboard\\__init__.py\n",
      "\n",
      "\n"
     ]
    }
   ],
   "source": [
    "help(keyboard)"
   ]
  },
  {
   "cell_type": "code",
   "execution_count": 99,
   "id": "13362627",
   "metadata": {},
   "outputs": [],
   "source": [
    "  keyboard.press_and_release('shift+s, space')"
   ]
  },
  {
   "cell_type": "code",
   "execution_count": 102,
   "id": "da5e742c",
   "metadata": {},
   "outputs": [],
   "source": [
    " keyboard.write('The quick brown fox jumps over the lazy dog.')"
   ]
  },
  {
   "cell_type": "code",
   "execution_count": 103,
   "id": "9851578a",
   "metadata": {},
   "outputs": [
    {
     "ename": "SyntaxError",
     "evalue": "invalid syntax (811642423.py, line 1)",
     "output_type": "error",
     "traceback": [
      "\u001b[1;36m  Input \u001b[1;32mIn [103]\u001b[1;36m\u001b[0m\n\u001b[1;33m    The quick brown fox jumps over the lazy dog.\u001b[0m\n\u001b[1;37m        ^\u001b[0m\n\u001b[1;31mSyntaxError\u001b[0m\u001b[1;31m:\u001b[0m invalid syntax\n"
     ]
    }
   ],
   "source": [
    "The quick brown fox jumps over the lazy dog."
   ]
  },
  {
   "cell_type": "code",
   "execution_count": 110,
   "id": "d22f933d",
   "metadata": {},
   "outputs": [
    {
     "data": {
      "text/plain": [
       "<function keyboard.add_hotkey.<locals>.remove_()>"
      ]
     },
     "execution_count": 110,
     "metadata": {},
     "output_type": "execute_result"
    }
   ],
   "source": [
    "keyboard.add_hotkey('ctrl+shift+q', print, args=('triggered', 'hotkey'))"
   ]
  },
  {
   "cell_type": "code",
   "execution_count": 105,
   "id": "bd1f11a2",
   "metadata": {},
   "outputs": [
    {
     "data": {
      "text/plain": [
       "{'__name__': 'keyboard',\n",
       " '__doc__': '\\nkeyboard\\n========\\n\\nTake full control of your keyboard with this small Python library. Hook global events, register hotkeys, simulate key presses and much more.\\n\\n## Features\\n\\n- **Global event hook** on all keyboards (captures keys regardless of focus).\\n- **Listen** and **send** keyboard events.\\n- Works with **Windows** and **Linux** (requires sudo), with experimental **OS X** support (thanks @glitchassassin!).\\n- **Pure Python**, no C modules to be compiled.\\n- **Zero dependencies**. Trivial to install and deploy, just copy the files.\\n- **Python 2 and 3**.\\n- Complex hotkey support (e.g. `ctrl+shift+m, ctrl+space`) with controllable timeout.\\n- Includes **high level API** (e.g. [record](#keyboard.record) and [play](#keyboard.play), [add_abbreviation](#keyboard.add_abbreviation)).\\n- Maps keys as they actually are in your layout, with **full internationalization support** (e.g. `Ctrl+ç`).\\n- Events automatically captured in separate thread, doesn\\'t block main program.\\n- Tested and documented.\\n- Doesn\\'t break accented dead keys (I\\'m looking at you, pyHook).\\n- Mouse support available via project [mouse](https://github.com/boppreh/mouse) (`pip install mouse`).\\n\\n## Usage\\n\\nInstall the [PyPI package](https://pypi.python.org/pypi/keyboard/):\\n\\n    pip install keyboard\\n\\nor clone the repository (no installation required, source files are sufficient):\\n\\n    git clone https://github.com/boppreh/keyboard\\n\\nor [download and extract the zip](https://github.com/boppreh/keyboard/archive/master.zip) into your project folder.\\n\\nThen check the [API docs below](https://github.com/boppreh/keyboard#api) to see what features are available.\\n\\n\\n## Example\\n\\n\\n```py\\nimport keyboard\\n\\nkeyboard.press_and_release(\\'shift+s, space\\')\\n\\nkeyboard.write(\\'The quick brown fox jumps over the lazy dog.\\')\\n\\nkeyboard.add_hotkey(\\'ctrl+shift+a\\', print, args=(\\'triggered\\', \\'hotkey\\'))\\n\\n# Press PAGE UP then PAGE DOWN to type \"foobar\".\\nkeyboard.add_hotkey(\\'page up, page down\\', lambda: keyboard.write(\\'foobar\\'))\\n\\n# Blocks until you press esc.\\nkeyboard.wait(\\'esc\\')\\n\\n# Record events until \\'esc\\' is pressed.\\nrecorded = keyboard.record(until=\\'esc\\')\\n# Then replay back at three times the speed.\\nkeyboard.play(recorded, speed_factor=3)\\n\\n# Type @@ then press space to replace with abbreviation.\\nkeyboard.add_abbreviation(\\'@@\\', \\'my.long.email@example.com\\')\\n\\n# Block forever, like `while True`.\\nkeyboard.wait()\\n```\\n\\n## Known limitations:\\n\\n- Events generated under Windows don\\'t report device id (`event.device == None`). [#21](https://github.com/boppreh/keyboard/issues/21)\\n- Media keys on Linux may appear nameless (scan-code only) or not at all. [#20](https://github.com/boppreh/keyboard/issues/20)\\n- Key suppression/blocking only available on Windows. [#22](https://github.com/boppreh/keyboard/issues/22)\\n- To avoid depending on X, the Linux parts reads raw device files (`/dev/input/input*`)\\nbut this requires root.\\n- Other applications, such as some games, may register hooks that swallow all \\nkey events. In this case `keyboard` will be unable to report events.\\n- This program makes no attempt to hide itself, so don\\'t use it for keyloggers or online gaming bots. Be responsible.\\n',\n",
       " '__package__': 'keyboard',\n",
       " '__loader__': <_frozen_importlib_external.SourceFileLoader at 0x15b1fd70130>,\n",
       " '__spec__': ModuleSpec(name='keyboard', loader=<_frozen_importlib_external.SourceFileLoader object at 0x0000015B1FD70130>, origin='C:\\\\Users\\\\Rahul\\\\AppData\\\\Local\\\\Programs\\\\Python\\\\Python310\\\\lib\\\\site-packages\\\\keyboard\\\\__init__.py', submodule_search_locations=['C:\\\\Users\\\\Rahul\\\\AppData\\\\Local\\\\Programs\\\\Python\\\\Python310\\\\lib\\\\site-packages\\\\keyboard']),\n",
       " '__path__': ['C:\\\\Users\\\\Rahul\\\\AppData\\\\Local\\\\Programs\\\\Python\\\\Python310\\\\lib\\\\site-packages\\\\keyboard'],\n",
       " '__file__': 'C:\\\\Users\\\\Rahul\\\\AppData\\\\Local\\\\Programs\\\\Python\\\\Python310\\\\lib\\\\site-packages\\\\keyboard\\\\__init__.py',\n",
       " '__cached__': 'C:\\\\Users\\\\Rahul\\\\AppData\\\\Local\\\\Programs\\\\Python\\\\Python310\\\\lib\\\\site-packages\\\\keyboard\\\\__pycache__\\\\__init__.cpython-310.pyc',\n",
       " '__builtins__': {'__name__': 'builtins',\n",
       "  '__doc__': \"Built-in functions, exceptions, and other objects.\\n\\nNoteworthy: None is the `nil' object; Ellipsis represents `...' in slices.\",\n",
       "  '__package__': '',\n",
       "  '__loader__': _frozen_importlib.BuiltinImporter,\n",
       "  '__spec__': ModuleSpec(name='builtins', loader=<class '_frozen_importlib.BuiltinImporter'>, origin='built-in'),\n",
       "  '__build_class__': <function __build_class__>,\n",
       "  '__import__': <function __import__>,\n",
       "  'abs': <function abs(x, /)>,\n",
       "  'all': <function all(iterable, /)>,\n",
       "  'any': <function any(iterable, /)>,\n",
       "  'ascii': <function ascii(obj, /)>,\n",
       "  'bin': <function bin(number, /)>,\n",
       "  'breakpoint': <function breakpoint>,\n",
       "  'callable': <function callable(obj, /)>,\n",
       "  'chr': <function chr(i, /)>,\n",
       "  'compile': <function compile(source, filename, mode, flags=0, dont_inherit=False, optimize=-1, *, _feature_version=-1)>,\n",
       "  'delattr': <function delattr(obj, name, /)>,\n",
       "  'dir': <function dir>,\n",
       "  'divmod': <function divmod(x, y, /)>,\n",
       "  'eval': <function eval(source, globals=None, locals=None, /)>,\n",
       "  'exec': <function exec(source, globals=None, locals=None, /)>,\n",
       "  'format': <function format(value, format_spec='', /)>,\n",
       "  'getattr': <function getattr>,\n",
       "  'globals': <function globals()>,\n",
       "  'hasattr': <function hasattr(obj, name, /)>,\n",
       "  'hash': <function hash(obj, /)>,\n",
       "  'hex': <function hex(number, /)>,\n",
       "  'id': <function id(obj, /)>,\n",
       "  'input': <bound method Kernel.raw_input of <ipykernel.ipkernel.IPythonKernel object at 0x0000015B1FBD1750>>,\n",
       "  'isinstance': <function isinstance(obj, class_or_tuple, /)>,\n",
       "  'issubclass': <function issubclass(cls, class_or_tuple, /)>,\n",
       "  'iter': <function iter>,\n",
       "  'aiter': <function aiter(async_iterable, /)>,\n",
       "  'len': <function len(obj, /)>,\n",
       "  'locals': <function locals()>,\n",
       "  'max': <function max>,\n",
       "  'min': <function min>,\n",
       "  'next': <function next>,\n",
       "  'anext': <function anext>,\n",
       "  'oct': <function oct(number, /)>,\n",
       "  'ord': <function ord(c, /)>,\n",
       "  'pow': <function pow(base, exp, mod=None)>,\n",
       "  'print': <function print>,\n",
       "  'repr': <function repr(obj, /)>,\n",
       "  'round': <function round(number, ndigits=None)>,\n",
       "  'setattr': <function setattr(obj, name, value, /)>,\n",
       "  'sorted': <function sorted(iterable, /, *, key=None, reverse=False)>,\n",
       "  'sum': <function sum(iterable, /, start=0)>,\n",
       "  'vars': <function vars>,\n",
       "  'None': None,\n",
       "  'Ellipsis': Ellipsis,\n",
       "  'NotImplemented': NotImplemented,\n",
       "  'False': False,\n",
       "  'True': True,\n",
       "  'bool': bool,\n",
       "  'memoryview': memoryview,\n",
       "  'bytearray': bytearray,\n",
       "  'bytes': bytes,\n",
       "  'classmethod': classmethod,\n",
       "  'complex': complex,\n",
       "  'dict': dict,\n",
       "  'enumerate': enumerate,\n",
       "  'filter': filter,\n",
       "  'float': float,\n",
       "  'frozenset': frozenset,\n",
       "  'property': property,\n",
       "  'int': int,\n",
       "  'list': list,\n",
       "  'map': map,\n",
       "  'object': object,\n",
       "  'range': range,\n",
       "  'reversed': reversed,\n",
       "  'set': set,\n",
       "  'slice': slice,\n",
       "  'staticmethod': staticmethod,\n",
       "  'str': str,\n",
       "  'super': super,\n",
       "  'tuple': tuple,\n",
       "  'type': type,\n",
       "  'zip': zip,\n",
       "  '__debug__': True,\n",
       "  'BaseException': BaseException,\n",
       "  'Exception': Exception,\n",
       "  'TypeError': TypeError,\n",
       "  'StopAsyncIteration': StopAsyncIteration,\n",
       "  'StopIteration': StopIteration,\n",
       "  'GeneratorExit': GeneratorExit,\n",
       "  'SystemExit': SystemExit,\n",
       "  'KeyboardInterrupt': KeyboardInterrupt,\n",
       "  'ImportError': ImportError,\n",
       "  'ModuleNotFoundError': ModuleNotFoundError,\n",
       "  'OSError': OSError,\n",
       "  'EnvironmentError': OSError,\n",
       "  'IOError': OSError,\n",
       "  'WindowsError': OSError,\n",
       "  'EOFError': EOFError,\n",
       "  'RuntimeError': RuntimeError,\n",
       "  'RecursionError': RecursionError,\n",
       "  'NotImplementedError': NotImplementedError,\n",
       "  'NameError': NameError,\n",
       "  'UnboundLocalError': UnboundLocalError,\n",
       "  'AttributeError': AttributeError,\n",
       "  'SyntaxError': SyntaxError,\n",
       "  'IndentationError': IndentationError,\n",
       "  'TabError': TabError,\n",
       "  'LookupError': LookupError,\n",
       "  'IndexError': IndexError,\n",
       "  'KeyError': KeyError,\n",
       "  'ValueError': ValueError,\n",
       "  'UnicodeError': UnicodeError,\n",
       "  'UnicodeEncodeError': UnicodeEncodeError,\n",
       "  'UnicodeDecodeError': UnicodeDecodeError,\n",
       "  'UnicodeTranslateError': UnicodeTranslateError,\n",
       "  'AssertionError': AssertionError,\n",
       "  'ArithmeticError': ArithmeticError,\n",
       "  'FloatingPointError': FloatingPointError,\n",
       "  'OverflowError': OverflowError,\n",
       "  'ZeroDivisionError': ZeroDivisionError,\n",
       "  'SystemError': SystemError,\n",
       "  'ReferenceError': ReferenceError,\n",
       "  'MemoryError': MemoryError,\n",
       "  'BufferError': BufferError,\n",
       "  'Warning': Warning,\n",
       "  'UserWarning': UserWarning,\n",
       "  'EncodingWarning': EncodingWarning,\n",
       "  'DeprecationWarning': DeprecationWarning,\n",
       "  'PendingDeprecationWarning': PendingDeprecationWarning,\n",
       "  'SyntaxWarning': SyntaxWarning,\n",
       "  'RuntimeWarning': RuntimeWarning,\n",
       "  'FutureWarning': FutureWarning,\n",
       "  'ImportWarning': ImportWarning,\n",
       "  'UnicodeWarning': UnicodeWarning,\n",
       "  'BytesWarning': BytesWarning,\n",
       "  'ResourceWarning': ResourceWarning,\n",
       "  'ConnectionError': ConnectionError,\n",
       "  'BlockingIOError': BlockingIOError,\n",
       "  'BrokenPipeError': BrokenPipeError,\n",
       "  'ChildProcessError': ChildProcessError,\n",
       "  'ConnectionAbortedError': ConnectionAbortedError,\n",
       "  'ConnectionRefusedError': ConnectionRefusedError,\n",
       "  'ConnectionResetError': ConnectionResetError,\n",
       "  'FileExistsError': FileExistsError,\n",
       "  'FileNotFoundError': FileNotFoundError,\n",
       "  'IsADirectoryError': IsADirectoryError,\n",
       "  'NotADirectoryError': NotADirectoryError,\n",
       "  'InterruptedError': InterruptedError,\n",
       "  'PermissionError': PermissionError,\n",
       "  'ProcessLookupError': ProcessLookupError,\n",
       "  'TimeoutError': TimeoutError,\n",
       "  'open': <function io.open(file, mode='r', buffering=-1, encoding=None, errors=None, newline=None, closefd=True, opener=None)>,\n",
       "  'copyright': Copyright (c) 2001-2022 Python Software Foundation.\n",
       "  All Rights Reserved.\n",
       "  \n",
       "  Copyright (c) 2000 BeOpen.com.\n",
       "  All Rights Reserved.\n",
       "  \n",
       "  Copyright (c) 1995-2001 Corporation for National Research Initiatives.\n",
       "  All Rights Reserved.\n",
       "  \n",
       "  Copyright (c) 1991-1995 Stichting Mathematisch Centrum, Amsterdam.\n",
       "  All Rights Reserved.,\n",
       "  'credits':     Thanks to CWI, CNRI, BeOpen.com, Zope Corporation and a cast of thousands\n",
       "      for supporting Python development.  See www.python.org for more information.,\n",
       "  'license': Type license() to see the full license text,\n",
       "  'help': Type help() for interactive help, or help(object) for help about object.,\n",
       "  'execfile': <function _pydev_bundle._pydev_execfile.execfile(file, glob=None, loc=None)>,\n",
       "  'runfile': <function _pydev_bundle.pydev_umd.runfile(filename, args=None, wdir=None, namespace=None)>,\n",
       "  '__IPYTHON__': True,\n",
       "  'display': <function IPython.core.display_functions.display(*objs, include=None, exclude=None, metadata=None, transient=None, display_id=None, raw=False, clear=False, **kwargs)>,\n",
       "  'get_ipython': <bound method InteractiveShell.get_ipython of <ipykernel.zmqshell.ZMQInteractiveShell object at 0x0000015B1FBD1C30>>},\n",
       " '_print_function': _Feature((2, 6, 0, 'alpha', 2), (3, 0, 0, 'alpha', 0), 1048576),\n",
       " 'version': '0.13.5',\n",
       " '_re': <module 're' from 'C:\\\\Users\\\\Rahul\\\\AppData\\\\Local\\\\Programs\\\\Python\\\\Python310\\\\lib\\\\re.py'>,\n",
       " '_itertools': <module 'itertools' (built-in)>,\n",
       " '_collections': <module 'collections' from 'C:\\\\Users\\\\Rahul\\\\AppData\\\\Local\\\\Programs\\\\Python\\\\Python310\\\\lib\\\\collections\\\\__init__.py'>,\n",
       " '_Thread': threading.Thread,\n",
       " '_Lock': <function _thread.allocate_lock>,\n",
       " '_time': <module 'time' (built-in)>,\n",
       " '_is_str': <function keyboard.<lambda>(x)>,\n",
       " '_is_number': <function keyboard.<lambda>(x)>,\n",
       " '_queue': <module 'queue' from 'C:\\\\Users\\\\Rahul\\\\AppData\\\\Local\\\\Programs\\\\Python\\\\Python310\\\\lib\\\\queue.py'>,\n",
       " '_UninterruptibleEvent': threading.Event,\n",
       " '_is_list': <function keyboard.<lambda>(x)>,\n",
       " '_State': keyboard._State,\n",
       " '_Event': keyboard._Event,\n",
       " '_platform': <module 'platform' from 'C:\\\\Users\\\\Rahul\\\\AppData\\\\Local\\\\Programs\\\\Python\\\\Python310\\\\lib\\\\platform.py'>,\n",
       " '_canonical_names': <module 'keyboard._canonical_names' from 'C:\\\\Users\\\\Rahul\\\\AppData\\\\Local\\\\Programs\\\\Python\\\\Python310\\\\lib\\\\site-packages\\\\keyboard\\\\_canonical_names.py'>,\n",
       " '_keyboard_event': <module 'keyboard._keyboard_event' from 'C:\\\\Users\\\\Rahul\\\\AppData\\\\Local\\\\Programs\\\\Python\\\\Python310\\\\lib\\\\site-packages\\\\keyboard\\\\_keyboard_event.py'>,\n",
       " '_winkeyboard': <module 'keyboard._winkeyboard' from 'C:\\\\Users\\\\Rahul\\\\AppData\\\\Local\\\\Programs\\\\Python\\\\Python310\\\\lib\\\\site-packages\\\\keyboard\\\\_winkeyboard.py'>,\n",
       " '_os_keyboard': <module 'keyboard._winkeyboard' from 'C:\\\\Users\\\\Rahul\\\\AppData\\\\Local\\\\Programs\\\\Python\\\\Python310\\\\lib\\\\site-packages\\\\keyboard\\\\_winkeyboard.py'>,\n",
       " 'KEY_DOWN': 'down',\n",
       " 'KEY_UP': 'up',\n",
       " 'KeyboardEvent': keyboard._keyboard_event.KeyboardEvent,\n",
       " '_generic': <module 'keyboard._generic' from 'C:\\\\Users\\\\Rahul\\\\AppData\\\\Local\\\\Programs\\\\Python\\\\Python310\\\\lib\\\\site-packages\\\\keyboard\\\\_generic.py'>,\n",
       " '_GenericListener': keyboard._generic.GenericListener,\n",
       " 'all_modifiers': {'alt',\n",
       "  'alt gr',\n",
       "  'ctrl',\n",
       "  'left alt',\n",
       "  'left ctrl',\n",
       "  'left shift',\n",
       "  'left windows',\n",
       "  'right alt',\n",
       "  'right ctrl',\n",
       "  'right shift',\n",
       "  'right windows',\n",
       "  'shift',\n",
       "  'windows'},\n",
       " 'sided_modifiers': {'alt', 'ctrl', 'shift', 'windows'},\n",
       " 'normalize_name': <function keyboard._canonical_names.normalize_name(name)>,\n",
       " '_modifier_scan_codes': {29,\n",
       "  42,\n",
       "  54,\n",
       "  56,\n",
       "  91,\n",
       "  92,\n",
       "  541,\n",
       "  57373,\n",
       "  57400,\n",
       "  57435,\n",
       "  57436,\n",
       "  57629},\n",
       " 'is_modifier': <function keyboard.is_modifier(key)>,\n",
       " '_pressed_events_lock': <unlocked _thread.lock object at 0x0000015B217F88C0>,\n",
       " '_pressed_events': {42: KeyboardEvent(shift down),\n",
       "  75: KeyboardEvent(left down),\n",
       "  554: KeyboardEvent(shift down),\n",
       "  28: KeyboardEvent(enter down)},\n",
       " '_physically_pressed_keys': {42: KeyboardEvent(shift down),\n",
       "  75: KeyboardEvent(left down),\n",
       "  554: KeyboardEvent(shift down),\n",
       "  28: KeyboardEvent(enter down)},\n",
       " '_logically_pressed_keys': {42: KeyboardEvent(shift down),\n",
       "  75: KeyboardEvent(left down),\n",
       "  554: KeyboardEvent(shift down),\n",
       "  28: KeyboardEvent(enter down)},\n",
       " '_KeyboardListener': keyboard._KeyboardListener,\n",
       " '_listener': <keyboard._KeyboardListener at 0x15b20e67070>,\n",
       " 'key_to_scan_codes': <function keyboard.key_to_scan_codes(key, error_if_missing=True)>,\n",
       " 'parse_hotkey': <function keyboard.parse_hotkey(hotkey)>,\n",
       " 'send': <function keyboard.send(hotkey, do_press=True, do_release=True)>,\n",
       " 'press_and_release': <function keyboard.send(hotkey, do_press=True, do_release=True)>,\n",
       " 'press': <function keyboard.press(hotkey)>,\n",
       " 'release': <function keyboard.release(hotkey)>,\n",
       " 'is_pressed': <function keyboard.is_pressed(hotkey)>,\n",
       " 'call_later': <function keyboard.call_later(fn, args=(), delay=0.001)>,\n",
       " '_hooks': {},\n",
       " 'hook': <function keyboard.hook(callback, suppress=False, on_remove=<function <lambda> at 0x0000015B2185C040>)>,\n",
       " 'on_press': <function keyboard.on_press(callback, suppress=False)>,\n",
       " 'on_release': <function keyboard.on_release(callback, suppress=False)>,\n",
       " 'hook_key': <function keyboard.hook_key(key, callback, suppress=False)>,\n",
       " 'on_press_key': <function keyboard.on_press_key(key, callback, suppress=False)>,\n",
       " 'on_release_key': <function keyboard.on_release_key(key, callback, suppress=False)>,\n",
       " 'unhook': <function keyboard.unhook(remove)>,\n",
       " 'unhook_key': <function keyboard.unhook(remove)>,\n",
       " 'unhook_all': <function keyboard.unhook_all()>,\n",
       " 'block_key': <function keyboard.block_key(key)>,\n",
       " 'unblock_key': <function keyboard.unhook(remove)>,\n",
       " 'remap_key': <function keyboard.remap_key(src, dst)>,\n",
       " 'unremap_key': <function keyboard.unhook(remove)>,\n",
       " 'parse_hotkey_combinations': <function keyboard.parse_hotkey_combinations(hotkey)>,\n",
       " '_add_hotkey_step': <function keyboard._add_hotkey_step(handler, combinations, suppress)>,\n",
       " '_hotkeys': {'ctrl+shift+a': <function keyboard.add_hotkey.<locals>.remove_()>,\n",
       "  <function keyboard.add_hotkey.<locals>.remove_()>: <function keyboard.add_hotkey.<locals>.remove_()>,\n",
       "  <function keyboard.add_hotkey.<locals>.<lambda>(callback=<built-in function print>)>: <function keyboard.add_hotkey.<locals>.remove_()>},\n",
       " 'add_hotkey': <function keyboard.add_hotkey(hotkey, callback, args=(), suppress=False, timeout=1, trigger_on_release=False)>,\n",
       " 'register_hotkey': <function keyboard.add_hotkey(hotkey, callback, args=(), suppress=False, timeout=1, trigger_on_release=False)>,\n",
       " 'remove_hotkey': <function keyboard.remove_hotkey(hotkey_or_callback)>,\n",
       " 'unregister_hotkey': <function keyboard.remove_hotkey(hotkey_or_callback)>,\n",
       " 'clear_hotkey': <function keyboard.remove_hotkey(hotkey_or_callback)>,\n",
       " 'unhook_all_hotkeys': <function keyboard.unhook_all_hotkeys()>,\n",
       " 'unregister_all_hotkeys': <function keyboard.unhook_all_hotkeys()>,\n",
       " 'remove_all_hotkeys': <function keyboard.unhook_all_hotkeys()>,\n",
       " 'clear_all_hotkeys': <function keyboard.unhook_all_hotkeys()>,\n",
       " 'remap_hotkey': <function keyboard.remap_hotkey(src, dst, suppress=True, trigger_on_release=False)>,\n",
       " 'unremap_hotkey': <function keyboard.remove_hotkey(hotkey_or_callback)>,\n",
       " 'stash_state': <function keyboard.stash_state()>,\n",
       " 'restore_state': <function keyboard.restore_state(scan_codes)>,\n",
       " 'restore_modifiers': <function keyboard.restore_modifiers(scan_codes)>,\n",
       " 'write': <function keyboard.write(text, delay=0, restore_state_after=True, exact=None)>,\n",
       " 'wait': <function keyboard.wait(hotkey=None, suppress=False, trigger_on_release=False)>,\n",
       " 'get_hotkey_name': <function keyboard.get_hotkey_name(names=None)>,\n",
       " 'read_event': <function keyboard.read_event(suppress=False)>,\n",
       " 'read_key': <function keyboard.read_key(suppress=False)>,\n",
       " 'read_hotkey': <function keyboard.read_hotkey(suppress=True)>,\n",
       " 'get_typed_strings': <function keyboard.get_typed_strings(events, allow_backspace=True)>,\n",
       " '_recording': None,\n",
       " 'start_recording': <function keyboard.start_recording(recorded_events_queue=None)>,\n",
       " 'stop_recording': <function keyboard.stop_recording()>,\n",
       " 'record': <function keyboard.record(until='escape', suppress=False, trigger_on_release=False)>,\n",
       " 'play': <function keyboard.play(events, speed_factor=1.0)>,\n",
       " 'replay': <function keyboard.play(events, speed_factor=1.0)>,\n",
       " '_word_listeners': {},\n",
       " 'add_word_listener': <function keyboard.add_word_listener(word, callback, triggers=['space'], match_suffix=False, timeout=2)>,\n",
       " 'remove_word_listener': <function keyboard.remove_word_listener(word_or_handler)>,\n",
       " 'add_abbreviation': <function keyboard.add_abbreviation(source_text, replacement_text, match_suffix=False, timeout=2)>,\n",
       " 'register_word_listener': <function keyboard.add_word_listener(word, callback, triggers=['space'], match_suffix=False, timeout=2)>,\n",
       " 'register_abbreviation': <function keyboard.add_abbreviation(source_text, replacement_text, match_suffix=False, timeout=2)>,\n",
       " 'remove_abbreviation': <function keyboard.remove_word_listener(word_or_handler)>}"
      ]
     },
     "execution_count": 105,
     "metadata": {},
     "output_type": "execute_result"
    }
   ],
   "source": [
    "keyboard.__dict__"
   ]
  },
  {
   "cell_type": "code",
   "execution_count": 111,
   "id": "df82f2fe",
   "metadata": {},
   "outputs": [
    {
     "data": {
      "text/plain": [
       "<function print>"
      ]
     },
     "execution_count": 111,
     "metadata": {},
     "output_type": "execute_result"
    }
   ],
   "source": [
    "print"
   ]
  },
  {
   "cell_type": "code",
   "execution_count": null,
   "id": "793d3d58",
   "metadata": {},
   "outputs": [],
   "source": []
  }
 ],
 "metadata": {
  "kernelspec": {
   "display_name": "Python 3 (ipykernel)",
   "language": "python",
   "name": "python3"
  },
  "language_info": {
   "codemirror_mode": {
    "name": "ipython",
    "version": 3
   },
   "file_extension": ".py",
   "mimetype": "text/x-python",
   "name": "python",
   "nbconvert_exporter": "python",
   "pygments_lexer": "ipython3",
   "version": "3.10.6"
  }
 },
 "nbformat": 4,
 "nbformat_minor": 5
}
