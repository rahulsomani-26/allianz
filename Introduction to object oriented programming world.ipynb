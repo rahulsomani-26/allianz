{
 "cells": [
  {
   "cell_type": "markdown",
   "id": "2c35b84d",
   "metadata": {},
   "source": [
    "# Class \n",
    "\n",
    "    - Class can have data attribute \n",
    "    - Class can have function attribute \n",
    "    - Class have their own namespace \n",
    "    - We create object, called instance from the class \n",
    "    "
   ]
  },
  {
   "cell_type": "code",
   "execution_count": 1,
   "id": "8abf59bd",
   "metadata": {},
   "outputs": [],
   "source": [
    "class Program:\n",
    "    # class wide attributes, shared attributes \n",
    "    language = 'python'\n",
    "    version = '3.8.2'"
   ]
  },
  {
   "cell_type": "code",
   "execution_count": 3,
   "id": "e6c3983f",
   "metadata": {},
   "outputs": [
    {
     "data": {
      "text/plain": [
       "(__main__.Program, type)"
      ]
     },
     "execution_count": 3,
     "metadata": {},
     "output_type": "execute_result"
    }
   ],
   "source": [
    "Program, type(Program)"
   ]
  },
  {
   "cell_type": "code",
   "execution_count": 4,
   "id": "5a4bde69",
   "metadata": {},
   "outputs": [
    {
     "data": {
      "text/plain": [
       "mappingproxy({'__module__': '__main__',\n",
       "              'language': 'python',\n",
       "              'version': '3.8.2',\n",
       "              '__dict__': <attribute '__dict__' of 'Program' objects>,\n",
       "              '__weakref__': <attribute '__weakref__' of 'Program' objects>,\n",
       "              '__doc__': None})"
      ]
     },
     "execution_count": 4,
     "metadata": {},
     "output_type": "execute_result"
    }
   ],
   "source": [
    "Program.__dict__"
   ]
  },
  {
   "cell_type": "code",
   "execution_count": 6,
   "id": "3f003971",
   "metadata": {},
   "outputs": [
    {
     "name": "stdout",
     "output_type": "stream",
     "text": [
      "<class 'type'>\n"
     ]
    }
   ],
   "source": [
    "print(type(Program))"
   ]
  },
  {
   "cell_type": "code",
   "execution_count": 7,
   "id": "5c6a07f1",
   "metadata": {},
   "outputs": [
    {
     "data": {
      "text/plain": [
       "'python'"
      ]
     },
     "execution_count": 7,
     "metadata": {},
     "output_type": "execute_result"
    }
   ],
   "source": [
    "Program.__dict__['language']"
   ]
  },
  {
   "cell_type": "code",
   "execution_count": 8,
   "id": "89e34c37",
   "metadata": {},
   "outputs": [],
   "source": [
    "obj1 = Program()\n",
    "obj2 = Program()"
   ]
  },
  {
   "cell_type": "code",
   "execution_count": 10,
   "id": "c6c6cec7",
   "metadata": {},
   "outputs": [
    {
     "data": {
      "text/plain": [
       "(<__main__.Program at 0x2bf848946d0>, <__main__.Program at 0x2bf84879000>)"
      ]
     },
     "execution_count": 10,
     "metadata": {},
     "output_type": "execute_result"
    }
   ],
   "source": [
    "obj1, obj2"
   ]
  },
  {
   "cell_type": "code",
   "execution_count": 12,
   "id": "b93a8c8e",
   "metadata": {},
   "outputs": [
    {
     "data": {
      "text/plain": [
       "('python', '3.8.2')"
      ]
     },
     "execution_count": 12,
     "metadata": {},
     "output_type": "execute_result"
    }
   ],
   "source": [
    "obj1.language,obj1.version"
   ]
  },
  {
   "cell_type": "code",
   "execution_count": 13,
   "id": "9be3af08",
   "metadata": {},
   "outputs": [
    {
     "data": {
      "text/plain": [
       "('python', '3.8.2')"
      ]
     },
     "execution_count": 13,
     "metadata": {},
     "output_type": "execute_result"
    }
   ],
   "source": [
    "obj2.language,obj2.version"
   ]
  },
  {
   "cell_type": "code",
   "execution_count": 15,
   "id": "042d98da",
   "metadata": {},
   "outputs": [
    {
     "data": {
      "text/plain": [
       "{}"
      ]
     },
     "execution_count": 15,
     "metadata": {},
     "output_type": "execute_result"
    }
   ],
   "source": [
    "obj1.__dict__"
   ]
  },
  {
   "cell_type": "code",
   "execution_count": 16,
   "id": "4825f811",
   "metadata": {},
   "outputs": [],
   "source": [
    "class Program:\n",
    "    # class wide attributes, shared attributes \n",
    "    language = 'python'\n",
    "    version = '3.8.2'\n",
    "    \n",
    "    def my_func():\n",
    "        print(\"Hello world of OOPs\")"
   ]
  },
  {
   "cell_type": "code",
   "execution_count": 17,
   "id": "24a8aa74",
   "metadata": {},
   "outputs": [
    {
     "data": {
      "text/plain": [
       "mappingproxy({'__module__': '__main__',\n",
       "              'language': 'python',\n",
       "              'version': '3.8.2',\n",
       "              'my_func': <function __main__.Program.my_func()>,\n",
       "              '__dict__': <attribute '__dict__' of 'Program' objects>,\n",
       "              '__weakref__': <attribute '__weakref__' of 'Program' objects>,\n",
       "              '__doc__': None})"
      ]
     },
     "execution_count": 17,
     "metadata": {},
     "output_type": "execute_result"
    }
   ],
   "source": [
    "Program.__dict__"
   ]
  },
  {
   "cell_type": "code",
   "execution_count": 19,
   "id": "033b28ec",
   "metadata": {},
   "outputs": [
    {
     "data": {
      "text/plain": [
       "('python', '3.8.2')"
      ]
     },
     "execution_count": 19,
     "metadata": {},
     "output_type": "execute_result"
    }
   ],
   "source": [
    "Program.language, Program.version"
   ]
  },
  {
   "cell_type": "code",
   "execution_count": 20,
   "id": "637b5fbd",
   "metadata": {},
   "outputs": [
    {
     "name": "stdout",
     "output_type": "stream",
     "text": [
      "Hello world of OOPs\n"
     ]
    }
   ],
   "source": [
    "Program.my_func()"
   ]
  },
  {
   "cell_type": "code",
   "execution_count": 26,
   "id": "b34eea37",
   "metadata": {},
   "outputs": [],
   "source": [
    "obj1 = Program()"
   ]
  },
  {
   "cell_type": "code",
   "execution_count": 27,
   "id": "49cf9a74",
   "metadata": {},
   "outputs": [
    {
     "data": {
      "text/plain": [
       "'python'"
      ]
     },
     "execution_count": 27,
     "metadata": {},
     "output_type": "execute_result"
    }
   ],
   "source": [
    "obj1.language"
   ]
  },
  {
   "cell_type": "code",
   "execution_count": 28,
   "id": "fe9ee955",
   "metadata": {},
   "outputs": [
    {
     "ename": "TypeError",
     "evalue": "Program.my_func() takes 0 positional arguments but 1 was given",
     "output_type": "error",
     "traceback": [
      "\u001b[1;31m---------------------------------------------------------------------------\u001b[0m",
      "\u001b[1;31mTypeError\u001b[0m                                 Traceback (most recent call last)",
      "Input \u001b[1;32mIn [28]\u001b[0m, in \u001b[0;36m<cell line: 1>\u001b[1;34m()\u001b[0m\n\u001b[1;32m----> 1\u001b[0m \u001b[43mobj1\u001b[49m\u001b[38;5;241;43m.\u001b[39;49m\u001b[43mmy_func\u001b[49m\u001b[43m(\u001b[49m\u001b[43m)\u001b[49m\n",
      "\u001b[1;31mTypeError\u001b[0m: Program.my_func() takes 0 positional arguments but 1 was given"
     ]
    }
   ],
   "source": [
    "obj1.my_func()"
   ]
  },
  {
   "cell_type": "code",
   "execution_count": 30,
   "id": "c8bacbec",
   "metadata": {},
   "outputs": [],
   "source": [
    "class Program:\n",
    "    # class wide attributes, shared attributes \n",
    "    language = 'python'\n",
    "    version = '3.8.2'\n",
    "    \n",
    "    def my_func(val):\n",
    "        print(\"Hello world of OOPs\")"
   ]
  },
  {
   "cell_type": "code",
   "execution_count": 31,
   "id": "889dc879",
   "metadata": {},
   "outputs": [],
   "source": [
    "o = Program()"
   ]
  },
  {
   "cell_type": "code",
   "execution_count": 33,
   "id": "b9783d67",
   "metadata": {},
   "outputs": [
    {
     "data": {
      "text/plain": [
       "('python', 'python')"
      ]
     },
     "execution_count": 33,
     "metadata": {},
     "output_type": "execute_result"
    }
   ],
   "source": [
    "o.language, Program.language"
   ]
  },
  {
   "cell_type": "code",
   "execution_count": 34,
   "id": "05d2931b",
   "metadata": {},
   "outputs": [
    {
     "name": "stdout",
     "output_type": "stream",
     "text": [
      "Hello world of OOPs\n"
     ]
    }
   ],
   "source": [
    "o.my_func()"
   ]
  },
  {
   "cell_type": "code",
   "execution_count": 35,
   "id": "3019afa5",
   "metadata": {},
   "outputs": [
    {
     "data": {
      "text/plain": [
       "<bound method Program.my_func of <__main__.Program object at 0x000002BF84864FD0>>"
      ]
     },
     "execution_count": 35,
     "metadata": {},
     "output_type": "execute_result"
    }
   ],
   "source": [
    "o.my_func"
   ]
  },
  {
   "cell_type": "code",
   "execution_count": 36,
   "id": "8444eee1",
   "metadata": {},
   "outputs": [
    {
     "data": {
      "text/plain": [
       "<function __main__.Program.my_func(val)>"
      ]
     },
     "execution_count": 36,
     "metadata": {},
     "output_type": "execute_result"
    }
   ],
   "source": [
    "Program.my_func"
   ]
  },
  {
   "cell_type": "code",
   "execution_count": 37,
   "id": "3b42ec88",
   "metadata": {},
   "outputs": [
    {
     "name": "stdout",
     "output_type": "stream",
     "text": [
      "Hello world of OOPs\n"
     ]
    }
   ],
   "source": [
    "Program.my_func(o)"
   ]
  },
  {
   "cell_type": "code",
   "execution_count": 42,
   "id": "97622070",
   "metadata": {},
   "outputs": [],
   "source": [
    "class Test:\n",
    "    def __new__(self): # we dont need to override it.. it used for allocating memory and other internal stuffs \n",
    "        print(\"new called\")\n",
    "        "
   ]
  },
  {
   "cell_type": "code",
   "execution_count": 43,
   "id": "cc671233",
   "metadata": {},
   "outputs": [
    {
     "name": "stdout",
     "output_type": "stream",
     "text": [
      "new called\n"
     ]
    }
   ],
   "source": [
    "t = Test()"
   ]
  },
  {
   "cell_type": "code",
   "execution_count": 44,
   "id": "b39c1823",
   "metadata": {},
   "outputs": [],
   "source": [
    "class Test:\n",
    "    def __init__(self):\n",
    "        print(\"Initializer called \")"
   ]
  },
  {
   "cell_type": "code",
   "execution_count": 46,
   "id": "4d34873f",
   "metadata": {},
   "outputs": [
    {
     "ename": "TypeError",
     "evalue": "Test.__init__() takes 1 positional argument but 2 were given",
     "output_type": "error",
     "traceback": [
      "\u001b[1;31m---------------------------------------------------------------------------\u001b[0m",
      "\u001b[1;31mTypeError\u001b[0m                                 Traceback (most recent call last)",
      "Input \u001b[1;32mIn [46]\u001b[0m, in \u001b[0;36m<cell line: 1>\u001b[1;34m()\u001b[0m\n\u001b[1;32m----> 1\u001b[0m t \u001b[38;5;241m=\u001b[39m \u001b[43mTest\u001b[49m\u001b[43m(\u001b[49m\u001b[38;5;241;43m2\u001b[39;49m\u001b[43m)\u001b[49m\n",
      "\u001b[1;31mTypeError\u001b[0m: Test.__init__() takes 1 positional argument but 2 were given"
     ]
    }
   ],
   "source": [
    "t = Test(2)"
   ]
  },
  {
   "cell_type": "code",
   "execution_count": 47,
   "id": "4d3512a1",
   "metadata": {},
   "outputs": [],
   "source": [
    "class Test:\n",
    "    def __init__(self,n):\n",
    "        self.n = n \n",
    "        print(self.n)\n",
    "        print(\"Initializer called \")"
   ]
  },
  {
   "cell_type": "code",
   "execution_count": 49,
   "id": "8e24c001",
   "metadata": {},
   "outputs": [
    {
     "name": "stdout",
     "output_type": "stream",
     "text": [
      "100\n",
      "Initializer called \n"
     ]
    }
   ],
   "source": [
    "t = Test(100)"
   ]
  },
  {
   "cell_type": "code",
   "execution_count": 50,
   "id": "addce3d9",
   "metadata": {},
   "outputs": [
    {
     "data": {
      "text/plain": [
       "mappingproxy({'__module__': '__main__',\n",
       "              '__init__': <function __main__.Test.__init__(self, n)>,\n",
       "              '__dict__': <attribute '__dict__' of 'Test' objects>,\n",
       "              '__weakref__': <attribute '__weakref__' of 'Test' objects>,\n",
       "              '__doc__': None})"
      ]
     },
     "execution_count": 50,
     "metadata": {},
     "output_type": "execute_result"
    }
   ],
   "source": [
    "Test.__dict__"
   ]
  },
  {
   "cell_type": "code",
   "execution_count": 52,
   "id": "dcef2944",
   "metadata": {},
   "outputs": [
    {
     "data": {
      "text/plain": [
       "({'n': 100}, 100)"
      ]
     },
     "execution_count": 52,
     "metadata": {},
     "output_type": "execute_result"
    }
   ],
   "source": [
    "t.__dict__, t.n"
   ]
  },
  {
   "cell_type": "code",
   "execution_count": null,
   "id": "cf14cbdf",
   "metadata": {},
   "outputs": [],
   "source": []
  },
  {
   "cell_type": "code",
   "execution_count": 60,
   "id": "f6e575cb",
   "metadata": {},
   "outputs": [],
   "source": [
    "class Student:\n",
    "    def __init__(self,name,age):  # Initializer\n",
    "        self.name = name \n",
    "        self.age = age \n",
    "    def get_data(self):\n",
    "        return self.name,self.age \n",
    "    def set_name(self,name):\n",
    "        self.name = name \n",
    "        return self.name,self.age "
   ]
  },
  {
   "cell_type": "code",
   "execution_count": 61,
   "id": "d41bdb62",
   "metadata": {},
   "outputs": [],
   "source": [
    "s = Student('xyz',34)"
   ]
  },
  {
   "cell_type": "code",
   "execution_count": 55,
   "id": "cae97e9d",
   "metadata": {},
   "outputs": [
    {
     "data": {
      "text/plain": [
       "{'name': 'xyz', 'age': 34}"
      ]
     },
     "execution_count": 55,
     "metadata": {},
     "output_type": "execute_result"
    }
   ],
   "source": [
    "s.__dict__"
   ]
  },
  {
   "cell_type": "code",
   "execution_count": 56,
   "id": "d0399743",
   "metadata": {},
   "outputs": [
    {
     "data": {
      "text/plain": [
       "'xyz'"
      ]
     },
     "execution_count": 56,
     "metadata": {},
     "output_type": "execute_result"
    }
   ],
   "source": [
    "s.name"
   ]
  },
  {
   "cell_type": "code",
   "execution_count": 57,
   "id": "dad5cf63",
   "metadata": {},
   "outputs": [
    {
     "data": {
      "text/plain": [
       "('xyz', 34)"
      ]
     },
     "execution_count": 57,
     "metadata": {},
     "output_type": "execute_result"
    }
   ],
   "source": [
    "s.get_data()"
   ]
  },
  {
   "cell_type": "code",
   "execution_count": 58,
   "id": "9263cf49",
   "metadata": {},
   "outputs": [
    {
     "data": {
      "text/plain": [
       "mappingproxy({'__module__': '__main__',\n",
       "              '__init__': <function __main__.Student.__init__(self, name, age)>,\n",
       "              'get_data': <function __main__.Student.get_data(self)>,\n",
       "              'set_name': <function __main__.Student.set_name(self, name)>,\n",
       "              '__dict__': <attribute '__dict__' of 'Student' objects>,\n",
       "              '__weakref__': <attribute '__weakref__' of 'Student' objects>,\n",
       "              '__doc__': None})"
      ]
     },
     "execution_count": 58,
     "metadata": {},
     "output_type": "execute_result"
    }
   ],
   "source": [
    "Student.__dict__"
   ]
  },
  {
   "cell_type": "code",
   "execution_count": 62,
   "id": "61df0138",
   "metadata": {},
   "outputs": [
    {
     "data": {
      "text/plain": [
       "('somani', 34)"
      ]
     },
     "execution_count": 62,
     "metadata": {},
     "output_type": "execute_result"
    }
   ],
   "source": [
    "s.set_name('somani')"
   ]
  },
  {
   "cell_type": "code",
   "execution_count": 63,
   "id": "fafb74dc",
   "metadata": {},
   "outputs": [
    {
     "data": {
      "text/plain": [
       "{'name': 'somani', 'age': 34}"
      ]
     },
     "execution_count": 63,
     "metadata": {},
     "output_type": "execute_result"
    }
   ],
   "source": [
    "s.__dict__"
   ]
  },
  {
   "cell_type": "code",
   "execution_count": 111,
   "id": "7fe725f5",
   "metadata": {},
   "outputs": [],
   "source": [
    "class Employee:\n",
    "    company = 'TCS'\n",
    "    f = open('employee.data','w')\n",
    "    def __init__(self,_id,name,designation):\n",
    "        self._id = _id \n",
    "        self.name = name \n",
    "        self.designation = designation\n",
    "        \n",
    "    def store_record(self):\n",
    "        self.f.writelines(str(self._id))\n",
    "        self.f.writelines(self.name)\n",
    "        self.f.writelines(self.designation)\n",
    "        self.close()\n",
    "\n",
    "    def get_record(self):\n",
    "        self.f = open('employee.data','r')\n",
    "        self.data = self.f.read()\n",
    "        return self.data\n",
    "        \n",
    "    def close(self):\n",
    "        self.f.close()\n",
    "        "
   ]
  },
  {
   "cell_type": "code",
   "execution_count": 112,
   "id": "187d5928",
   "metadata": {},
   "outputs": [],
   "source": [
    "e = Employee(2,'rahul','trainer')"
   ]
  },
  {
   "cell_type": "code",
   "execution_count": 113,
   "id": "ca1cfb7a",
   "metadata": {},
   "outputs": [
    {
     "data": {
      "text/plain": [
       "{'_id': 2, 'name': 'rahul', 'designation': 'trainer'}"
      ]
     },
     "execution_count": 113,
     "metadata": {},
     "output_type": "execute_result"
    }
   ],
   "source": [
    "e.__dict__"
   ]
  },
  {
   "cell_type": "code",
   "execution_count": 114,
   "id": "462025e8",
   "metadata": {},
   "outputs": [
    {
     "data": {
      "text/plain": [
       "mappingproxy({'__module__': '__main__',\n",
       "              'company': 'TCS',\n",
       "              'f': <_io.TextIOWrapper name='employee.data' mode='w' encoding='cp1252'>,\n",
       "              '__init__': <function __main__.Employee.__init__(self, _id, name, designation)>,\n",
       "              'store_record': <function __main__.Employee.store_record(self)>,\n",
       "              'get_record': <function __main__.Employee.get_record(self)>,\n",
       "              'close': <function __main__.Employee.close(self)>,\n",
       "              '__dict__': <attribute '__dict__' of 'Employee' objects>,\n",
       "              '__weakref__': <attribute '__weakref__' of 'Employee' objects>,\n",
       "              '__doc__': None})"
      ]
     },
     "execution_count": 114,
     "metadata": {},
     "output_type": "execute_result"
    }
   ],
   "source": [
    "Employee.__dict__"
   ]
  },
  {
   "cell_type": "code",
   "execution_count": 115,
   "id": "5b17816b",
   "metadata": {},
   "outputs": [],
   "source": [
    "e.store_record()"
   ]
  },
  {
   "cell_type": "code",
   "execution_count": 116,
   "id": "5206db2b",
   "metadata": {},
   "outputs": [
    {
     "data": {
      "text/plain": [
       "'2rahultrainer'"
      ]
     },
     "execution_count": 116,
     "metadata": {},
     "output_type": "execute_result"
    }
   ],
   "source": [
    "e.get_record()"
   ]
  },
  {
   "cell_type": "code",
   "execution_count": 117,
   "id": "bd62d6dd",
   "metadata": {},
   "outputs": [
    {
     "name": "stdout",
     "output_type": "stream",
     "text": [
      "['__class__', '__delattr__', '__dict__', '__dir__', '__doc__', '__eq__', '__format__', '__ge__', '__getattribute__', '__gt__', '__hash__', '__init__', '__init_subclass__', '__le__', '__lt__', '__module__', '__ne__', '__new__', '__reduce__', '__reduce_ex__', '__repr__', '__setattr__', '__sizeof__', '__str__', '__subclasshook__', '__weakref__', '_id', 'close', 'company', 'data', 'designation', 'f', 'get_record', 'name', 'store_record']\n"
     ]
    }
   ],
   "source": [
    "print(dir(e))"
   ]
  },
  {
   "cell_type": "code",
   "execution_count": 122,
   "id": "54e6593e",
   "metadata": {},
   "outputs": [
    {
     "data": {
      "text/plain": [
       "2"
      ]
     },
     "execution_count": 122,
     "metadata": {},
     "output_type": "execute_result"
    }
   ],
   "source": [
    "e.__getattribute__('_id')"
   ]
  },
  {
   "cell_type": "code",
   "execution_count": 123,
   "id": "d64211eb",
   "metadata": {},
   "outputs": [
    {
     "data": {
      "text/plain": [
       "2"
      ]
     },
     "execution_count": 123,
     "metadata": {},
     "output_type": "execute_result"
    }
   ],
   "source": [
    "e._id"
   ]
  },
  {
   "cell_type": "code",
   "execution_count": 124,
   "id": "8055a40b",
   "metadata": {},
   "outputs": [
    {
     "data": {
      "text/plain": [
       "__main__.Employee"
      ]
     },
     "execution_count": 124,
     "metadata": {},
     "output_type": "execute_result"
    }
   ],
   "source": [
    "e.__class__"
   ]
  },
  {
   "cell_type": "code",
   "execution_count": 127,
   "id": "bf1f3bb3",
   "metadata": {},
   "outputs": [],
   "source": [
    "e.__delattr__('name')"
   ]
  },
  {
   "cell_type": "code",
   "execution_count": 128,
   "id": "b5c1dae1",
   "metadata": {},
   "outputs": [
    {
     "data": {
      "text/plain": [
       "{'designation': 'trainer',\n",
       " 'f': <_io.TextIOWrapper name='employee.data' mode='r' encoding='cp1252'>,\n",
       " 'data': '2rahultrainer'}"
      ]
     },
     "execution_count": 128,
     "metadata": {},
     "output_type": "execute_result"
    }
   ],
   "source": [
    "e.__dict__"
   ]
  },
  {
   "cell_type": "code",
   "execution_count": 130,
   "id": "7746c3e7",
   "metadata": {},
   "outputs": [],
   "source": [
    "del e.designation"
   ]
  },
  {
   "cell_type": "code",
   "execution_count": 131,
   "id": "35c42460",
   "metadata": {},
   "outputs": [
    {
     "data": {
      "text/plain": [
       "{'f': <_io.TextIOWrapper name='employee.data' mode='r' encoding='cp1252'>,\n",
       " 'data': '2rahultrainer'}"
      ]
     },
     "execution_count": 131,
     "metadata": {},
     "output_type": "execute_result"
    }
   ],
   "source": [
    "e.__dict__"
   ]
  },
  {
   "cell_type": "code",
   "execution_count": 132,
   "id": "e2f538b2",
   "metadata": {},
   "outputs": [
    {
     "data": {
      "text/plain": [
       "<_io.TextIOWrapper name='employee.data' mode='r' encoding='cp1252'>"
      ]
     },
     "execution_count": 132,
     "metadata": {},
     "output_type": "execute_result"
    }
   ],
   "source": [
    "e.f"
   ]
  },
  {
   "cell_type": "code",
   "execution_count": 135,
   "id": "27b46995",
   "metadata": {},
   "outputs": [
    {
     "data": {
      "text/plain": [
       "0"
      ]
     },
     "execution_count": 135,
     "metadata": {},
     "output_type": "execute_result"
    }
   ],
   "source": [
    "e.f.seek(0)"
   ]
  },
  {
   "cell_type": "code",
   "execution_count": 136,
   "id": "f77adb3b",
   "metadata": {},
   "outputs": [
    {
     "data": {
      "text/plain": [
       "'2rahultrainer'"
      ]
     },
     "execution_count": 136,
     "metadata": {},
     "output_type": "execute_result"
    }
   ],
   "source": [
    "e.f.read()"
   ]
  },
  {
   "cell_type": "code",
   "execution_count": 137,
   "id": "8a09c947",
   "metadata": {},
   "outputs": [
    {
     "data": {
      "text/plain": [
       "''"
      ]
     },
     "execution_count": 137,
     "metadata": {},
     "output_type": "execute_result"
    }
   ],
   "source": [
    "e.f.read()"
   ]
  },
  {
   "cell_type": "code",
   "execution_count": 138,
   "id": "0fd5b015",
   "metadata": {},
   "outputs": [
    {
     "data": {
      "text/plain": [
       "5"
      ]
     },
     "execution_count": 138,
     "metadata": {},
     "output_type": "execute_result"
    }
   ],
   "source": [
    "e.f.seek(5)"
   ]
  },
  {
   "cell_type": "code",
   "execution_count": 139,
   "id": "891d5225",
   "metadata": {},
   "outputs": [
    {
     "data": {
      "text/plain": [
       "'ltrainer'"
      ]
     },
     "execution_count": 139,
     "metadata": {},
     "output_type": "execute_result"
    }
   ],
   "source": [
    "e.f.read()"
   ]
  },
  {
   "cell_type": "code",
   "execution_count": 140,
   "id": "34d4db03",
   "metadata": {},
   "outputs": [
    {
     "data": {
      "text/plain": [
       "13"
      ]
     },
     "execution_count": 140,
     "metadata": {},
     "output_type": "execute_result"
    }
   ],
   "source": [
    "e.f.tell()"
   ]
  },
  {
   "cell_type": "code",
   "execution_count": 143,
   "id": "8d5642c7",
   "metadata": {},
   "outputs": [],
   "source": [
    "class MyClass:\n",
    "    def instance_func(self):\n",
    "        print(f\"Instance method bound to {self}\")\n",
    "    \n",
    "    @classmethod\n",
    "    def class_func(cls):\n",
    "        print(f'class method bound to {cls}')\n",
    "        \n",
    "    @staticmethod\n",
    "    def static_func():\n",
    "        print(\"Static method not bound to anything \")"
   ]
  },
  {
   "cell_type": "code",
   "execution_count": 147,
   "id": "79a56a5e",
   "metadata": {},
   "outputs": [],
   "source": [
    "obj = MyClass()"
   ]
  },
  {
   "cell_type": "code",
   "execution_count": 148,
   "id": "ff18ff93",
   "metadata": {},
   "outputs": [
    {
     "name": "stdout",
     "output_type": "stream",
     "text": [
      "Instance method bound to <__main__.MyClass object at 0x000002BF836F8E20>\n"
     ]
    }
   ],
   "source": [
    "obj.instance_func()"
   ]
  },
  {
   "cell_type": "code",
   "execution_count": 149,
   "id": "5b879dda",
   "metadata": {},
   "outputs": [
    {
     "data": {
      "text/plain": [
       "'0x2bf836f8e20'"
      ]
     },
     "execution_count": 149,
     "metadata": {},
     "output_type": "execute_result"
    }
   ],
   "source": [
    "hex(id(obj))"
   ]
  },
  {
   "cell_type": "code",
   "execution_count": 150,
   "id": "bbac30b8",
   "metadata": {},
   "outputs": [
    {
     "name": "stdout",
     "output_type": "stream",
     "text": [
      "Instance method bound to <__main__.MyClass object at 0x000002BF836F8E20>\n"
     ]
    }
   ],
   "source": [
    "MyClass.instance_func(obj)"
   ]
  },
  {
   "cell_type": "code",
   "execution_count": 151,
   "id": "b1f38b80",
   "metadata": {},
   "outputs": [
    {
     "name": "stdout",
     "output_type": "stream",
     "text": [
      "class method bound to <class '__main__.MyClass'>\n"
     ]
    }
   ],
   "source": [
    "MyClass.class_func()"
   ]
  },
  {
   "cell_type": "code",
   "execution_count": 152,
   "id": "809cf9ad",
   "metadata": {},
   "outputs": [
    {
     "name": "stdout",
     "output_type": "stream",
     "text": [
      "class method bound to <class '__main__.MyClass'>\n"
     ]
    }
   ],
   "source": [
    "obj.class_func()"
   ]
  },
  {
   "cell_type": "code",
   "execution_count": 153,
   "id": "566bf00b",
   "metadata": {},
   "outputs": [
    {
     "name": "stdout",
     "output_type": "stream",
     "text": [
      "Static method not bound to anything \n"
     ]
    }
   ],
   "source": [
    "MyClass.static_func()"
   ]
  },
  {
   "cell_type": "code",
   "execution_count": 154,
   "id": "e82e2809",
   "metadata": {},
   "outputs": [
    {
     "name": "stdout",
     "output_type": "stream",
     "text": [
      "Static method not bound to anything \n"
     ]
    }
   ],
   "source": [
    "obj.static_func()"
   ]
  },
  {
   "cell_type": "code",
   "execution_count": 161,
   "id": "ba6b81c1",
   "metadata": {},
   "outputs": [],
   "source": [
    "class Square:\n",
    "    def sqr(self,n):\n",
    "        self.n = n \n",
    "        return self.n**2"
   ]
  },
  {
   "cell_type": "code",
   "execution_count": 162,
   "id": "821e2f3e",
   "metadata": {},
   "outputs": [],
   "source": [
    "s = Square()"
   ]
  },
  {
   "cell_type": "code",
   "execution_count": 163,
   "id": "eb49fb23",
   "metadata": {},
   "outputs": [
    {
     "data": {
      "text/plain": [
       "16"
      ]
     },
     "execution_count": 163,
     "metadata": {},
     "output_type": "execute_result"
    }
   ],
   "source": [
    "s.sqr(4)"
   ]
  },
  {
   "cell_type": "code",
   "execution_count": 164,
   "id": "276aa837",
   "metadata": {},
   "outputs": [],
   "source": [
    "class Square:\n",
    "    def __call__(self,n):\n",
    "        self.n = n \n",
    "        return self.n**2"
   ]
  },
  {
   "cell_type": "code",
   "execution_count": 165,
   "id": "8d802c2e",
   "metadata": {},
   "outputs": [],
   "source": [
    "s = Square()"
   ]
  },
  {
   "cell_type": "code",
   "execution_count": 166,
   "id": "f4856125",
   "metadata": {},
   "outputs": [
    {
     "data": {
      "text/plain": [
       "True"
      ]
     },
     "execution_count": 166,
     "metadata": {},
     "output_type": "execute_result"
    }
   ],
   "source": [
    "callable(Square)"
   ]
  },
  {
   "cell_type": "code",
   "execution_count": 167,
   "id": "717b004d",
   "metadata": {},
   "outputs": [
    {
     "data": {
      "text/plain": [
       "True"
      ]
     },
     "execution_count": 167,
     "metadata": {},
     "output_type": "execute_result"
    }
   ],
   "source": [
    "callable(s)"
   ]
  },
  {
   "cell_type": "code",
   "execution_count": 168,
   "id": "167ca447",
   "metadata": {},
   "outputs": [
    {
     "data": {
      "text/plain": [
       "16"
      ]
     },
     "execution_count": 168,
     "metadata": {},
     "output_type": "execute_result"
    }
   ],
   "source": [
    "s(4)"
   ]
  },
  {
   "cell_type": "code",
   "execution_count": 169,
   "id": "06b974dc",
   "metadata": {},
   "outputs": [
    {
     "data": {
      "text/plain": [
       "1225"
      ]
     },
     "execution_count": 169,
     "metadata": {},
     "output_type": "execute_result"
    }
   ],
   "source": [
    "s(35)"
   ]
  },
  {
   "cell_type": "code",
   "execution_count": 171,
   "id": "51456156",
   "metadata": {},
   "outputs": [
    {
     "data": {
      "text/plain": [
       "(__main__.Square, <__main__.Square at 0x2bf836fa140>)"
      ]
     },
     "execution_count": 171,
     "metadata": {},
     "output_type": "execute_result"
    }
   ],
   "source": [
    "Square, s"
   ]
  },
  {
   "cell_type": "code",
   "execution_count": 172,
   "id": "982de2a3",
   "metadata": {},
   "outputs": [],
   "source": [
    "class Animal:\n",
    "    def __init__(self,_type,name):\n",
    "        self._type = _type \n",
    "        self.name = name \n",
    "        \n",
    "    def get(self):\n",
    "        return f' Hi I am a {self._type} and my name is {self.name}'\n",
    "    \n",
    "    def __repr__(self):\n",
    "        return f'Animal({self._type},{self.name})'"
   ]
  },
  {
   "cell_type": "code",
   "execution_count": 173,
   "id": "348e06ee",
   "metadata": {},
   "outputs": [],
   "source": [
    "a = Animal('Dog','Arrow')"
   ]
  },
  {
   "cell_type": "code",
   "execution_count": 174,
   "id": "a46d891a",
   "metadata": {},
   "outputs": [
    {
     "data": {
      "text/plain": [
       "' Hi I am a Dog and my name is Arrow'"
      ]
     },
     "execution_count": 174,
     "metadata": {},
     "output_type": "execute_result"
    }
   ],
   "source": [
    "a.get()"
   ]
  },
  {
   "cell_type": "code",
   "execution_count": 175,
   "id": "811fc609",
   "metadata": {},
   "outputs": [
    {
     "data": {
      "text/plain": [
       "Animal(Dog,Arrow)"
      ]
     },
     "execution_count": 175,
     "metadata": {},
     "output_type": "execute_result"
    }
   ],
   "source": [
    "a"
   ]
  },
  {
   "cell_type": "code",
   "execution_count": 176,
   "id": "2f446e0c",
   "metadata": {},
   "outputs": [
    {
     "data": {
      "text/plain": [
       "__main__.Animal"
      ]
     },
     "execution_count": 176,
     "metadata": {},
     "output_type": "execute_result"
    }
   ],
   "source": [
    "Animal"
   ]
  },
  {
   "cell_type": "code",
   "execution_count": 177,
   "id": "e4115b71",
   "metadata": {},
   "outputs": [
    {
     "name": "stdout",
     "output_type": "stream",
     "text": [
      "Animal(Dog,Arrow)\n"
     ]
    }
   ],
   "source": [
    "print(a)"
   ]
  },
  {
   "cell_type": "code",
   "execution_count": 178,
   "id": "3dcd0e45",
   "metadata": {},
   "outputs": [],
   "source": [
    "class Animal:\n",
    "    def __init__(self,_type,name):\n",
    "        self._type = _type \n",
    "        self.name = name \n",
    "        \n",
    "    def get(self):\n",
    "        return f' Hi I am a {self._type} and my name is {self.name}'\n",
    "    \n",
    "    def __repr__(self):\n",
    "        return f'Animal({self._type},{self.name})'\n",
    "    \n",
    "    def __str__(self):\n",
    "        return f'Hello world'"
   ]
  },
  {
   "cell_type": "code",
   "execution_count": 180,
   "id": "3ee94bf7",
   "metadata": {},
   "outputs": [],
   "source": [
    "a = Animal('cat','mike')"
   ]
  },
  {
   "cell_type": "code",
   "execution_count": 181,
   "id": "4b66d607",
   "metadata": {},
   "outputs": [
    {
     "data": {
      "text/plain": [
       "Animal(cat,mike)"
      ]
     },
     "execution_count": 181,
     "metadata": {},
     "output_type": "execute_result"
    }
   ],
   "source": [
    "a"
   ]
  },
  {
   "cell_type": "code",
   "execution_count": 182,
   "id": "7999984d",
   "metadata": {},
   "outputs": [
    {
     "name": "stdout",
     "output_type": "stream",
     "text": [
      "Hello world\n"
     ]
    }
   ],
   "source": [
    "print(a)"
   ]
  },
  {
   "cell_type": "code",
   "execution_count": 183,
   "id": "a67c6558",
   "metadata": {},
   "outputs": [],
   "source": [
    "class FriendList:\n",
    "    friends=['ram','rahim','gulzar','amit','khanna']\n",
    "    def __init__(self):\n",
    "        self.n = 0 \n",
    "        \n",
    "    def get_next_friend(self):\n",
    "        self.friend = self.friends[self.n]\n",
    "        self.n+=1\n",
    "        return self.friend\n",
    "        \n",
    "    "
   ]
  },
  {
   "cell_type": "code",
   "execution_count": 184,
   "id": "b39a6f98",
   "metadata": {},
   "outputs": [],
   "source": [
    "f = FriendList()"
   ]
  },
  {
   "cell_type": "code",
   "execution_count": 187,
   "id": "466c0a46",
   "metadata": {},
   "outputs": [
    {
     "data": {
      "text/plain": [
       "(mappingproxy({'__module__': '__main__',\n",
       "               'friends': ['ram', 'rahim', 'gulzar', 'amit', 'khanna'],\n",
       "               '__init__': <function __main__.FriendList.__init__(self)>,\n",
       "               'get_next_friend': <function __main__.FriendList.get_next_friend(self)>,\n",
       "               '__dict__': <attribute '__dict__' of 'FriendList' objects>,\n",
       "               '__weakref__': <attribute '__weakref__' of 'FriendList' objects>,\n",
       "               '__doc__': None}),\n",
       " {'n': 0})"
      ]
     },
     "execution_count": 187,
     "metadata": {},
     "output_type": "execute_result"
    }
   ],
   "source": [
    "FriendList.__dict__, f.__dict__"
   ]
  },
  {
   "cell_type": "code",
   "execution_count": 188,
   "id": "57c27fb5",
   "metadata": {},
   "outputs": [
    {
     "data": {
      "text/plain": [
       "'ram'"
      ]
     },
     "execution_count": 188,
     "metadata": {},
     "output_type": "execute_result"
    }
   ],
   "source": [
    "f.get_next_friend()"
   ]
  },
  {
   "cell_type": "code",
   "execution_count": 189,
   "id": "38aa19b7",
   "metadata": {},
   "outputs": [
    {
     "data": {
      "text/plain": [
       "'rahim'"
      ]
     },
     "execution_count": 189,
     "metadata": {},
     "output_type": "execute_result"
    }
   ],
   "source": [
    "f.get_next_friend()"
   ]
  },
  {
   "cell_type": "code",
   "execution_count": 190,
   "id": "376ccdac",
   "metadata": {},
   "outputs": [
    {
     "data": {
      "text/plain": [
       "'gulzar'"
      ]
     },
     "execution_count": 190,
     "metadata": {},
     "output_type": "execute_result"
    }
   ],
   "source": [
    "f.get_next_friend()"
   ]
  },
  {
   "cell_type": "code",
   "execution_count": 191,
   "id": "aa9e8375",
   "metadata": {},
   "outputs": [
    {
     "data": {
      "text/plain": [
       "'amit'"
      ]
     },
     "execution_count": 191,
     "metadata": {},
     "output_type": "execute_result"
    }
   ],
   "source": [
    "f.get_next_friend()"
   ]
  },
  {
   "cell_type": "code",
   "execution_count": 192,
   "id": "a5c4a99e",
   "metadata": {},
   "outputs": [
    {
     "data": {
      "text/plain": [
       "'khanna'"
      ]
     },
     "execution_count": 192,
     "metadata": {},
     "output_type": "execute_result"
    }
   ],
   "source": [
    "f.get_next_friend()"
   ]
  },
  {
   "cell_type": "code",
   "execution_count": 193,
   "id": "6443ce1b",
   "metadata": {},
   "outputs": [
    {
     "ename": "IndexError",
     "evalue": "list index out of range",
     "output_type": "error",
     "traceback": [
      "\u001b[1;31m---------------------------------------------------------------------------\u001b[0m",
      "\u001b[1;31mIndexError\u001b[0m                                Traceback (most recent call last)",
      "Input \u001b[1;32mIn [193]\u001b[0m, in \u001b[0;36m<cell line: 1>\u001b[1;34m()\u001b[0m\n\u001b[1;32m----> 1\u001b[0m \u001b[43mf\u001b[49m\u001b[38;5;241;43m.\u001b[39;49m\u001b[43mget_next_friend\u001b[49m\u001b[43m(\u001b[49m\u001b[43m)\u001b[49m\n",
      "Input \u001b[1;32mIn [183]\u001b[0m, in \u001b[0;36mFriendList.get_next_friend\u001b[1;34m(self)\u001b[0m\n\u001b[0;32m      6\u001b[0m \u001b[38;5;28;01mdef\u001b[39;00m \u001b[38;5;21mget_next_friend\u001b[39m(\u001b[38;5;28mself\u001b[39m):\n\u001b[1;32m----> 7\u001b[0m     \u001b[38;5;28mself\u001b[39m\u001b[38;5;241m.\u001b[39mfriend \u001b[38;5;241m=\u001b[39m \u001b[38;5;28;43mself\u001b[39;49m\u001b[38;5;241;43m.\u001b[39;49m\u001b[43mfriends\u001b[49m\u001b[43m[\u001b[49m\u001b[38;5;28;43mself\u001b[39;49m\u001b[38;5;241;43m.\u001b[39;49m\u001b[43mn\u001b[49m\u001b[43m]\u001b[49m\n\u001b[0;32m      8\u001b[0m     \u001b[38;5;28mself\u001b[39m\u001b[38;5;241m.\u001b[39mn\u001b[38;5;241m+\u001b[39m\u001b[38;5;241m=\u001b[39m\u001b[38;5;241m1\u001b[39m\n\u001b[0;32m      9\u001b[0m     \u001b[38;5;28;01mreturn\u001b[39;00m \u001b[38;5;28mself\u001b[39m\u001b[38;5;241m.\u001b[39mfriend\n",
      "\u001b[1;31mIndexError\u001b[0m: list index out of range"
     ]
    }
   ],
   "source": [
    "f.get_next_friend()"
   ]
  },
  {
   "cell_type": "code",
   "execution_count": 194,
   "id": "32b6d219",
   "metadata": {},
   "outputs": [],
   "source": [
    "class FriendList:\n",
    "    friends=['ram','rahim','gulzar','amit','khanna']\n",
    "    def __init__(self):\n",
    "        self.n = 0 \n",
    "        \n",
    "    def __next__(self):\n",
    "        self.friend = self.friends[self.n]\n",
    "        self.n+=1\n",
    "        return self.friend\n",
    "        "
   ]
  },
  {
   "cell_type": "code",
   "execution_count": 195,
   "id": "404ce7cf",
   "metadata": {},
   "outputs": [],
   "source": [
    "f = FriendList()"
   ]
  },
  {
   "cell_type": "code",
   "execution_count": 196,
   "id": "31fc5072",
   "metadata": {},
   "outputs": [
    {
     "data": {
      "text/plain": [
       "'ram'"
      ]
     },
     "execution_count": 196,
     "metadata": {},
     "output_type": "execute_result"
    }
   ],
   "source": [
    "next(f)"
   ]
  },
  {
   "cell_type": "code",
   "execution_count": 197,
   "id": "011dcd6d",
   "metadata": {},
   "outputs": [
    {
     "data": {
      "text/plain": [
       "'rahim'"
      ]
     },
     "execution_count": 197,
     "metadata": {},
     "output_type": "execute_result"
    }
   ],
   "source": [
    "next(f)"
   ]
  },
  {
   "cell_type": "code",
   "execution_count": 199,
   "id": "6e31d1d1",
   "metadata": {},
   "outputs": [
    {
     "data": {
      "text/plain": [
       "<__main__.FriendList at 0x2bf83731b70>"
      ]
     },
     "execution_count": 199,
     "metadata": {},
     "output_type": "execute_result"
    }
   ],
   "source": [
    "f"
   ]
  },
  {
   "cell_type": "code",
   "execution_count": null,
   "id": "37b33d44",
   "metadata": {},
   "outputs": [],
   "source": []
  },
  {
   "cell_type": "code",
   "execution_count": 198,
   "id": "2e86bf23",
   "metadata": {},
   "outputs": [
    {
     "name": "stdout",
     "output_type": "stream",
     "text": [
      "gulzar\n",
      "amit\n",
      "khanna\n"
     ]
    },
    {
     "ename": "IndexError",
     "evalue": "list index out of range",
     "output_type": "error",
     "traceback": [
      "\u001b[1;31m---------------------------------------------------------------------------\u001b[0m",
      "\u001b[1;31mIndexError\u001b[0m                                Traceback (most recent call last)",
      "Input \u001b[1;32mIn [198]\u001b[0m, in \u001b[0;36m<cell line: 1>\u001b[1;34m()\u001b[0m\n\u001b[0;32m      1\u001b[0m \u001b[38;5;28;01mfor\u001b[39;00m _ \u001b[38;5;129;01min\u001b[39;00m \u001b[38;5;28mrange\u001b[39m(\u001b[38;5;241m10\u001b[39m):\n\u001b[1;32m----> 2\u001b[0m     \u001b[38;5;28mprint\u001b[39m(\u001b[38;5;28;43mnext\u001b[39;49m\u001b[43m(\u001b[49m\u001b[43mf\u001b[49m\u001b[43m)\u001b[49m)\n",
      "Input \u001b[1;32mIn [194]\u001b[0m, in \u001b[0;36mFriendList.__next__\u001b[1;34m(self)\u001b[0m\n\u001b[0;32m      6\u001b[0m \u001b[38;5;28;01mdef\u001b[39;00m \u001b[38;5;21m__next__\u001b[39m(\u001b[38;5;28mself\u001b[39m):\n\u001b[1;32m----> 7\u001b[0m     \u001b[38;5;28mself\u001b[39m\u001b[38;5;241m.\u001b[39mfriend \u001b[38;5;241m=\u001b[39m \u001b[38;5;28;43mself\u001b[39;49m\u001b[38;5;241;43m.\u001b[39;49m\u001b[43mfriends\u001b[49m\u001b[43m[\u001b[49m\u001b[38;5;28;43mself\u001b[39;49m\u001b[38;5;241;43m.\u001b[39;49m\u001b[43mn\u001b[49m\u001b[43m]\u001b[49m\n\u001b[0;32m      8\u001b[0m     \u001b[38;5;28mself\u001b[39m\u001b[38;5;241m.\u001b[39mn\u001b[38;5;241m+\u001b[39m\u001b[38;5;241m=\u001b[39m\u001b[38;5;241m1\u001b[39m\n\u001b[0;32m      9\u001b[0m     \u001b[38;5;28;01mreturn\u001b[39;00m \u001b[38;5;28mself\u001b[39m\u001b[38;5;241m.\u001b[39mfriend\n",
      "\u001b[1;31mIndexError\u001b[0m: list index out of range"
     ]
    }
   ],
   "source": [
    "for _ in range(10):\n",
    "    print(next(f))"
   ]
  },
  {
   "cell_type": "markdown",
   "id": "d4d30437",
   "metadata": {},
   "source": [
    "Q1.You have two dictionaries and want to find out what they might have in common (same keys,same values,etc)"
   ]
  },
  {
   "cell_type": "markdown",
   "id": "71f627bd",
   "metadata": {},
   "source": [
    "create a list of square ( list comprehension ), and then get one item at a time next()"
   ]
  },
  {
   "cell_type": "markdown",
   "id": "3e372b1d",
   "metadata": {},
   "source": [
    "Q3. You want to eliminate the duplicate values in a sequence, but preserve the order of the sequence "
   ]
  },
  {
   "cell_type": "markdown",
   "id": "fc4189da",
   "metadata": {},
   "source": [
    "Q4. You want to make a dictionary that is a subset of another dictionary \n",
    "\n",
    "{'n':4,'m':2,'k':6,'i':7}\n",
    "\n",
    "{'k':6,'i':7}"
   ]
  },
  {
   "cell_type": "code",
   "execution_count": 220,
   "id": "69f28bd1",
   "metadata": {},
   "outputs": [],
   "source": [
    "t=[[]]*5"
   ]
  },
  {
   "cell_type": "code",
   "execution_count": 221,
   "id": "85b8bb06",
   "metadata": {},
   "outputs": [
    {
     "data": {
      "text/plain": [
       "[[], [], [], [], []]"
      ]
     },
     "execution_count": 221,
     "metadata": {},
     "output_type": "execute_result"
    }
   ],
   "source": [
    "t"
   ]
  },
  {
   "cell_type": "code",
   "execution_count": 222,
   "id": "4553745e",
   "metadata": {},
   "outputs": [
    {
     "data": {
      "text/plain": [
       "5"
      ]
     },
     "execution_count": 222,
     "metadata": {},
     "output_type": "execute_result"
    }
   ],
   "source": [
    "len(t)"
   ]
  },
  {
   "cell_type": "code",
   "execution_count": 223,
   "id": "22cc3063",
   "metadata": {},
   "outputs": [
    {
     "data": {
      "text/plain": [
       "([], [])"
      ]
     },
     "execution_count": 223,
     "metadata": {},
     "output_type": "execute_result"
    }
   ],
   "source": [
    "t[1], t[2]"
   ]
  },
  {
   "cell_type": "code",
   "execution_count": 224,
   "id": "3f8df849",
   "metadata": {},
   "outputs": [
    {
     "data": {
      "text/plain": [
       "(3021597311296, 3021597311296)"
      ]
     },
     "execution_count": 224,
     "metadata": {},
     "output_type": "execute_result"
    }
   ],
   "source": [
    " id(t[0]), id(t[1])"
   ]
  },
  {
   "cell_type": "code",
   "execution_count": 218,
   "id": "ff9547a1",
   "metadata": {},
   "outputs": [
    {
     "data": {
      "text/plain": [
       "10"
      ]
     },
     "execution_count": 218,
     "metadata": {},
     "output_type": "execute_result"
    }
   ],
   "source": [
    "t"
   ]
  },
  {
   "cell_type": "code",
   "execution_count": null,
   "id": "f89afcda",
   "metadata": {},
   "outputs": [],
   "source": []
  }
 ],
 "metadata": {
  "kernelspec": {
   "display_name": "Python 3 (ipykernel)",
   "language": "python",
   "name": "python3"
  },
  "language_info": {
   "codemirror_mode": {
    "name": "ipython",
    "version": 3
   },
   "file_extension": ".py",
   "mimetype": "text/x-python",
   "name": "python",
   "nbconvert_exporter": "python",
   "pygments_lexer": "ipython3",
   "version": "3.10.4"
  }
 },
 "nbformat": 4,
 "nbformat_minor": 5
}
