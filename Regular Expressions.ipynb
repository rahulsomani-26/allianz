{
 "cells": [
  {
   "cell_type": "markdown",
   "id": "2a4e6fc5",
   "metadata": {},
   "source": [
    "# Regular Expressions \n",
    "\n",
    "` Also known as regexes, re. Tiny embedded programs written in c , which are very powerful in terms of \n",
    "computing `"
   ]
  },
  {
   "cell_type": "code",
   "execution_count": 1,
   "id": "3834efa4",
   "metadata": {},
   "outputs": [],
   "source": [
    "import re "
   ]
  },
  {
   "cell_type": "code",
   "execution_count": 2,
   "id": "cd2561b8",
   "metadata": {},
   "outputs": [
    {
     "name": "stdout",
     "output_type": "stream",
     "text": [
      "['A', 'ASCII', 'DEBUG', 'DOTALL', 'I', 'IGNORECASE', 'L', 'LOCALE', 'M', 'MULTILINE', 'Match', 'Pattern', 'RegexFlag', 'S', 'Scanner', 'T', 'TEMPLATE', 'U', 'UNICODE', 'VERBOSE', 'X', '_MAXCACHE', '__all__', '__builtins__', '__cached__', '__doc__', '__file__', '__loader__', '__name__', '__package__', '__spec__', '__version__', '_cache', '_compile', '_compile_repl', '_expand', '_locale', '_pickle', '_special_chars_map', '_subx', 'compile', 'copyreg', 'enum', 'error', 'escape', 'findall', 'finditer', 'fullmatch', 'functools', 'match', 'purge', 'search', 'split', 'sre_compile', 'sre_parse', 'sub', 'subn', 'template']\n"
     ]
    }
   ],
   "source": [
    "print(dir(re))"
   ]
  },
  {
   "cell_type": "code",
   "execution_count": 3,
   "id": "b026e615",
   "metadata": {},
   "outputs": [],
   "source": [
    "s = 'How are you Bond 007 ?'\n",
    "pattern = r'[0-9]'  # character class []\n",
    "result = re.search(pattern,s)\n"
   ]
  },
  {
   "cell_type": "code",
   "execution_count": 4,
   "id": "3e302616",
   "metadata": {},
   "outputs": [
    {
     "data": {
      "text/plain": [
       "<re.Match object; span=(17, 18), match='0'>"
      ]
     },
     "execution_count": 4,
     "metadata": {},
     "output_type": "execute_result"
    }
   ],
   "source": [
    "result"
   ]
  },
  {
   "cell_type": "code",
   "execution_count": 5,
   "id": "c573a84e",
   "metadata": {},
   "outputs": [
    {
     "data": {
      "text/plain": [
       "'0'"
      ]
     },
     "execution_count": 5,
     "metadata": {},
     "output_type": "execute_result"
    }
   ],
   "source": [
    "result.group()"
   ]
  },
  {
   "cell_type": "code",
   "execution_count": 6,
   "id": "64e7f88f",
   "metadata": {},
   "outputs": [
    {
     "name": "stdout",
     "output_type": "stream",
     "text": [
      "007\n"
     ]
    }
   ],
   "source": [
    "s = 'How are you Bond 007 ?'\n",
    "pattern = r'[0-9]+'  # character class []\n",
    "result = re.search(pattern,s)\n",
    "print(result.group())\n"
   ]
  },
  {
   "cell_type": "code",
   "execution_count": 7,
   "id": "3bbd2112",
   "metadata": {},
   "outputs": [
    {
     "name": "stdout",
     "output_type": "stream",
     "text": [
      "0\n"
     ]
    }
   ],
   "source": [
    "s = 'How are you Bond 007 ?'\n",
    "pattern = r'\\d'  # character class []\n",
    "result = re.search(pattern,s)\n",
    "print(result.group())\n",
    "\n"
   ]
  },
  {
   "cell_type": "code",
   "execution_count": 8,
   "id": "6bb1f899",
   "metadata": {},
   "outputs": [
    {
     "name": "stdout",
     "output_type": "stream",
     "text": [
      "007\n"
     ]
    }
   ],
   "source": [
    "s = 'How are you Bond 007 ?'\n",
    "pattern = r'\\d+'  # character class []\n",
    "result = re.search(pattern,s)\n",
    "print(result.group())\n"
   ]
  },
  {
   "cell_type": "code",
   "execution_count": 11,
   "id": "eb3c2d20",
   "metadata": {},
   "outputs": [
    {
     "name": "stdout",
     "output_type": "stream",
     "text": [
      "How are you Bond\n"
     ]
    }
   ],
   "source": [
    "s = 'How are you Bond 007 ?'\n",
    "pattern = r'\\w+\\s+\\w+\\s+\\w+\\s\\w+'  # character class []\n",
    "result = re.search(pattern,s)\n",
    "print(result.group())\n"
   ]
  },
  {
   "cell_type": "code",
   "execution_count": 12,
   "id": "6a8f65be",
   "metadata": {},
   "outputs": [
    {
     "name": "stdout",
     "output_type": "stream",
     "text": [
      "How are you Bond \n"
     ]
    }
   ],
   "source": [
    "s = 'How are you Bond 007 ?'\n",
    "pattern = r'[^0-9]+'  #  A ^ sign within a character class inverts its features. Now will look for all words \n",
    "result = re.search(pattern,s)\n",
    "print(result.group())\n"
   ]
  },
  {
   "cell_type": "code",
   "execution_count": 13,
   "id": "adc9fb89",
   "metadata": {},
   "outputs": [
    {
     "name": "stdout",
     "output_type": "stream",
     "text": [
      "hills\n"
     ]
    }
   ],
   "source": [
    "t = 'Humpty dumpty went up to the hills, to fetch a glass of water'\n",
    "pattern = r'[hil]*s'\n",
    "result = re.search(pattern,t)\n",
    "print(result.group())"
   ]
  },
  {
   "cell_type": "code",
   "execution_count": 20,
   "id": "2be4dca7",
   "metadata": {},
   "outputs": [
    {
     "name": "stdout",
     "output_type": "stream",
     "text": [
      "hills, t\n"
     ]
    }
   ],
   "source": [
    "t = 'Humpty dumpty went up to the hills, to fetch a glass of water'\n",
    "pattern = r'[hil]*s...' # A . will match anything except a new line char\n",
    "result = re.search(pattern,t)\n",
    "print(result.group())"
   ]
  },
  {
   "cell_type": "code",
   "execution_count": 39,
   "id": "beb0c1bc",
   "metadata": {},
   "outputs": [],
   "source": [
    "msg = 'My name is Rahul, 7383 and 0383739 my number is 9999988888 and my mail id is somani.classes@outlook.com'\n",
    "# To search for, number and mail id \n"
   ]
  },
  {
   "cell_type": "code",
   "execution_count": 40,
   "id": "ddd80672",
   "metadata": {},
   "outputs": [],
   "source": [
    "number_pattern = r'\\d{2,5}'\n",
    "email_pattern = r'\\w+.\\w+@\\w+.\\w+'\n",
    "m1 = re.search(number_pattern,msg)\n",
    "m2 = re.search(email_pattern,msg)"
   ]
  },
  {
   "cell_type": "code",
   "execution_count": 41,
   "id": "bf7efaf2",
   "metadata": {},
   "outputs": [
    {
     "data": {
      "text/plain": [
       "'7383'"
      ]
     },
     "execution_count": 41,
     "metadata": {},
     "output_type": "execute_result"
    }
   ],
   "source": [
    "m1.group()"
   ]
  },
  {
   "cell_type": "code",
   "execution_count": 27,
   "id": "e98cf43c",
   "metadata": {},
   "outputs": [
    {
     "data": {
      "text/plain": [
       "'somani.classes@outlook.com'"
      ]
     },
     "execution_count": 27,
     "metadata": {},
     "output_type": "execute_result"
    }
   ],
   "source": [
    "m2.group()"
   ]
  },
  {
   "cell_type": "code",
   "execution_count": 65,
   "id": "77da84af",
   "metadata": {},
   "outputs": [],
   "source": [
    "msg = 'My name is Rahul, 7383 and 0383739 my number is 9999988888 and my mail id is somani.classes@outlook.com'\n",
    "email_pattern = r'\\w+\\.\\w+@\\w+\\.\\w{3}'\n",
    "m2 = re.search(email_pattern,msg)"
   ]
  },
  {
   "cell_type": "code",
   "execution_count": 66,
   "id": "aec93660",
   "metadata": {},
   "outputs": [
    {
     "data": {
      "text/plain": [
       "'somani.classes@outlook.com'"
      ]
     },
     "execution_count": 66,
     "metadata": {},
     "output_type": "execute_result"
    }
   ],
   "source": [
    "m2.group()"
   ]
  },
  {
   "cell_type": "code",
   "execution_count": 70,
   "id": "b84fe204",
   "metadata": {},
   "outputs": [],
   "source": [
    "s = '[Hello] my name is Amin , whats yours ?'\n",
    "d = ' He got +10 and you got -20. what a shame '\n",
    "\n",
    "pattern = r'\\[\\w+\\]'\n",
    "match = re.search(pattern,s)\n"
   ]
  },
  {
   "cell_type": "code",
   "execution_count": 71,
   "id": "da200cd5",
   "metadata": {},
   "outputs": [
    {
     "data": {
      "text/plain": [
       "'[Hello]'"
      ]
     },
     "execution_count": 71,
     "metadata": {},
     "output_type": "execute_result"
    }
   ],
   "source": [
    "match.group()"
   ]
  },
  {
   "cell_type": "code",
   "execution_count": 75,
   "id": "a85143f3",
   "metadata": {},
   "outputs": [],
   "source": [
    "pattern = r'[+-]\\d+'\n",
    "match = re.findall(pattern,d)"
   ]
  },
  {
   "cell_type": "code",
   "execution_count": 77,
   "id": "c7828a28",
   "metadata": {},
   "outputs": [
    {
     "data": {
      "text/plain": [
       "['+10', '-20']"
      ]
     },
     "execution_count": 77,
     "metadata": {},
     "output_type": "execute_result"
    }
   ],
   "source": [
    "match"
   ]
  },
  {
   "cell_type": "markdown",
   "id": "d8adcbca",
   "metadata": {},
   "source": []
  }
 ],
 "metadata": {
  "kernelspec": {
   "display_name": "Python 3 (ipykernel)",
   "language": "python",
   "name": "python3"
  },
  "language_info": {
   "codemirror_mode": {
    "name": "ipython",
    "version": 3
   },
   "file_extension": ".py",
   "mimetype": "text/x-python",
   "name": "python",
   "nbconvert_exporter": "python",
   "pygments_lexer": "ipython3",
   "version": "3.10.6"
  }
 },
 "nbformat": 4,
 "nbformat_minor": 5
}
