{
 "cells": [
  {
   "cell_type": "markdown",
   "id": "1c194415",
   "metadata": {},
   "source": [
    "# Tuples \n",
    "\n",
    "    - Immutable in nature \n",
    "    - Generally used to store homogeneous items \n",
    "    - Faster than a list "
   ]
  },
  {
   "cell_type": "code",
   "execution_count": 1,
   "id": "6982f7c9",
   "metadata": {},
   "outputs": [],
   "source": [
    "t = (1,2,3)"
   ]
  },
  {
   "cell_type": "code",
   "execution_count": 2,
   "id": "d5a10e27",
   "metadata": {},
   "outputs": [
    {
     "data": {
      "text/plain": [
       "(tuple, 2867616118016)"
      ]
     },
     "execution_count": 2,
     "metadata": {},
     "output_type": "execute_result"
    }
   ],
   "source": [
    "type(t), id(t)"
   ]
  },
  {
   "cell_type": "code",
   "execution_count": 4,
   "id": "781ca869",
   "metadata": {},
   "outputs": [],
   "source": [
    "t = tuple([1,2])"
   ]
  },
  {
   "cell_type": "code",
   "execution_count": 6,
   "id": "9cdf3fef",
   "metadata": {},
   "outputs": [
    {
     "data": {
      "text/plain": [
       "((1, 2), tuple)"
      ]
     },
     "execution_count": 6,
     "metadata": {},
     "output_type": "execute_result"
    }
   ],
   "source": [
    "t, type(t)"
   ]
  },
  {
   "cell_type": "markdown",
   "id": "ef485326",
   "metadata": {},
   "source": [
    "# An Empty Tuple"
   ]
  },
  {
   "cell_type": "code",
   "execution_count": 7,
   "id": "e3516bb5",
   "metadata": {},
   "outputs": [],
   "source": [
    "t = tuple()"
   ]
  },
  {
   "cell_type": "code",
   "execution_count": 8,
   "id": "6acb5ac9",
   "metadata": {},
   "outputs": [
    {
     "data": {
      "text/plain": [
       "0"
      ]
     },
     "execution_count": 8,
     "metadata": {},
     "output_type": "execute_result"
    }
   ],
   "source": [
    "len(t)"
   ]
  },
  {
   "cell_type": "code",
   "execution_count": 9,
   "id": "98a91be5",
   "metadata": {},
   "outputs": [],
   "source": [
    "t = ()"
   ]
  },
  {
   "cell_type": "code",
   "execution_count": 10,
   "id": "31cfcd9c",
   "metadata": {},
   "outputs": [
    {
     "data": {
      "text/plain": [
       "tuple"
      ]
     },
     "execution_count": 10,
     "metadata": {},
     "output_type": "execute_result"
    }
   ],
   "source": [
    "type(t)"
   ]
  },
  {
   "cell_type": "code",
   "execution_count": 11,
   "id": "15fa38a6",
   "metadata": {},
   "outputs": [],
   "source": [
    "t = (1,)"
   ]
  },
  {
   "cell_type": "code",
   "execution_count": 12,
   "id": "902ca962",
   "metadata": {},
   "outputs": [
    {
     "data": {
      "text/plain": [
       "(1, tuple)"
      ]
     },
     "execution_count": 12,
     "metadata": {},
     "output_type": "execute_result"
    }
   ],
   "source": [
    "len(t), type(t)"
   ]
  },
  {
   "cell_type": "code",
   "execution_count": 13,
   "id": "40185770",
   "metadata": {},
   "outputs": [],
   "source": [
    "t = 1,2,3,5"
   ]
  },
  {
   "cell_type": "code",
   "execution_count": 14,
   "id": "e7db9925",
   "metadata": {},
   "outputs": [
    {
     "data": {
      "text/plain": [
       "tuple"
      ]
     },
     "execution_count": 14,
     "metadata": {},
     "output_type": "execute_result"
    }
   ],
   "source": [
    "type(t)"
   ]
  },
  {
   "cell_type": "code",
   "execution_count": 15,
   "id": "daa35651",
   "metadata": {},
   "outputs": [
    {
     "data": {
      "text/plain": [
       "int"
      ]
     },
     "execution_count": 15,
     "metadata": {},
     "output_type": "execute_result"
    }
   ],
   "source": [
    "t = (1)\n",
    "type(t)"
   ]
  },
  {
   "cell_type": "code",
   "execution_count": 16,
   "id": "5e94099c",
   "metadata": {},
   "outputs": [
    {
     "data": {
      "text/plain": [
       "tuple"
      ]
     },
     "execution_count": 16,
     "metadata": {},
     "output_type": "execute_result"
    }
   ],
   "source": [
    "t = (1,)\n",
    "type(t)"
   ]
  },
  {
   "cell_type": "code",
   "execution_count": 17,
   "id": "45c08b18",
   "metadata": {},
   "outputs": [
    {
     "data": {
      "text/plain": [
       "tuple"
      ]
     },
     "execution_count": 17,
     "metadata": {},
     "output_type": "execute_result"
    }
   ],
   "source": [
    "t = 1,\n",
    "type(t)"
   ]
  },
  {
   "cell_type": "code",
   "execution_count": 23,
   "id": "50115199",
   "metadata": {},
   "outputs": [],
   "source": [
    "t = (1,) "
   ]
  },
  {
   "cell_type": "code",
   "execution_count": 24,
   "id": "cab4819e",
   "metadata": {},
   "outputs": [
    {
     "data": {
      "text/plain": [
       "tuple"
      ]
     },
     "execution_count": 24,
     "metadata": {},
     "output_type": "execute_result"
    }
   ],
   "source": [
    "type(t)"
   ]
  },
  {
   "cell_type": "code",
   "execution_count": 27,
   "id": "65647fed",
   "metadata": {},
   "outputs": [],
   "source": [
    "t = 'rahil',"
   ]
  },
  {
   "cell_type": "code",
   "execution_count": 29,
   "id": "9e25bf0f",
   "metadata": {},
   "outputs": [
    {
     "data": {
      "text/plain": [
       "(tuple, 1)"
      ]
     },
     "execution_count": 29,
     "metadata": {},
     "output_type": "execute_result"
    }
   ],
   "source": [
    "type(t), len(t)"
   ]
  },
  {
   "cell_type": "code",
   "execution_count": 31,
   "id": "b85fc40b",
   "metadata": {},
   "outputs": [],
   "source": [
    "t = 10,20,30,40,50,60,'Gokul',True,False,2.3"
   ]
  },
  {
   "cell_type": "code",
   "execution_count": 32,
   "id": "0d2c269d",
   "metadata": {},
   "outputs": [
    {
     "data": {
      "text/plain": [
       "(10, 20, 30, 40, 50, 60, 'Gokul', True, False, 2.3)"
      ]
     },
     "execution_count": 32,
     "metadata": {},
     "output_type": "execute_result"
    }
   ],
   "source": [
    "t"
   ]
  },
  {
   "cell_type": "code",
   "execution_count": 33,
   "id": "6270436e",
   "metadata": {},
   "outputs": [
    {
     "data": {
      "text/plain": [
       "40"
      ]
     },
     "execution_count": 33,
     "metadata": {},
     "output_type": "execute_result"
    }
   ],
   "source": [
    "t[3]"
   ]
  },
  {
   "cell_type": "code",
   "execution_count": 34,
   "id": "a984d9dc",
   "metadata": {},
   "outputs": [
    {
     "data": {
      "text/plain": [
       "(30, 50, 'Gokul')"
      ]
     },
     "execution_count": 34,
     "metadata": {},
     "output_type": "execute_result"
    }
   ],
   "source": [
    "t[2:7:2]"
   ]
  },
  {
   "cell_type": "code",
   "execution_count": 35,
   "id": "e364d7a3",
   "metadata": {},
   "outputs": [
    {
     "data": {
      "text/plain": [
       "(2.3, False, True, 'Gokul', 60, 50, 40, 30, 20, 10)"
      ]
     },
     "execution_count": 35,
     "metadata": {},
     "output_type": "execute_result"
    }
   ],
   "source": [
    "t[::-1]"
   ]
  },
  {
   "cell_type": "code",
   "execution_count": 36,
   "id": "d8c784b6",
   "metadata": {},
   "outputs": [
    {
     "name": "stdout",
     "output_type": "stream",
     "text": [
      "['__add__', '__class__', '__class_getitem__', '__contains__', '__delattr__', '__dir__', '__doc__', '__eq__', '__format__', '__ge__', '__getattribute__', '__getitem__', '__getnewargs__', '__gt__', '__hash__', '__init__', '__init_subclass__', '__iter__', '__le__', '__len__', '__lt__', '__mul__', '__ne__', '__new__', '__reduce__', '__reduce_ex__', '__repr__', '__rmul__', '__setattr__', '__sizeof__', '__str__', '__subclasshook__', 'count', 'index']\n"
     ]
    }
   ],
   "source": [
    "print(dir(tuple))"
   ]
  },
  {
   "cell_type": "code",
   "execution_count": 37,
   "id": "e8fe7f45",
   "metadata": {},
   "outputs": [
    {
     "data": {
      "text/plain": [
       "(10, 20, 30, 40, 50, 60, 'Gokul', True, False, 2.3)"
      ]
     },
     "execution_count": 37,
     "metadata": {},
     "output_type": "execute_result"
    }
   ],
   "source": [
    "t"
   ]
  },
  {
   "cell_type": "code",
   "execution_count": 39,
   "id": "c51acbfb",
   "metadata": {},
   "outputs": [
    {
     "data": {
      "text/plain": [
       "(5, 1)"
      ]
     },
     "execution_count": 39,
     "metadata": {},
     "output_type": "execute_result"
    }
   ],
   "source": [
    "t.index(60), t.count(False)"
   ]
  },
  {
   "cell_type": "code",
   "execution_count": 40,
   "id": "feeaad0b",
   "metadata": {},
   "outputs": [
    {
     "ename": "TypeError",
     "evalue": "'tuple' object doesn't support item deletion",
     "output_type": "error",
     "traceback": [
      "\u001b[1;31m---------------------------------------------------------------------------\u001b[0m",
      "\u001b[1;31mTypeError\u001b[0m                                 Traceback (most recent call last)",
      "Input \u001b[1;32mIn [40]\u001b[0m, in \u001b[0;36m<cell line: 1>\u001b[1;34m()\u001b[0m\n\u001b[1;32m----> 1\u001b[0m \u001b[38;5;28;01mdel\u001b[39;00m t[\u001b[38;5;241m0\u001b[39m]\n",
      "\u001b[1;31mTypeError\u001b[0m: 'tuple' object doesn't support item deletion"
     ]
    }
   ],
   "source": [
    "del t[0]"
   ]
  },
  {
   "cell_type": "code",
   "execution_count": 41,
   "id": "b4274310",
   "metadata": {},
   "outputs": [
    {
     "ename": "TypeError",
     "evalue": "'tuple' object does not support item assignment",
     "output_type": "error",
     "traceback": [
      "\u001b[1;31m---------------------------------------------------------------------------\u001b[0m",
      "\u001b[1;31mTypeError\u001b[0m                                 Traceback (most recent call last)",
      "Input \u001b[1;32mIn [41]\u001b[0m, in \u001b[0;36m<cell line: 1>\u001b[1;34m()\u001b[0m\n\u001b[1;32m----> 1\u001b[0m t[\u001b[38;5;241m0\u001b[39m]\u001b[38;5;241m=\u001b[39m\u001b[38;5;124m'\u001b[39m\u001b[38;5;124mrahul\u001b[39m\u001b[38;5;124m'\u001b[39m\n",
      "\u001b[1;31mTypeError\u001b[0m: 'tuple' object does not support item assignment"
     ]
    }
   ],
   "source": [
    "t[0]='rahul'"
   ]
  },
  {
   "cell_type": "markdown",
   "id": "afef08a2",
   "metadata": {},
   "source": [
    "`Even though tuples are immutable, but then also try to change an element of a tuple\n",
    "Hint: Lists are mutable, and use type casting`"
   ]
  },
  {
   "cell_type": "code",
   "execution_count": 42,
   "id": "f487660e",
   "metadata": {},
   "outputs": [],
   "source": [
    "t= (1,2,3,4)\n",
    "t = list(t)\n",
    "t[0] = 10\n",
    "t = tuple(t)"
   ]
  },
  {
   "cell_type": "code",
   "execution_count": 43,
   "id": "123f7d66",
   "metadata": {},
   "outputs": [
    {
     "data": {
      "text/plain": [
       "(10, 2, 3, 4)"
      ]
     },
     "execution_count": 43,
     "metadata": {},
     "output_type": "execute_result"
    }
   ],
   "source": [
    "t"
   ]
  },
  {
   "cell_type": "code",
   "execution_count": 44,
   "id": "ff9238ac",
   "metadata": {},
   "outputs": [],
   "source": [
    "import dis"
   ]
  },
  {
   "cell_type": "code",
   "execution_count": 45,
   "id": "2c8013e6",
   "metadata": {},
   "outputs": [
    {
     "data": {
      "text/plain": [
       "<function dis.dis(x=None, *, file=None, depth=None)>"
      ]
     },
     "execution_count": 45,
     "metadata": {},
     "output_type": "execute_result"
    }
   ],
   "source": [
    "dis.dis"
   ]
  },
  {
   "cell_type": "code",
   "execution_count": 47,
   "id": "ea3d53ee",
   "metadata": {},
   "outputs": [
    {
     "name": "stdout",
     "output_type": "stream",
     "text": [
      "  1           0 BUILD_LIST               0\n",
      "              2 LOAD_CONST               0 ((1, 2, 3, 4, 5, 6))\n",
      "              4 LIST_EXTEND              1\n",
      "              6 RETURN_VALUE\n"
     ]
    }
   ],
   "source": [
    "dis.dis(\"[1,2,3,4,5,6]\")"
   ]
  },
  {
   "cell_type": "code",
   "execution_count": 48,
   "id": "a02188e2",
   "metadata": {},
   "outputs": [
    {
     "name": "stdout",
     "output_type": "stream",
     "text": [
      "  1           0 LOAD_CONST               0 ((1, 2, 3))\n",
      "              2 RETURN_VALUE\n"
     ]
    }
   ],
   "source": [
    "dis.dis(\"(1,2,3)\")"
   ]
  },
  {
   "cell_type": "code",
   "execution_count": 49,
   "id": "a2e41a87",
   "metadata": {},
   "outputs": [
    {
     "name": "stdout",
     "output_type": "stream",
     "text": [
      "  1           0 LOAD_NAME                0 (print)\n",
      "              2 LOAD_CONST               0 ('rajhi')\n",
      "              4 CALL_FUNCTION            1\n",
      "              6 RETURN_VALUE\n"
     ]
    }
   ],
   "source": [
    "dis.dis(\"print('rajhi')\")"
   ]
  },
  {
   "cell_type": "code",
   "execution_count": 50,
   "id": "6b5a0afe",
   "metadata": {},
   "outputs": [
    {
     "name": "stdout",
     "output_type": "stream",
     "text": [
      "Help on module dis:\n",
      "\n",
      "NAME\n",
      "    dis - Disassembler of Python byte code into mnemonics.\n",
      "\n",
      "MODULE REFERENCE\n",
      "    https://docs.python.org/3.10/library/dis.html\n",
      "    \n",
      "    The following documentation is automatically generated from the Python\n",
      "    source files.  It may be incomplete, incorrect or include features that\n",
      "    are considered implementation detail and may vary between Python\n",
      "    implementations.  When in doubt, consult the module reference at the\n",
      "    location listed above.\n",
      "\n",
      "CLASSES\n",
      "    builtins.object\n",
      "        Bytecode\n",
      "    _Instruction(builtins.tuple)\n",
      "        Instruction\n",
      "    \n",
      "    class Bytecode(builtins.object)\n",
      "     |  Bytecode(x, *, first_line=None, current_offset=None)\n",
      "     |  \n",
      "     |  The bytecode operations of a piece of code\n",
      "     |  \n",
      "     |  Instantiate this with a function, method, other compiled object, string of\n",
      "     |  code, or a code object (as returned by compile()).\n",
      "     |  \n",
      "     |  Iterating over this yields the bytecode operations as Instruction instances.\n",
      "     |  \n",
      "     |  Methods defined here:\n",
      "     |  \n",
      "     |  __init__(self, x, *, first_line=None, current_offset=None)\n",
      "     |      Initialize self.  See help(type(self)) for accurate signature.\n",
      "     |  \n",
      "     |  __iter__(self)\n",
      "     |  \n",
      "     |  __repr__(self)\n",
      "     |      Return repr(self).\n",
      "     |  \n",
      "     |  dis(self)\n",
      "     |      Return a formatted view of the bytecode operations.\n",
      "     |  \n",
      "     |  info(self)\n",
      "     |      Return formatted information about the code object.\n",
      "     |  \n",
      "     |  ----------------------------------------------------------------------\n",
      "     |  Class methods defined here:\n",
      "     |  \n",
      "     |  from_traceback(tb) from builtins.type\n",
      "     |      Construct a Bytecode from the given traceback\n",
      "     |  \n",
      "     |  ----------------------------------------------------------------------\n",
      "     |  Data descriptors defined here:\n",
      "     |  \n",
      "     |  __dict__\n",
      "     |      dictionary for instance variables (if defined)\n",
      "     |  \n",
      "     |  __weakref__\n",
      "     |      list of weak references to the object (if defined)\n",
      "    \n",
      "    class Instruction(_Instruction)\n",
      "     |  Instruction(opname, opcode, arg, argval, argrepr, offset, starts_line, is_jump_target)\n",
      "     |  \n",
      "     |  Details for a bytecode operation\n",
      "     |  \n",
      "     |  Defined fields:\n",
      "     |    opname - human readable name for operation\n",
      "     |    opcode - numeric code for operation\n",
      "     |    arg - numeric argument to operation (if any), otherwise None\n",
      "     |    argval - resolved arg value (if known), otherwise same as arg\n",
      "     |    argrepr - human readable description of operation argument\n",
      "     |    offset - start index of operation within bytecode sequence\n",
      "     |    starts_line - line started by this opcode (if any), otherwise None\n",
      "     |    is_jump_target - True if other code jumps to here, otherwise False\n",
      "     |  \n",
      "     |  Method resolution order:\n",
      "     |      Instruction\n",
      "     |      _Instruction\n",
      "     |      builtins.tuple\n",
      "     |      builtins.object\n",
      "     |  \n",
      "     |  Methods defined here:\n",
      "     |  \n",
      "     |  _disassemble(self, lineno_width=3, mark_as_current=False, offset_width=4)\n",
      "     |      Format instruction details for inclusion in disassembly output\n",
      "     |      \n",
      "     |      *lineno_width* sets the width of the line number field (0 omits it)\n",
      "     |      *mark_as_current* inserts a '-->' marker arrow as part of the line\n",
      "     |      *offset_width* sets the width of the instruction offset field\n",
      "     |  \n",
      "     |  ----------------------------------------------------------------------\n",
      "     |  Data descriptors defined here:\n",
      "     |  \n",
      "     |  __dict__\n",
      "     |      dictionary for instance variables (if defined)\n",
      "     |  \n",
      "     |  ----------------------------------------------------------------------\n",
      "     |  Methods inherited from _Instruction:\n",
      "     |  \n",
      "     |  __getnewargs__(self)\n",
      "     |      Return self as a plain tuple.  Used by copy and pickle.\n",
      "     |  \n",
      "     |  __repr__(self)\n",
      "     |      Return a nicely formatted representation string\n",
      "     |  \n",
      "     |  _asdict(self)\n",
      "     |      Return a new dict which maps field names to their values.\n",
      "     |  \n",
      "     |  _replace(self, /, **kwds)\n",
      "     |      Return a new _Instruction object replacing specified fields with new values\n",
      "     |  \n",
      "     |  ----------------------------------------------------------------------\n",
      "     |  Class methods inherited from _Instruction:\n",
      "     |  \n",
      "     |  _make(iterable) from builtins.type\n",
      "     |      Make a new _Instruction object from a sequence or iterable\n",
      "     |  \n",
      "     |  ----------------------------------------------------------------------\n",
      "     |  Static methods inherited from _Instruction:\n",
      "     |  \n",
      "     |  __new__(_cls, opname, opcode, arg, argval, argrepr, offset, starts_line, is_jump_target)\n",
      "     |      Create new instance of _Instruction(opname, opcode, arg, argval, argrepr, offset, starts_line, is_jump_target)\n",
      "     |  \n",
      "     |  ----------------------------------------------------------------------\n",
      "     |  Data descriptors inherited from _Instruction:\n",
      "     |  \n",
      "     |  opname\n",
      "     |      Human readable name for operation\n",
      "     |  \n",
      "     |  opcode\n",
      "     |      Numeric code for operation\n",
      "     |  \n",
      "     |  arg\n",
      "     |      Numeric argument to operation (if any), otherwise None\n",
      "     |  \n",
      "     |  argval\n",
      "     |      Resolved arg value (if known), otherwise same as arg\n",
      "     |  \n",
      "     |  argrepr\n",
      "     |      Human readable description of operation argument\n",
      "     |  \n",
      "     |  offset\n",
      "     |      Start index of operation within bytecode sequence\n",
      "     |  \n",
      "     |  starts_line\n",
      "     |      Line started by this opcode (if any), otherwise None\n",
      "     |  \n",
      "     |  is_jump_target\n",
      "     |      True if other code jumps to here, otherwise False\n",
      "     |  \n",
      "     |  ----------------------------------------------------------------------\n",
      "     |  Data and other attributes inherited from _Instruction:\n",
      "     |  \n",
      "     |  __match_args__ = ('opname', 'opcode', 'arg', 'argval', 'argrepr', 'off...\n",
      "     |  \n",
      "     |  _field_defaults = {}\n",
      "     |  \n",
      "     |  _fields = ('opname', 'opcode', 'arg', 'argval', 'argrepr', 'offset', '...\n",
      "     |  \n",
      "     |  ----------------------------------------------------------------------\n",
      "     |  Methods inherited from builtins.tuple:\n",
      "     |  \n",
      "     |  __add__(self, value, /)\n",
      "     |      Return self+value.\n",
      "     |  \n",
      "     |  __contains__(self, key, /)\n",
      "     |      Return key in self.\n",
      "     |  \n",
      "     |  __eq__(self, value, /)\n",
      "     |      Return self==value.\n",
      "     |  \n",
      "     |  __ge__(self, value, /)\n",
      "     |      Return self>=value.\n",
      "     |  \n",
      "     |  __getattribute__(self, name, /)\n",
      "     |      Return getattr(self, name).\n",
      "     |  \n",
      "     |  __getitem__(self, key, /)\n",
      "     |      Return self[key].\n",
      "     |  \n",
      "     |  __gt__(self, value, /)\n",
      "     |      Return self>value.\n",
      "     |  \n",
      "     |  __hash__(self, /)\n",
      "     |      Return hash(self).\n",
      "     |  \n",
      "     |  __iter__(self, /)\n",
      "     |      Implement iter(self).\n",
      "     |  \n",
      "     |  __le__(self, value, /)\n",
      "     |      Return self<=value.\n",
      "     |  \n",
      "     |  __len__(self, /)\n",
      "     |      Return len(self).\n",
      "     |  \n",
      "     |  __lt__(self, value, /)\n",
      "     |      Return self<value.\n",
      "     |  \n",
      "     |  __mul__(self, value, /)\n",
      "     |      Return self*value.\n",
      "     |  \n",
      "     |  __ne__(self, value, /)\n",
      "     |      Return self!=value.\n",
      "     |  \n",
      "     |  __rmul__(self, value, /)\n",
      "     |      Return value*self.\n",
      "     |  \n",
      "     |  count(self, value, /)\n",
      "     |      Return number of occurrences of value.\n",
      "     |  \n",
      "     |  index(self, value, start=0, stop=9223372036854775807, /)\n",
      "     |      Return first index of value.\n",
      "     |      \n",
      "     |      Raises ValueError if the value is not present.\n",
      "     |  \n",
      "     |  ----------------------------------------------------------------------\n",
      "     |  Class methods inherited from builtins.tuple:\n",
      "     |  \n",
      "     |  __class_getitem__(...) from builtins.type\n",
      "     |      See PEP 585\n",
      "\n",
      "FUNCTIONS\n",
      "    code_info(x)\n",
      "        Formatted details of methods, functions, or code.\n",
      "    \n",
      "    dis(x=None, *, file=None, depth=None)\n",
      "        Disassemble classes, methods, functions, and other compiled objects.\n",
      "        \n",
      "        With no argument, disassemble the last traceback.\n",
      "        \n",
      "        Compiled objects currently include generator objects, async generator\n",
      "        objects, and coroutine objects, all of which store their code object\n",
      "        in a special attribute.\n",
      "    \n",
      "    disassemble(co, lasti=-1, *, file=None)\n",
      "        Disassemble a code object.\n",
      "    \n",
      "    disco = disassemble(co, lasti=-1, *, file=None)\n",
      "        Disassemble a code object.\n",
      "    \n",
      "    distb(tb=None, *, file=None)\n",
      "        Disassemble a traceback (default: last traceback).\n",
      "    \n",
      "    findlabels(code)\n",
      "        Detect all offsets in a byte code which are jump targets.\n",
      "        \n",
      "        Return the list of offsets.\n",
      "    \n",
      "    findlinestarts(code)\n",
      "        Find the offsets in a byte code which are start of lines in the source.\n",
      "        \n",
      "        Generate pairs (offset, lineno)\n",
      "    \n",
      "    get_instructions(x, *, first_line=None)\n",
      "        Iterator for the opcodes in methods, functions or code\n",
      "        \n",
      "        Generates a series of Instruction named tuples giving the details of\n",
      "        each operations in the supplied code.\n",
      "        \n",
      "        If *first_line* is not None, it indicates the line number that should\n",
      "        be reported for the first source line in the disassembled code.\n",
      "        Otherwise, the source line information (if any) is taken directly from\n",
      "        the disassembled code object.\n",
      "    \n",
      "    show_code(co, *, file=None)\n",
      "        Print details of methods, functions, or code to *file*.\n",
      "        \n",
      "        If *file* is not provided, the output is printed on stdout.\n",
      "    \n",
      "    stack_effect(opcode, oparg=None, /, *, jump=None)\n",
      "        Compute the stack effect of the opcode.\n",
      "\n",
      "DATA\n",
      "    EXTENDED_ARG = 144\n",
      "    HAVE_ARGUMENT = 90\n",
      "    __all__ = ['code_info', 'dis', 'disassemble', 'distb', 'disco', 'findl...\n",
      "    cmp_op = ('<', '<=', '==', '!=', '>', '>=')\n",
      "    hascompare = [107]\n",
      "    hasconst = [100]\n",
      "    hasfree = [135, 136, 137, 138, 148]\n",
      "    hasjabs = [111, 112, 113, 114, 115, 121]\n",
      "    hasjrel = [93, 110, 122, 143, 154]\n",
      "    haslocal = [124, 125, 126]\n",
      "    hasname = [90, 91, 95, 96, 97, 98, 101, 106, 108, 109, 116, 160]\n",
      "    hasnargs = []\n",
      "    opmap = {'BEFORE_ASYNC_WITH': 52, 'BINARY_ADD': 23, 'BINARY_AND': 64, ...\n",
      "    opname = ['<0>', 'POP_TOP', 'ROT_TWO', 'ROT_THREE', 'DUP_TOP', 'DUP_TO...\n",
      "\n",
      "FILE\n",
      "    c:\\users\\rahul\\appdata\\local\\programs\\python\\python310\\lib\\dis.py\n",
      "\n",
      "\n"
     ]
    }
   ],
   "source": [
    "help(dis)"
   ]
  },
  {
   "cell_type": "code",
   "execution_count": null,
   "id": "e2628150",
   "metadata": {},
   "outputs": [],
   "source": []
  }
 ],
 "metadata": {
  "kernelspec": {
   "display_name": "Python 3 (ipykernel)",
   "language": "python",
   "name": "python3"
  },
  "language_info": {
   "codemirror_mode": {
    "name": "ipython",
    "version": 3
   },
   "file_extension": ".py",
   "mimetype": "text/x-python",
   "name": "python",
   "nbconvert_exporter": "python",
   "pygments_lexer": "ipython3",
   "version": "3.10.6"
  }
 },
 "nbformat": 4,
 "nbformat_minor": 5
}
