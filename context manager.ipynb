{
 "cells": [
  {
   "cell_type": "markdown",
   "id": "6503ae7f",
   "metadata": {},
   "source": [
    "# Unicode code points \n",
    "\n",
    "` Go through this `"
   ]
  },
  {
   "cell_type": "code",
   "execution_count": 7,
   "id": "f90de33b",
   "metadata": {},
   "outputs": [
    {
     "name": "stdout",
     "output_type": "stream",
     "text": [
      "😀\n"
     ]
    }
   ],
   "source": [
    "print(\"\\N{grinning face}\")"
   ]
  },
  {
   "cell_type": "code",
   "execution_count": 8,
   "id": "292ff56c",
   "metadata": {},
   "outputs": [
    {
     "name": "stdout",
     "output_type": "stream",
     "text": [
      "😉\n"
     ]
    }
   ],
   "source": [
    "print(\"\\N{winking face}\")"
   ]
  },
  {
   "cell_type": "code",
   "execution_count": 10,
   "id": "7cff27ca",
   "metadata": {},
   "outputs": [
    {
     "name": "stdout",
     "output_type": "stream",
     "text": [
      "🙂\n"
     ]
    }
   ],
   "source": [
    "print(\"\\N{slightly smiling face}\")"
   ]
  },
  {
   "cell_type": "code",
   "execution_count": 11,
   "id": "c8bd93b3",
   "metadata": {},
   "outputs": [],
   "source": [
    "class Soap:\n",
    "    def __init__(self,name):\n",
    "        self.name = name \n",
    "        "
   ]
  },
  {
   "cell_type": "code",
   "execution_count": 12,
   "id": "4810d77c",
   "metadata": {},
   "outputs": [],
   "source": [
    "s = Soap(\"camey\")"
   ]
  },
  {
   "cell_type": "code",
   "execution_count": 13,
   "id": "0fe55045",
   "metadata": {},
   "outputs": [
    {
     "data": {
      "text/plain": [
       "{'name': 'camey'}"
      ]
     },
     "execution_count": 13,
     "metadata": {},
     "output_type": "execute_result"
    }
   ],
   "source": [
    "s.__dict__"
   ]
  },
  {
   "cell_type": "code",
   "execution_count": 15,
   "id": "b8f3de4a",
   "metadata": {},
   "outputs": [
    {
     "ename": "AttributeError",
     "evalue": "__enter__",
     "output_type": "error",
     "traceback": [
      "\u001b[1;31m---------------------------------------------------------------------------\u001b[0m",
      "\u001b[1;31mAttributeError\u001b[0m                            Traceback (most recent call last)",
      "Input \u001b[1;32mIn [15]\u001b[0m, in \u001b[0;36m<cell line: 1>\u001b[1;34m()\u001b[0m\n\u001b[1;32m----> 1\u001b[0m \u001b[38;5;28;01mwith\u001b[39;00m  Soap(\u001b[38;5;124m\"\u001b[39m\u001b[38;5;124mlux\u001b[39m\u001b[38;5;124m\"\u001b[39m) \u001b[38;5;28;01mas\u001b[39;00m f:\n\u001b[0;32m      2\u001b[0m     \u001b[38;5;28mprint\u001b[39m(\u001b[38;5;124m\"\u001b[39m\u001b[38;5;124mhello world \u001b[39m\u001b[38;5;124m\"\u001b[39m)\n",
      "\u001b[1;31mAttributeError\u001b[0m: __enter__"
     ]
    }
   ],
   "source": [
    "with  Soap(\"lux\") as f:\n",
    "    print(\"hello world \")"
   ]
  },
  {
   "cell_type": "code",
   "execution_count": 16,
   "id": "86e5d18a",
   "metadata": {},
   "outputs": [],
   "source": [
    "class Soap:\n",
    "    def __init__(self,name):\n",
    "        self.name = name \n",
    "        \n",
    "    def __enter__(self):\n",
    "        print(\"within __enter__\")\n",
    "    def __exit__(self,e1,e2,e3):\n",
    "        print(\"Within __exit__\")"
   ]
  },
  {
   "cell_type": "code",
   "execution_count": 18,
   "id": "38a2737e",
   "metadata": {},
   "outputs": [
    {
     "name": "stdout",
     "output_type": "stream",
     "text": [
      "within __enter__\n",
      "Hello\n",
      "first line\n",
      "second line\n",
      "Within __exit__\n",
      "*********************************End of program*********************************\n"
     ]
    }
   ],
   "source": [
    "with Soap(\"x\") as f:\n",
    "    print(\"Hello\")\n",
    "    print(\"first line\")\n",
    "    print(\"second line\")\n",
    "print(\"End of program\".center(80,'*'))\n",
    "    "
   ]
  },
  {
   "cell_type": "markdown",
   "id": "6118e196",
   "metadata": {},
   "source": [
    "write a class that gives you a random number on calling M. also overirde the __enter__ and __exit__"
   ]
  },
  {
   "cell_type": "markdown",
   "id": "99145c97",
   "metadata": {},
   "source": [
    "with Test(10) as f:\n",
    "    print(next(f))\n",
    "    print(next(f))\n",
    "print(\"End of program \")"
   ]
  },
  {
   "cell_type": "code",
   "execution_count": 68,
   "id": "77c890e4",
   "metadata": {},
   "outputs": [],
   "source": [
    "class Test:\n",
    "    def __init__(self,n):   \n",
    "        self.n = n\n",
    "        self.pos = 0 \n",
    "    def __next__(self):\n",
    "        if self.pos < self.n:\n",
    "            self.pos+=1\n",
    "            return self.pos**2\n",
    "        else:\n",
    "            raise StopIteration\n",
    "                \n",
    "            \n",
    "    def my(self):\n",
    "        print(\"testing phase\")\n",
    "    def __enter__(self):\n",
    "        print(\"__enter__ called\")\n",
    "    def __exit__(self,e1,e2,e3):\n",
    "        print(\"__exit__ called \")"
   ]
  },
  {
   "cell_type": "code",
   "execution_count": 73,
   "id": "33df6b36",
   "metadata": {},
   "outputs": [
    {
     "name": "stdout",
     "output_type": "stream",
     "text": [
      "__enter__ called\n",
      "working or not\n",
      "1\n",
      "4\n",
      "9\n",
      "16\n",
      "25\n",
      "36\n",
      "49\n",
      "64\n",
      "81\n",
      "100\n",
      "Reached the end \n",
      "__exit__ called \n"
     ]
    }
   ],
   "source": [
    "obj = Test(10)\n",
    "with  obj :\n",
    "    print(\"working or not\")\n",
    "    try:\n",
    "        for _ in range(11):\n",
    "            print(next(obj))\n",
    "    except StopIteration as e:\n",
    "        print('Reached the end ')"
   ]
  },
  {
   "cell_type": "code",
   "execution_count": 74,
   "id": "ac2c441f",
   "metadata": {},
   "outputs": [
    {
     "name": "stdout",
     "output_type": "stream",
     "text": [
      "1\t\t4\t\t9\t\t16\t\t25\t\t36\t\t49\t\t64\t\t81\t\t100\t\t121\t\t144\t\t169\t\t196\t\t225\t\t256\t\t289\t\t324\t\t361\t\t400\t\t441\t\t484\t\t529\t\t576\t\t625\t\t676\t\t729\t\t784\t\t841\t\t900\t\tEnd reached \n"
     ]
    }
   ],
   "source": [
    "obj = Test(30)\n",
    "while True:\n",
    "    try:\n",
    "        print(next(obj),end='\\t\\t')\n",
    "    except StopIteration:\n",
    "        print(\"End reached \")\n",
    "        break"
   ]
  },
  {
   "cell_type": "code",
   "execution_count": 51,
   "id": "b942e065",
   "metadata": {},
   "outputs": [],
   "source": []
  },
  {
   "cell_type": "code",
   "execution_count": 52,
   "id": "329275d1",
   "metadata": {},
   "outputs": [],
   "source": [
    "t = Test(5)"
   ]
  },
  {
   "cell_type": "code",
   "execution_count": 53,
   "id": "ebbc6e3e",
   "metadata": {},
   "outputs": [
    {
     "data": {
      "text/plain": [
       "{'n': 5, 'pos': 0}"
      ]
     },
     "execution_count": 53,
     "metadata": {},
     "output_type": "execute_result"
    }
   ],
   "source": [
    "t.__dict__"
   ]
  },
  {
   "cell_type": "code",
   "execution_count": 54,
   "id": "d546e017",
   "metadata": {},
   "outputs": [
    {
     "data": {
      "text/plain": [
       "1"
      ]
     },
     "execution_count": 54,
     "metadata": {},
     "output_type": "execute_result"
    }
   ],
   "source": [
    "next(t)"
   ]
  },
  {
   "cell_type": "code",
   "execution_count": 55,
   "id": "87f5af74",
   "metadata": {},
   "outputs": [
    {
     "data": {
      "text/plain": [
       "{'n': 5, 'pos': 1}"
      ]
     },
     "execution_count": 55,
     "metadata": {},
     "output_type": "execute_result"
    }
   ],
   "source": [
    "t.__dict__"
   ]
  },
  {
   "cell_type": "code",
   "execution_count": 56,
   "id": "466dfdb0",
   "metadata": {},
   "outputs": [
    {
     "data": {
      "text/plain": [
       "4"
      ]
     },
     "execution_count": 56,
     "metadata": {},
     "output_type": "execute_result"
    }
   ],
   "source": [
    "next(t)"
   ]
  },
  {
   "cell_type": "code",
   "execution_count": 57,
   "id": "257d31af",
   "metadata": {},
   "outputs": [
    {
     "data": {
      "text/plain": [
       "{'n': 5, 'pos': 2}"
      ]
     },
     "execution_count": 57,
     "metadata": {},
     "output_type": "execute_result"
    }
   ],
   "source": [
    "t.__dict__"
   ]
  },
  {
   "cell_type": "code",
   "execution_count": 58,
   "id": "f32afe17",
   "metadata": {},
   "outputs": [
    {
     "data": {
      "text/plain": [
       "9"
      ]
     },
     "execution_count": 58,
     "metadata": {},
     "output_type": "execute_result"
    }
   ],
   "source": [
    "next(t)"
   ]
  },
  {
   "cell_type": "code",
   "execution_count": 59,
   "id": "8f059701",
   "metadata": {},
   "outputs": [
    {
     "data": {
      "text/plain": [
       "{'n': 5, 'pos': 3}"
      ]
     },
     "execution_count": 59,
     "metadata": {},
     "output_type": "execute_result"
    }
   ],
   "source": [
    "t.__dict__"
   ]
  },
  {
   "cell_type": "code",
   "execution_count": 60,
   "id": "b7f48fda",
   "metadata": {},
   "outputs": [
    {
     "data": {
      "text/plain": [
       "16"
      ]
     },
     "execution_count": 60,
     "metadata": {},
     "output_type": "execute_result"
    }
   ],
   "source": [
    "next(t)"
   ]
  },
  {
   "cell_type": "code",
   "execution_count": 61,
   "id": "bd2856ec",
   "metadata": {},
   "outputs": [
    {
     "data": {
      "text/plain": [
       "{'n': 5, 'pos': 4}"
      ]
     },
     "execution_count": 61,
     "metadata": {},
     "output_type": "execute_result"
    }
   ],
   "source": [
    "t.__dict__"
   ]
  },
  {
   "cell_type": "code",
   "execution_count": 63,
   "id": "1783a866",
   "metadata": {},
   "outputs": [
    {
     "data": {
      "text/plain": [
       "25"
      ]
     },
     "execution_count": 63,
     "metadata": {},
     "output_type": "execute_result"
    }
   ],
   "source": [
    "next(t)"
   ]
  },
  {
   "cell_type": "code",
   "execution_count": 64,
   "id": "5d3f1c0f",
   "metadata": {},
   "outputs": [
    {
     "data": {
      "text/plain": [
       "{'n': 5, 'pos': 5}"
      ]
     },
     "execution_count": 64,
     "metadata": {},
     "output_type": "execute_result"
    }
   ],
   "source": [
    "t.__dict__"
   ]
  },
  {
   "cell_type": "code",
   "execution_count": 65,
   "id": "061edb3f",
   "metadata": {},
   "outputs": [
    {
     "ename": "StopIteration",
     "evalue": "",
     "output_type": "error",
     "traceback": [
      "\u001b[1;31m---------------------------------------------------------------------------\u001b[0m",
      "\u001b[1;31mStopIteration\u001b[0m                             Traceback (most recent call last)",
      "Input \u001b[1;32mIn [65]\u001b[0m, in \u001b[0;36m<cell line: 1>\u001b[1;34m()\u001b[0m\n\u001b[1;32m----> 1\u001b[0m \u001b[38;5;28;43mnext\u001b[39;49m\u001b[43m(\u001b[49m\u001b[43mt\u001b[49m\u001b[43m)\u001b[49m\n",
      "Input \u001b[1;32mIn [51]\u001b[0m, in \u001b[0;36mTest.__next__\u001b[1;34m(self)\u001b[0m\n\u001b[0;32m      8\u001b[0m     \u001b[38;5;28;01mreturn\u001b[39;00m \u001b[38;5;28mself\u001b[39m\u001b[38;5;241m.\u001b[39mpos\u001b[38;5;241m*\u001b[39m\u001b[38;5;241m*\u001b[39m\u001b[38;5;241m2\u001b[39m\n\u001b[0;32m     10\u001b[0m \u001b[38;5;28;01melse\u001b[39;00m:\n\u001b[1;32m---> 11\u001b[0m     \u001b[38;5;28;01mraise\u001b[39;00m \u001b[38;5;167;01mStopIteration\u001b[39;00m\n",
      "\u001b[1;31mStopIteration\u001b[0m: "
     ]
    }
   ],
   "source": [
    "next(t)"
   ]
  },
  {
   "cell_type": "code",
   "execution_count": 75,
   "id": "01236df0",
   "metadata": {},
   "outputs": [],
   "source": [
    "import pickle"
   ]
  },
  {
   "cell_type": "code",
   "execution_count": 76,
   "id": "1ecc4f42",
   "metadata": {},
   "outputs": [
    {
     "data": {
      "text/plain": [
       "module"
      ]
     },
     "execution_count": 76,
     "metadata": {},
     "output_type": "execute_result"
    }
   ],
   "source": [
    "type(pickle)"
   ]
  },
  {
   "cell_type": "code",
   "execution_count": 77,
   "id": "e3980af1",
   "metadata": {},
   "outputs": [
    {
     "name": "stdout",
     "output_type": "stream",
     "text": [
      "[('key1', 'Value1'), ('a', 'a'), ('b', 'b')]\n"
     ]
    }
   ],
   "source": [
    "# Adhar\n",
    "d1 = {\"key1\":\"Value1\",\"key2\":\"Value2\", \"a\":\"a\", \"b\":\"b\"}\n",
    "d2 = {\"Key3\": \"Value3\", \"key1\":\"Value1\", \"a\":\"a\", \"aa\":\"aa\",\"b\":\"b\"}\n",
    "print([(i,d1[i]) for i in d1.keys() if i in d2 and d1[i] == d2[i] ])\n"
   ]
  },
  {
   "cell_type": "code",
   "execution_count": 79,
   "id": "82614470",
   "metadata": {},
   "outputs": [
    {
     "name": "stdout",
     "output_type": "stream",
     "text": [
      "{'k': 6, 'i': 7}\n"
     ]
    }
   ],
   "source": [
    "d1 = {\"n\": 4, \"m\": 2, \"k\": 6, \"i\": 7}\n",
    "d2 = {\"k\": 6, \"i\": 7,\"m\":2}\n",
    "print(dict([(k,d1[k]) for k in d1 if k == \"k\" or k == \"i\"]))\n"
   ]
  },
  {
   "cell_type": "code",
   "execution_count": 80,
   "id": "85bd402b",
   "metadata": {},
   "outputs": [],
   "source": [
    "import secrets"
   ]
  },
  {
   "cell_type": "code",
   "execution_count": 83,
   "id": "d27f85c6",
   "metadata": {},
   "outputs": [
    {
     "data": {
      "text/plain": [
       "'728ba9efa82d0481a848c7ae281a80d55f636a33'"
      ]
     },
     "execution_count": 83,
     "metadata": {},
     "output_type": "execute_result"
    }
   ],
   "source": [
    "secrets.token_hex(20)"
   ]
  },
  {
   "cell_type": "code",
   "execution_count": null,
   "id": "65d05dcc",
   "metadata": {},
   "outputs": [],
   "source": []
  }
 ],
 "metadata": {
  "kernelspec": {
   "display_name": "Python 3 (ipykernel)",
   "language": "python",
   "name": "python3"
  },
  "language_info": {
   "codemirror_mode": {
    "name": "ipython",
    "version": 3
   },
   "file_extension": ".py",
   "mimetype": "text/x-python",
   "name": "python",
   "nbconvert_exporter": "python",
   "pygments_lexer": "ipython3",
   "version": "3.10.4"
  }
 },
 "nbformat": 4,
 "nbformat_minor": 5
}
