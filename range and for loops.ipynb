{
 "cells": [
  {
   "cell_type": "markdown",
   "id": "9aa5435d",
   "metadata": {},
   "source": [
    "# range and loops "
   ]
  },
  {
   "cell_type": "code",
   "execution_count": 1,
   "id": "3ed12521",
   "metadata": {},
   "outputs": [
    {
     "data": {
      "text/plain": [
       "range"
      ]
     },
     "execution_count": 1,
     "metadata": {},
     "output_type": "execute_result"
    }
   ],
   "source": [
    "range"
   ]
  },
  {
   "cell_type": "code",
   "execution_count": 3,
   "id": "64b425b6",
   "metadata": {},
   "outputs": [
    {
     "name": "stdout",
     "output_type": "stream",
     "text": [
      "<class 'type'>\n"
     ]
    }
   ],
   "source": [
    "print(type(range))"
   ]
  },
  {
   "cell_type": "code",
   "execution_count": 4,
   "id": "397f6286",
   "metadata": {},
   "outputs": [
    {
     "data": {
      "text/plain": [
       "range(0, 10)"
      ]
     },
     "execution_count": 4,
     "metadata": {},
     "output_type": "execute_result"
    }
   ],
   "source": [
    "range(0,10)"
   ]
  },
  {
   "cell_type": "code",
   "execution_count": 5,
   "id": "ce2c20cd",
   "metadata": {},
   "outputs": [
    {
     "data": {
      "text/plain": [
       "[0, 1, 2, 3, 4, 5, 6, 7, 8, 9]"
      ]
     },
     "execution_count": 5,
     "metadata": {},
     "output_type": "execute_result"
    }
   ],
   "source": [
    "list(range(0,10))"
   ]
  },
  {
   "cell_type": "code",
   "execution_count": 6,
   "id": "16d6e06b",
   "metadata": {},
   "outputs": [
    {
     "data": {
      "text/plain": [
       "(0, 1, 2, 3, 4, 5, 6, 7, 8, 9, 10)"
      ]
     },
     "execution_count": 6,
     "metadata": {},
     "output_type": "execute_result"
    }
   ],
   "source": [
    "tuple(range(0,11))"
   ]
  },
  {
   "cell_type": "code",
   "execution_count": 7,
   "id": "bc07e83e",
   "metadata": {},
   "outputs": [
    {
     "data": {
      "text/plain": [
       "[0, 10, 20, 30, 40, 50, 60, 70, 80, 90]"
      ]
     },
     "execution_count": 7,
     "metadata": {},
     "output_type": "execute_result"
    }
   ],
   "source": [
    "list(range(0,100,10))"
   ]
  },
  {
   "cell_type": "code",
   "execution_count": 8,
   "id": "215d310c",
   "metadata": {},
   "outputs": [
    {
     "data": {
      "text/plain": [
       "[100, 90, 80, 70, 60, 50, 40, 30, 20, 10]"
      ]
     },
     "execution_count": 8,
     "metadata": {},
     "output_type": "execute_result"
    }
   ],
   "source": [
    "list(range(100,0,-10))"
   ]
  },
  {
   "cell_type": "code",
   "execution_count": 12,
   "id": "c6cbe57b",
   "metadata": {},
   "outputs": [
    {
     "name": "stdout",
     "output_type": "stream",
     "text": [
      "0\t1\t2\t3\t4\t5\t6\t7\t8\t9\t"
     ]
    }
   ],
   "source": [
    "for i in range(10):\n",
    "    print(i,end='\\t')"
   ]
  },
  {
   "cell_type": "code",
   "execution_count": 13,
   "id": "3793909e",
   "metadata": {},
   "outputs": [
    {
     "name": "stdout",
     "output_type": "stream",
     "text": [
      "r\ta\th\tu\tl\t"
     ]
    }
   ],
   "source": [
    "for i in \"rahul\":\n",
    "    print(i,end='\\t')"
   ]
  },
  {
   "cell_type": "code",
   "execution_count": 14,
   "id": "1585d6d4",
   "metadata": {},
   "outputs": [
    {
     "name": "stdout",
     "output_type": "stream",
     "text": [
      "Help on class range in module builtins:\n",
      "\n",
      "class range(object)\n",
      " |  range(stop) -> range object\n",
      " |  range(start, stop[, step]) -> range object\n",
      " |  \n",
      " |  Return an object that produces a sequence of integers from start (inclusive)\n",
      " |  to stop (exclusive) by step.  range(i, j) produces i, i+1, i+2, ..., j-1.\n",
      " |  start defaults to 0, and stop is omitted!  range(4) produces 0, 1, 2, 3.\n",
      " |  These are exactly the valid indices for a list of 4 elements.\n",
      " |  When step is given, it specifies the increment (or decrement).\n",
      " |  \n",
      " |  Methods defined here:\n",
      " |  \n",
      " |  __bool__(self, /)\n",
      " |      True if self else False\n",
      " |  \n",
      " |  __contains__(self, key, /)\n",
      " |      Return key in self.\n",
      " |  \n",
      " |  __eq__(self, value, /)\n",
      " |      Return self==value.\n",
      " |  \n",
      " |  __ge__(self, value, /)\n",
      " |      Return self>=value.\n",
      " |  \n",
      " |  __getattribute__(self, name, /)\n",
      " |      Return getattr(self, name).\n",
      " |  \n",
      " |  __getitem__(self, key, /)\n",
      " |      Return self[key].\n",
      " |  \n",
      " |  __gt__(self, value, /)\n",
      " |      Return self>value.\n",
      " |  \n",
      " |  __hash__(self, /)\n",
      " |      Return hash(self).\n",
      " |  \n",
      " |  __iter__(self, /)\n",
      " |      Implement iter(self).\n",
      " |  \n",
      " |  __le__(self, value, /)\n",
      " |      Return self<=value.\n",
      " |  \n",
      " |  __len__(self, /)\n",
      " |      Return len(self).\n",
      " |  \n",
      " |  __lt__(self, value, /)\n",
      " |      Return self<value.\n",
      " |  \n",
      " |  __ne__(self, value, /)\n",
      " |      Return self!=value.\n",
      " |  \n",
      " |  __reduce__(...)\n",
      " |      Helper for pickle.\n",
      " |  \n",
      " |  __repr__(self, /)\n",
      " |      Return repr(self).\n",
      " |  \n",
      " |  __reversed__(...)\n",
      " |      Return a reverse iterator.\n",
      " |  \n",
      " |  count(...)\n",
      " |      rangeobject.count(value) -> integer -- return number of occurrences of value\n",
      " |  \n",
      " |  index(...)\n",
      " |      rangeobject.index(value) -> integer -- return index of value.\n",
      " |      Raise ValueError if the value is not present.\n",
      " |  \n",
      " |  ----------------------------------------------------------------------\n",
      " |  Static methods defined here:\n",
      " |  \n",
      " |  __new__(*args, **kwargs) from builtins.type\n",
      " |      Create and return a new object.  See help(type) for accurate signature.\n",
      " |  \n",
      " |  ----------------------------------------------------------------------\n",
      " |  Data descriptors defined here:\n",
      " |  \n",
      " |  start\n",
      " |  \n",
      " |  step\n",
      " |  \n",
      " |  stop\n",
      "\n"
     ]
    }
   ],
   "source": [
    "help(range)"
   ]
  },
  {
   "cell_type": "markdown",
   "id": "380d8940",
   "metadata": {},
   "source": [
    "`range(stop) -> range object\n",
    "range(start, stop[, step]) -> range object\n",
    "  `"
   ]
  },
  {
   "cell_type": "code",
   "execution_count": 18,
   "id": "63146fb2",
   "metadata": {},
   "outputs": [
    {
     "name": "stdout",
     "output_type": "stream",
     "text": [
      "10\t\t12\t\t14\t\t16\t\t18\t\t20\t\t22\t\t24\t\t26\t\t28\t\t30\t\t32\t\t34\t\t36\t\t38\t\t40\t\t42\t\t44\t\t46\t\t48\t\t50\t\t52\t\t54\t\t56\t\t58\t\t60\t\t62\t\t64\t\t66\t\t68\t\t70\t\t72\t\t74\t\t76\t\t78\t\t80\t\t82\t\t84\t\t86\t\t88\t\t90\t\t92\t\t94\t\t96\t\t98\t\t"
     ]
    }
   ],
   "source": [
    "for i in range(10,100,2):\n",
    "    print(i,end='\\t\\t')"
   ]
  },
  {
   "cell_type": "code",
   "execution_count": 19,
   "id": "de1cce8e",
   "metadata": {},
   "outputs": [
    {
     "name": "stdout",
     "output_type": "stream",
     "text": [
      "Element stored = 1\n",
      "Element stored = 2\n",
      "Element stored = 3\n",
      "Element stored = 4\n",
      "Element stored = 5\n",
      "Element stored = 6\n",
      "Element stored = 7\n",
      "Element stored = 8\n",
      "Element stored = 9\n"
     ]
    }
   ],
   "source": [
    "l = [1,2,3,4,5,6,7,8,9]\n",
    "for i in l:\n",
    "    print('Element stored = {}'.format(i))\n",
    "    \n",
    "    \n",
    "    \n",
    "    \n",
    "    \n",
    "    \n",
    "    \n",
    "    \n",
    "    "
   ]
  },
  {
   "cell_type": "code",
   "execution_count": 20,
   "id": "f596b24f",
   "metadata": {},
   "outputs": [],
   "source": [
    "d = {'first':1,'second':2}"
   ]
  },
  {
   "cell_type": "code",
   "execution_count": 21,
   "id": "e4e46aea",
   "metadata": {},
   "outputs": [
    {
     "data": {
      "text/plain": [
       "{'first': 1, 'second': 2}"
      ]
     },
     "execution_count": 21,
     "metadata": {},
     "output_type": "execute_result"
    }
   ],
   "source": [
    "d"
   ]
  },
  {
   "cell_type": "code",
   "execution_count": 22,
   "id": "6eed88a8",
   "metadata": {},
   "outputs": [
    {
     "data": {
      "text/plain": [
       "dict_values([1, 2])"
      ]
     },
     "execution_count": 22,
     "metadata": {},
     "output_type": "execute_result"
    }
   ],
   "source": [
    "d.values()"
   ]
  },
  {
   "cell_type": "code",
   "execution_count": 24,
   "id": "f119fdab",
   "metadata": {},
   "outputs": [
    {
     "data": {
      "text/plain": [
       "(dict_items([('first', 1), ('second', 2)]), dict_items)"
      ]
     },
     "execution_count": 24,
     "metadata": {},
     "output_type": "execute_result"
    }
   ],
   "source": [
    "d.items(), type(d.items())"
   ]
  },
  {
   "cell_type": "code",
   "execution_count": 26,
   "id": "c201ced9",
   "metadata": {},
   "outputs": [],
   "source": [
    "l = list(d.items())"
   ]
  },
  {
   "cell_type": "code",
   "execution_count": 27,
   "id": "d365ac18",
   "metadata": {},
   "outputs": [
    {
     "data": {
      "text/plain": [
       "[('first', 1), ('second', 2)]"
      ]
     },
     "execution_count": 27,
     "metadata": {},
     "output_type": "execute_result"
    }
   ],
   "source": [
    "l"
   ]
  },
  {
   "cell_type": "code",
   "execution_count": 28,
   "id": "2d125bbc",
   "metadata": {},
   "outputs": [
    {
     "data": {
      "text/plain": [
       "('first', 1)"
      ]
     },
     "execution_count": 28,
     "metadata": {},
     "output_type": "execute_result"
    }
   ],
   "source": [
    "l[0]"
   ]
  },
  {
   "cell_type": "code",
   "execution_count": 29,
   "id": "1e50f0ad",
   "metadata": {},
   "outputs": [
    {
     "data": {
      "text/plain": [
       "{'first': 1, 'second': 2}"
      ]
     },
     "execution_count": 29,
     "metadata": {},
     "output_type": "execute_result"
    }
   ],
   "source": [
    "d"
   ]
  },
  {
   "cell_type": "code",
   "execution_count": 30,
   "id": "552959a5",
   "metadata": {},
   "outputs": [
    {
     "name": "stdout",
     "output_type": "stream",
     "text": [
      "first 1\n",
      "second 2\n"
     ]
    }
   ],
   "source": [
    "for key,value in d.items():\n",
    "    print(key,value)"
   ]
  },
  {
   "cell_type": "code",
   "execution_count": 33,
   "id": "f89cfbc7",
   "metadata": {},
   "outputs": [],
   "source": [
    "l = list(range(200))"
   ]
  },
  {
   "cell_type": "code",
   "execution_count": 35,
   "id": "75a53700",
   "metadata": {},
   "outputs": [
    {
     "name": "stdout",
     "output_type": "stream",
     "text": [
      "[0, 1, 2, 3, 4, 5, 6, 7, 8, 9, 10, 11, 12, 13, 14, 15, 16, 17, 18, 19, 20, 21, 22, 23, 24, 25, 26, 27, 28, 29, 30, 31, 32, 33, 34, 35, 36, 37, 38, 39, 40, 41, 42, 43, 44, 45, 46, 47, 48, 49, 50, 51, 52, 53, 54, 55, 56, 57, 58, 59, 60, 61, 62, 63, 64, 65, 66, 67, 68, 69, 70, 71, 72, 73, 74, 75, 76, 77, 78, 79, 80, 81, 82, 83, 84, 85, 86, 87, 88, 89, 90, 91, 92, 93, 94, 95, 96, 97, 98, 99, 100, 101, 102, 103, 104, 105, 106, 107, 108, 109, 110, 111, 112, 113, 114, 115, 116, 117, 118, 119, 120, 121, 122, 123, 124, 125, 126, 127, 128, 129, 130, 131, 132, 133, 134, 135, 136, 137, 138, 139, 140, 141, 142, 143, 144, 145, 146, 147, 148, 149, 150, 151, 152, 153, 154, 155, 156, 157, 158, 159, 160, 161, 162, 163, 164, 165, 166, 167, 168, 169, 170, 171, 172, 173, 174, 175, 176, 177, 178, 179, 180, 181, 182, 183, 184, 185, 186, 187, 188, 189, 190, 191, 192, 193, 194, 195, 196, 197, 198, 199]\t\t"
     ]
    }
   ],
   "source": [
    "print(l,end='\\t\\t')"
   ]
  },
  {
   "cell_type": "markdown",
   "id": "e8fd3787",
   "metadata": {},
   "source": [
    "Q1. 'calculate the sum of all the values'\n",
    "Q2. Given a list l= [1,2,False,5.4,'so',False] perfom an operation such that the \n",
    "resultant list has no False value i.e; [1,2,5.4,'so']"
   ]
  },
  {
   "cell_type": "code",
   "execution_count": 37,
   "id": "84878197",
   "metadata": {},
   "outputs": [
    {
     "name": "stdout",
     "output_type": "stream",
     "text": [
      "19900\n"
     ]
    }
   ],
   "source": [
    "# Gokuls's code    __enter__ , __exit__\n",
    "l=list(range(200))\n",
    "sum=0\n",
    "for i in l:\n",
    "    sum+=i\n",
    "print(sum)"
   ]
  },
  {
   "cell_type": "code",
   "execution_count": 39,
   "id": "a4a1ae78",
   "metadata": {},
   "outputs": [],
   "source": [
    "del sum"
   ]
  },
  {
   "cell_type": "code",
   "execution_count": 40,
   "id": "445f3078",
   "metadata": {},
   "outputs": [
    {
     "data": {
      "text/plain": [
       "<function sum(iterable, /, start=0)>"
      ]
     },
     "execution_count": 40,
     "metadata": {},
     "output_type": "execute_result"
    }
   ],
   "source": [
    "sum"
   ]
  },
  {
   "cell_type": "code",
   "execution_count": 41,
   "id": "a0826186",
   "metadata": {},
   "outputs": [
    {
     "data": {
      "text/plain": [
       "19900"
      ]
     },
     "execution_count": 41,
     "metadata": {},
     "output_type": "execute_result"
    }
   ],
   "source": [
    "sum(l)"
   ]
  },
  {
   "cell_type": "code",
   "execution_count": 43,
   "id": "8675c6e0",
   "metadata": {},
   "outputs": [
    {
     "name": "stdout",
     "output_type": "stream",
     "text": [
      "[1, 2, 5.4, 'so']\n"
     ]
    }
   ],
   "source": [
    "# Gokul's code \n",
    "l=[1,2,False,5.4,'so',False]\n",
    "for i in l:\n",
    "    if i==False:\n",
    "        l.remove(i)\n",
    "print(l)"
   ]
  },
  {
   "cell_type": "code",
   "execution_count": 44,
   "id": "518b3bbb",
   "metadata": {},
   "outputs": [],
   "source": [
    "#Adhar's Code \n",
    "l = [1,2,False,5.4,\"so\",False];\n",
    "l2 = []\n",
    "for i in l :\n",
    "    if(i != False): \n",
    "        l2.append(i)"
   ]
  },
  {
   "cell_type": "code",
   "execution_count": 45,
   "id": "6dd9dc3a",
   "metadata": {},
   "outputs": [
    {
     "data": {
      "text/plain": [
       "[1, 2, 5.4, 'so']"
      ]
     },
     "execution_count": 45,
     "metadata": {},
     "output_type": "execute_result"
    }
   ],
   "source": [
    "l2"
   ]
  },
  {
   "cell_type": "code",
   "execution_count": 46,
   "id": "f44eed29",
   "metadata": {},
   "outputs": [
    {
     "data": {
      "text/plain": [
       "<function hash(obj, /)>"
      ]
     },
     "execution_count": 46,
     "metadata": {},
     "output_type": "execute_result"
    }
   ],
   "source": [
    "hash"
   ]
  },
  {
   "cell_type": "code",
   "execution_count": 47,
   "id": "f2d21903",
   "metadata": {},
   "outputs": [
    {
     "data": {
      "text/plain": [
       "2"
      ]
     },
     "execution_count": 47,
     "metadata": {},
     "output_type": "execute_result"
    }
   ],
   "source": [
    "hash(2)"
   ]
  },
  {
   "cell_type": "code",
   "execution_count": 48,
   "id": "901cc904",
   "metadata": {},
   "outputs": [
    {
     "data": {
      "text/plain": [
       "5675506527782753718"
      ]
     },
     "execution_count": 48,
     "metadata": {},
     "output_type": "execute_result"
    }
   ],
   "source": [
    "hash(\"si\")"
   ]
  },
  {
   "cell_type": "code",
   "execution_count": 49,
   "id": "babc3d29",
   "metadata": {},
   "outputs": [
    {
     "ename": "TypeError",
     "evalue": "unhashable type: 'list'",
     "output_type": "error",
     "traceback": [
      "\u001b[1;31m---------------------------------------------------------------------------\u001b[0m",
      "\u001b[1;31mTypeError\u001b[0m                                 Traceback (most recent call last)",
      "Input \u001b[1;32mIn [49]\u001b[0m, in \u001b[0;36m<cell line: 1>\u001b[1;34m()\u001b[0m\n\u001b[1;32m----> 1\u001b[0m \u001b[38;5;28;43mhash\u001b[39;49m\u001b[43m(\u001b[49m\u001b[43m[\u001b[49m\u001b[38;5;241;43m1\u001b[39;49m\u001b[43m,\u001b[49m\u001b[38;5;241;43m23\u001b[39;49m\u001b[43m]\u001b[49m\u001b[43m)\u001b[49m\n",
      "\u001b[1;31mTypeError\u001b[0m: unhashable type: 'list'"
     ]
    }
   ],
   "source": [
    "hash([1,23])"
   ]
  },
  {
   "cell_type": "code",
   "execution_count": 50,
   "id": "02686182",
   "metadata": {},
   "outputs": [
    {
     "data": {
      "text/plain": [
       "-3550055125485641917"
      ]
     },
     "execution_count": 50,
     "metadata": {},
     "output_type": "execute_result"
    }
   ],
   "source": [
    "hash((1,2))"
   ]
  },
  {
   "cell_type": "markdown",
   "id": "0f08bbfc",
   "metadata": {},
   "source": [
    "A key of a dictionary can be an element which can be hashed, or which is `hashable`"
   ]
  },
  {
   "cell_type": "code",
   "execution_count": 54,
   "id": "d7316e54",
   "metadata": {},
   "outputs": [],
   "source": [
    "d = {0:'Khanna',1:'rahul',2:'Amit',3:'Singh'}"
   ]
  },
  {
   "cell_type": "code",
   "execution_count": 55,
   "id": "452c091f",
   "metadata": {},
   "outputs": [
    {
     "data": {
      "text/plain": [
       "('Khanna', 'rahul', 'Amit', 'Singh')"
      ]
     },
     "execution_count": 55,
     "metadata": {},
     "output_type": "execute_result"
    }
   ],
   "source": [
    "d[0],d[1], d[2], d[3]"
   ]
  },
  {
   "cell_type": "code",
   "execution_count": 56,
   "id": "80d36ba5",
   "metadata": {},
   "outputs": [
    {
     "data": {
      "text/plain": [
       "'Khanna'"
      ]
     },
     "execution_count": 56,
     "metadata": {},
     "output_type": "execute_result"
    }
   ],
   "source": [
    "d.get(0)"
   ]
  },
  {
   "cell_type": "code",
   "execution_count": 57,
   "id": "90952372",
   "metadata": {},
   "outputs": [],
   "source": [
    "d = {'0':'Khanna','1':'rahul','2':'Amit','3':'Singh'}"
   ]
  },
  {
   "cell_type": "code",
   "execution_count": 58,
   "id": "3b9fcea8",
   "metadata": {},
   "outputs": [
    {
     "data": {
      "text/plain": [
       "'Khanna'"
      ]
     },
     "execution_count": 58,
     "metadata": {},
     "output_type": "execute_result"
    }
   ],
   "source": [
    "d['0'] # works"
   ]
  },
  {
   "cell_type": "code",
   "execution_count": 59,
   "id": "98101c48",
   "metadata": {},
   "outputs": [
    {
     "ename": "TypeError",
     "evalue": "unhashable type: 'list'",
     "output_type": "error",
     "traceback": [
      "\u001b[1;31m---------------------------------------------------------------------------\u001b[0m",
      "\u001b[1;31mTypeError\u001b[0m                                 Traceback (most recent call last)",
      "Input \u001b[1;32mIn [59]\u001b[0m, in \u001b[0;36m<cell line: 1>\u001b[1;34m()\u001b[0m\n\u001b[1;32m----> 1\u001b[0m d \u001b[38;5;241m=\u001b[39m {[\u001b[38;5;241m0\u001b[39m]:\u001b[38;5;124m'\u001b[39m\u001b[38;5;124mKhanna\u001b[39m\u001b[38;5;124m'\u001b[39m,[\u001b[38;5;241m1\u001b[39m]:\u001b[38;5;124m'\u001b[39m\u001b[38;5;124mrahul\u001b[39m\u001b[38;5;124m'\u001b[39m,[\u001b[38;5;241m2\u001b[39m]:\u001b[38;5;124m'\u001b[39m\u001b[38;5;124mAmit\u001b[39m\u001b[38;5;124m'\u001b[39m,[\u001b[38;5;241m3\u001b[39m]:\u001b[38;5;124m'\u001b[39m\u001b[38;5;124mSingh\u001b[39m\u001b[38;5;124m'\u001b[39m}\n",
      "\u001b[1;31mTypeError\u001b[0m: unhashable type: 'list'"
     ]
    }
   ],
   "source": [
    "d = {[0]:'Khanna',[1]:'rahul',[2]:'Amit',[3]:'Singh'} # wont work "
   ]
  },
  {
   "cell_type": "code",
   "execution_count": 60,
   "id": "4d92fac6",
   "metadata": {},
   "outputs": [],
   "source": [
    "d = {(0,1):'Khanna',(2,3):'rahul',(4,5):'Amit' } # "
   ]
  },
  {
   "cell_type": "code",
   "execution_count": 61,
   "id": "4d193e2a",
   "metadata": {},
   "outputs": [
    {
     "data": {
      "text/plain": [
       "'Khanna'"
      ]
     },
     "execution_count": 61,
     "metadata": {},
     "output_type": "execute_result"
    }
   ],
   "source": [
    "d[(0,1)]"
   ]
  },
  {
   "cell_type": "code",
   "execution_count": 62,
   "id": "750c1d68",
   "metadata": {},
   "outputs": [
    {
     "data": {
      "text/plain": [
       "'Khanna'"
      ]
     },
     "execution_count": 62,
     "metadata": {},
     "output_type": "execute_result"
    }
   ],
   "source": [
    "d.get((0,1))"
   ]
  },
  {
   "cell_type": "code",
   "execution_count": null,
   "id": "6b1398d8",
   "metadata": {},
   "outputs": [],
   "source": []
  }
 ],
 "metadata": {
  "kernelspec": {
   "display_name": "Python 3 (ipykernel)",
   "language": "python",
   "name": "python3"
  },
  "language_info": {
   "codemirror_mode": {
    "name": "ipython",
    "version": 3
   },
   "file_extension": ".py",
   "mimetype": "text/x-python",
   "name": "python",
   "nbconvert_exporter": "python",
   "pygments_lexer": "ipython3",
   "version": "3.10.6"
  }
 },
 "nbformat": 4,
 "nbformat_minor": 5
}
