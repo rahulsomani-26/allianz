{
 "cells": [
  {
   "cell_type": "markdown",
   "id": "b95a5aa3",
   "metadata": {},
   "source": [
    "# Packing and Unpacking "
   ]
  },
  {
   "cell_type": "code",
   "execution_count": 2,
   "id": "5ff1d799",
   "metadata": {},
   "outputs": [],
   "source": [
    "l = [1,2,3]"
   ]
  },
  {
   "cell_type": "code",
   "execution_count": 3,
   "id": "e21631d6",
   "metadata": {},
   "outputs": [],
   "source": [
    "first,second,third = l "
   ]
  },
  {
   "cell_type": "code",
   "execution_count": 4,
   "id": "97d28ea6",
   "metadata": {},
   "outputs": [
    {
     "data": {
      "text/plain": [
       "1"
      ]
     },
     "execution_count": 4,
     "metadata": {},
     "output_type": "execute_result"
    }
   ],
   "source": [
    "first"
   ]
  },
  {
   "cell_type": "code",
   "execution_count": 5,
   "id": "c02699ba",
   "metadata": {},
   "outputs": [
    {
     "data": {
      "text/plain": [
       "(2, 3)"
      ]
     },
     "execution_count": 5,
     "metadata": {},
     "output_type": "execute_result"
    }
   ],
   "source": [
    "second, third"
   ]
  },
  {
   "cell_type": "code",
   "execution_count": 6,
   "id": "a0497422",
   "metadata": {},
   "outputs": [],
   "source": [
    "l = list(range(100))"
   ]
  },
  {
   "cell_type": "code",
   "execution_count": 8,
   "id": "cd48acdb",
   "metadata": {},
   "outputs": [
    {
     "name": "stdout",
     "output_type": "stream",
     "text": [
      "[0, 1, 2, 3, 4, 5, 6, 7, 8, 9, 10, 11, 12, 13, 14, 15, 16, 17, 18, 19, 20, 21, 22, 23, 24, 25, 26, 27, 28, 29, 30, 31, 32, 33, 34, 35, 36, 37, 38, 39, 40, 41, 42, 43, 44, 45, 46, 47, 48, 49, 50, 51, 52, 53, 54, 55, 56, 57, 58, 59, 60, 61, 62, 63, 64, 65, 66, 67, 68, 69, 70, 71, 72, 73, 74, 75, 76, 77, 78, 79, 80, 81, 82, 83, 84, 85, 86, 87, 88, 89, 90, 91, 92, 93, 94, 95, 96, 97, 98, 99]\n"
     ]
    }
   ],
   "source": [
    "print(l)"
   ]
  },
  {
   "cell_type": "code",
   "execution_count": 9,
   "id": "8e3f0b7c",
   "metadata": {},
   "outputs": [],
   "source": [
    "a,*unwanted,b = l "
   ]
  },
  {
   "cell_type": "code",
   "execution_count": 11,
   "id": "d261ed68",
   "metadata": {},
   "outputs": [
    {
     "data": {
      "text/plain": [
       "(0, 99)"
      ]
     },
     "execution_count": 11,
     "metadata": {},
     "output_type": "execute_result"
    }
   ],
   "source": [
    "a,b"
   ]
  },
  {
   "cell_type": "code",
   "execution_count": 13,
   "id": "f738fa77",
   "metadata": {},
   "outputs": [
    {
     "name": "stdout",
     "output_type": "stream",
     "text": [
      "[1, 2, 3, 4, 5, 6, 7, 8, 9, 10, 11, 12, 13, 14, 15, 16, 17, 18, 19, 20, 21, 22, 23, 24, 25, 26, 27, 28, 29, 30, 31, 32, 33, 34, 35, 36, 37, 38, 39, 40, 41, 42, 43, 44, 45, 46, 47, 48, 49, 50, 51, 52, 53, 54, 55, 56, 57, 58, 59, 60, 61, 62, 63, 64, 65, 66, 67, 68, 69, 70, 71, 72, 73, 74, 75, 76, 77, 78, 79, 80, 81, 82, 83, 84, 85, 86, 87, 88, 89, 90, 91, 92, 93, 94, 95, 96, 97, 98]\n"
     ]
    }
   ],
   "source": [
    "print(unwanted)"
   ]
  },
  {
   "cell_type": "code",
   "execution_count": 15,
   "id": "7892ba7e",
   "metadata": {},
   "outputs": [],
   "source": [
    "a,b,c,d,e,f,g,*h,i = l"
   ]
  },
  {
   "cell_type": "code",
   "execution_count": 17,
   "id": "98689d34",
   "metadata": {},
   "outputs": [
    {
     "name": "stdout",
     "output_type": "stream",
     "text": [
      "[7, 8, 9, 10, 11, 12, 13, 14, 15, 16, 17, 18, 19, 20, 21, 22, 23, 24, 25, 26, 27, 28, 29, 30, 31, 32, 33, 34, 35, 36, 37, 38, 39, 40, 41, 42, 43, 44, 45, 46, 47, 48, 49, 50, 51, 52, 53, 54, 55, 56, 57, 58, 59, 60, 61, 62, 63, 64, 65, 66, 67, 68, 69, 70, 71, 72, 73, 74, 75, 76, 77, 78, 79, 80, 81, 82, 83, 84, 85, 86, 87, 88, 89, 90, 91, 92, 93, 94, 95, 96, 97, 98]\n"
     ]
    }
   ],
   "source": [
    "print(h)"
   ]
  },
  {
   "cell_type": "code",
   "execution_count": 25,
   "id": "9edc5824",
   "metadata": {},
   "outputs": [
    {
     "ename": "TypeError",
     "evalue": "cannot unpack non-iterable int object",
     "output_type": "error",
     "traceback": [
      "\u001b[1;31m---------------------------------------------------------------------------\u001b[0m",
      "\u001b[1;31mTypeError\u001b[0m                                 Traceback (most recent call last)",
      "Input \u001b[1;32mIn [25]\u001b[0m, in \u001b[0;36m<cell line: 1>\u001b[1;34m()\u001b[0m\n\u001b[1;32m----> 1\u001b[0m (\u001b[38;5;241m*\u001b[39ma,b),\u001b[38;5;241m*\u001b[39md\u001b[38;5;241m=\u001b[39ml\n",
      "\u001b[1;31mTypeError\u001b[0m: cannot unpack non-iterable int object"
     ]
    }
   ],
   "source": [
    "a"
   ]
  },
  {
   "cell_type": "code",
   "execution_count": 26,
   "id": "a76b0135",
   "metadata": {},
   "outputs": [
    {
     "data": {
      "text/plain": [
       "<function print>"
      ]
     },
     "execution_count": 26,
     "metadata": {},
     "output_type": "execute_result"
    }
   ],
   "source": [
    "print"
   ]
  },
  {
   "cell_type": "code",
   "execution_count": 27,
   "id": "582b0ec7",
   "metadata": {},
   "outputs": [
    {
     "data": {
      "text/plain": [
       "2722282705984"
      ]
     },
     "execution_count": 27,
     "metadata": {},
     "output_type": "execute_result"
    }
   ],
   "source": [
    "id(print)"
   ]
  },
  {
   "cell_type": "code",
   "execution_count": 28,
   "id": "8fe80c98",
   "metadata": {},
   "outputs": [],
   "source": [
    "def print():\n",
    "    return 'my print'"
   ]
  },
  {
   "cell_type": "code",
   "execution_count": 29,
   "id": "7f37a4c0",
   "metadata": {},
   "outputs": [
    {
     "data": {
      "text/plain": [
       "' my print'"
      ]
     },
     "execution_count": 29,
     "metadata": {},
     "output_type": "execute_result"
    }
   ],
   "source": [
    "print()"
   ]
  },
  {
   "cell_type": "code",
   "execution_count": 30,
   "id": "a48f9ea6",
   "metadata": {},
   "outputs": [
    {
     "ename": "TypeError",
     "evalue": "print() takes 0 positional arguments but 1 was given",
     "output_type": "error",
     "traceback": [
      "\u001b[1;31m---------------------------------------------------------------------------\u001b[0m",
      "\u001b[1;31mTypeError\u001b[0m                                 Traceback (most recent call last)",
      "Input \u001b[1;32mIn [30]\u001b[0m, in \u001b[0;36m<cell line: 1>\u001b[1;34m()\u001b[0m\n\u001b[1;32m----> 1\u001b[0m \u001b[38;5;28;43mprint\u001b[39;49m\u001b[43m(\u001b[49m\u001b[38;5;124;43m\"\u001b[39;49m\u001b[38;5;124;43mrahil\u001b[39;49m\u001b[38;5;124;43m\"\u001b[39;49m\u001b[43m)\u001b[49m\n",
      "\u001b[1;31mTypeError\u001b[0m: print() takes 0 positional arguments but 1 was given"
     ]
    }
   ],
   "source": [
    "print(\"rahil\")"
   ]
  },
  {
   "cell_type": "code",
   "execution_count": 31,
   "id": "8a49a460",
   "metadata": {},
   "outputs": [
    {
     "data": {
      "text/plain": [
       "2722391163376"
      ]
     },
     "execution_count": 31,
     "metadata": {},
     "output_type": "execute_result"
    }
   ],
   "source": [
    "id(print)"
   ]
  },
  {
   "cell_type": "code",
   "execution_count": 34,
   "id": "02f60805",
   "metadata": {},
   "outputs": [
    {
     "ename": "NameError",
     "evalue": "name 'print' is not defined",
     "output_type": "error",
     "traceback": [
      "\u001b[1;31m---------------------------------------------------------------------------\u001b[0m",
      "\u001b[1;31mNameError\u001b[0m                                 Traceback (most recent call last)",
      "Input \u001b[1;32mIn [34]\u001b[0m, in \u001b[0;36m<cell line: 1>\u001b[1;34m()\u001b[0m\n\u001b[1;32m----> 1\u001b[0m \u001b[38;5;28;01mdel\u001b[39;00m \u001b[38;5;28mprint\u001b[39m\n",
      "\u001b[1;31mNameError\u001b[0m: name 'print' is not defined"
     ]
    }
   ],
   "source": [
    "del print"
   ]
  },
  {
   "cell_type": "code",
   "execution_count": 33,
   "id": "b2840833",
   "metadata": {},
   "outputs": [
    {
     "name": "stdout",
     "output_type": "stream",
     "text": [
      "hello\n"
     ]
    }
   ],
   "source": [
    "print(\"hello\")"
   ]
  },
  {
   "cell_type": "code",
   "execution_count": 35,
   "id": "23ef2a69",
   "metadata": {},
   "outputs": [
    {
     "data": {
      "text/plain": [
       "'__main__'"
      ]
     },
     "execution_count": 35,
     "metadata": {},
     "output_type": "execute_result"
    }
   ],
   "source": [
    "__name__"
   ]
  },
  {
   "cell_type": "code",
   "execution_count": 36,
   "id": "87709311",
   "metadata": {},
   "outputs": [],
   "source": [
    "l = list(range(100))"
   ]
  },
  {
   "cell_type": "code",
   "execution_count": 37,
   "id": "93c5e672",
   "metadata": {},
   "outputs": [
    {
     "name": "stdout",
     "output_type": "stream",
     "text": [
      "[0, 1, 2, 3, 4, 5, 6, 7, 8, 9, 10, 11, 12, 13, 14, 15, 16, 17, 18, 19, 20, 21, 22, 23, 24, 25, 26, 27, 28, 29, 30, 31, 32, 33, 34, 35, 36, 37, 38, 39, 40, 41, 42, 43, 44, 45, 46, 47, 48, 49, 50, 51, 52, 53, 54, 55, 56, 57, 58, 59, 60, 61, 62, 63, 64, 65, 66, 67, 68, 69, 70, 71, 72, 73, 74, 75, 76, 77, 78, 79, 80, 81, 82, 83, 84, 85, 86, 87, 88, 89, 90, 91, 92, 93, 94, 95, 96, 97, 98, 99]\n"
     ]
    }
   ],
   "source": [
    "print(l)"
   ]
  },
  {
   "cell_type": "code",
   "execution_count": 39,
   "id": "becc1ff8",
   "metadata": {},
   "outputs": [
    {
     "ename": "SyntaxError",
     "evalue": "'tuple' is an illegal expression for augmented assignment (2093830139.py, line 1)",
     "output_type": "error",
     "traceback": [
      "\u001b[1;36m  Input \u001b[1;32mIn [39]\u001b[1;36m\u001b[0m\n\u001b[1;33m    a,*=l\u001b[0m\n\u001b[1;37m    ^\u001b[0m\n\u001b[1;31mSyntaxError\u001b[0m\u001b[1;31m:\u001b[0m 'tuple' is an illegal expression for augmented assignment\n"
     ]
    }
   ],
   "source": [
    "(a,)*=l"
   ]
  },
  {
   "cell_type": "code",
   "execution_count": 44,
   "id": "6a9cf1d6",
   "metadata": {},
   "outputs": [],
   "source": [
    "a,*b,c=l[10:100]"
   ]
  },
  {
   "cell_type": "code",
   "execution_count": 45,
   "id": "829390b8",
   "metadata": {},
   "outputs": [
    {
     "data": {
      "text/plain": [
       "10"
      ]
     },
     "execution_count": 45,
     "metadata": {},
     "output_type": "execute_result"
    }
   ],
   "source": [
    "a"
   ]
  },
  {
   "cell_type": "code",
   "execution_count": 46,
   "id": "16d5e9d3",
   "metadata": {},
   "outputs": [
    {
     "data": {
      "text/plain": [
       "[11,\n",
       " 12,\n",
       " 13,\n",
       " 14,\n",
       " 15,\n",
       " 16,\n",
       " 17,\n",
       " 18,\n",
       " 19,\n",
       " 20,\n",
       " 21,\n",
       " 22,\n",
       " 23,\n",
       " 24,\n",
       " 25,\n",
       " 26,\n",
       " 27,\n",
       " 28,\n",
       " 29,\n",
       " 30,\n",
       " 31,\n",
       " 32,\n",
       " 33,\n",
       " 34,\n",
       " 35,\n",
       " 36,\n",
       " 37,\n",
       " 38,\n",
       " 39,\n",
       " 40,\n",
       " 41,\n",
       " 42,\n",
       " 43,\n",
       " 44,\n",
       " 45,\n",
       " 46,\n",
       " 47,\n",
       " 48,\n",
       " 49,\n",
       " 50,\n",
       " 51,\n",
       " 52,\n",
       " 53,\n",
       " 54,\n",
       " 55,\n",
       " 56,\n",
       " 57,\n",
       " 58,\n",
       " 59,\n",
       " 60,\n",
       " 61,\n",
       " 62,\n",
       " 63,\n",
       " 64,\n",
       " 65,\n",
       " 66,\n",
       " 67,\n",
       " 68,\n",
       " 69,\n",
       " 70,\n",
       " 71,\n",
       " 72,\n",
       " 73,\n",
       " 74,\n",
       " 75,\n",
       " 76,\n",
       " 77,\n",
       " 78,\n",
       " 79,\n",
       " 80,\n",
       " 81,\n",
       " 82,\n",
       " 83,\n",
       " 84,\n",
       " 85,\n",
       " 86,\n",
       " 87,\n",
       " 88,\n",
       " 89,\n",
       " 90,\n",
       " 91,\n",
       " 92,\n",
       " 93,\n",
       " 94,\n",
       " 95,\n",
       " 96,\n",
       " 97,\n",
       " 98]"
      ]
     },
     "execution_count": 46,
     "metadata": {},
     "output_type": "execute_result"
    }
   ],
   "source": [
    "b"
   ]
  },
  {
   "cell_type": "code",
   "execution_count": 47,
   "id": "3b9693a4",
   "metadata": {},
   "outputs": [
    {
     "data": {
      "text/plain": [
       "99"
      ]
     },
     "execution_count": 47,
     "metadata": {},
     "output_type": "execute_result"
    }
   ],
   "source": [
    "c"
   ]
  },
  {
   "cell_type": "code",
   "execution_count": 58,
   "id": "bbd5d1c1",
   "metadata": {},
   "outputs": [
    {
     "ename": "ValueError",
     "evalue": "too many values to unpack (expected 2)",
     "output_type": "error",
     "traceback": [
      "\u001b[1;31m---------------------------------------------------------------------------\u001b[0m",
      "\u001b[1;31mValueError\u001b[0m                                Traceback (most recent call last)",
      "Input \u001b[1;32mIn [58]\u001b[0m, in \u001b[0;36m<cell line: 1>\u001b[1;34m()\u001b[0m\n\u001b[1;32m----> 1\u001b[0m (a,\u001b[38;5;241m*\u001b[39mb),(\u001b[38;5;241m*\u001b[39md,e)\u001b[38;5;241m=\u001b[39ml\n",
      "\u001b[1;31mValueError\u001b[0m: too many values to unpack (expected 2)"
     ]
    }
   ],
   "source": [
    "(a,*b),(*d,e)=l"
   ]
  },
  {
   "cell_type": "markdown",
   "id": "3ed0c709",
   "metadata": {},
   "source": [
    "# Functions "
   ]
  },
  {
   "cell_type": "markdown",
   "id": "e845d13f",
   "metadata": {},
   "source": [
    "`def function_name(list_of_arguments):\n",
    "    function_body` "
   ]
  },
  {
   "cell_type": "code",
   "execution_count": 59,
   "id": "90c23290",
   "metadata": {},
   "outputs": [],
   "source": [
    "def my_func():\n",
    "    print(\"Within the function \")\n",
    "    "
   ]
  },
  {
   "cell_type": "code",
   "execution_count": 60,
   "id": "a3e7ef28",
   "metadata": {},
   "outputs": [
    {
     "data": {
      "text/plain": [
       "<function __main__.my_func()>"
      ]
     },
     "execution_count": 60,
     "metadata": {},
     "output_type": "execute_result"
    }
   ],
   "source": [
    "my_func"
   ]
  },
  {
   "cell_type": "code",
   "execution_count": 61,
   "id": "1a76a368",
   "metadata": {},
   "outputs": [
    {
     "name": "stdout",
     "output_type": "stream",
     "text": [
      "Within the function \n"
     ]
    }
   ],
   "source": [
    "my_func()"
   ]
  },
  {
   "cell_type": "code",
   "execution_count": 62,
   "id": "53ecca17",
   "metadata": {},
   "outputs": [],
   "source": [
    "def sum_me(a,b):\n",
    "    return a+b"
   ]
  },
  {
   "cell_type": "code",
   "execution_count": 63,
   "id": "6a647b64",
   "metadata": {},
   "outputs": [
    {
     "data": {
      "text/plain": [
       "<function __main__.sum_me(a, b)>"
      ]
     },
     "execution_count": 63,
     "metadata": {},
     "output_type": "execute_result"
    }
   ],
   "source": [
    "sum_me"
   ]
  },
  {
   "cell_type": "code",
   "execution_count": 64,
   "id": "a909869e",
   "metadata": {},
   "outputs": [
    {
     "data": {
      "text/plain": [
       "5"
      ]
     },
     "execution_count": 64,
     "metadata": {},
     "output_type": "execute_result"
    }
   ],
   "source": [
    "sum_me(2,3)"
   ]
  },
  {
   "cell_type": "code",
   "execution_count": 65,
   "id": "3b11f1b2",
   "metadata": {},
   "outputs": [
    {
     "data": {
      "text/plain": [
       "'ab'"
      ]
     },
     "execution_count": 65,
     "metadata": {},
     "output_type": "execute_result"
    }
   ],
   "source": [
    "sum_me('a','b')"
   ]
  },
  {
   "cell_type": "code",
   "execution_count": 66,
   "id": "c35c4839",
   "metadata": {},
   "outputs": [
    {
     "data": {
      "text/plain": [
       "[1, 2, 3, 4]"
      ]
     },
     "execution_count": 66,
     "metadata": {},
     "output_type": "execute_result"
    }
   ],
   "source": [
    "sum_me([1,2],[3,4])"
   ]
  },
  {
   "cell_type": "code",
   "execution_count": 67,
   "id": "1397509f",
   "metadata": {},
   "outputs": [
    {
     "name": "stdout",
     "output_type": "stream",
     "text": [
      "Help on function sum_me in module __main__:\n",
      "\n",
      "sum_me(a, b)\n",
      "\n"
     ]
    }
   ],
   "source": [
    "help(sum_me)"
   ]
  },
  {
   "cell_type": "markdown",
   "id": "92d5bbae",
   "metadata": {},
   "source": [
    "# Doc-strings ( Documentation strings )"
   ]
  },
  {
   "cell_type": "code",
   "execution_count": 68,
   "id": "152db7c0",
   "metadata": {},
   "outputs": [],
   "source": [
    "def sum_me(a,b):\n",
    "    \"\"\"\n",
    "      This is a user defined function\n",
    "      >>>sum_me(2,3)\n",
    "      >>>5\n",
    "      >>>sum_me('a','b')\n",
    "      >>>'ab'\n",
    "    \"\"\"\n",
    "    return a+b"
   ]
  },
  {
   "cell_type": "code",
   "execution_count": 69,
   "id": "3eafb240",
   "metadata": {},
   "outputs": [
    {
     "data": {
      "text/plain": [
       "<function __main__.sum_me(a, b)>"
      ]
     },
     "execution_count": 69,
     "metadata": {},
     "output_type": "execute_result"
    }
   ],
   "source": [
    "sum_me"
   ]
  },
  {
   "cell_type": "code",
   "execution_count": 70,
   "id": "e1724860",
   "metadata": {},
   "outputs": [
    {
     "name": "stdout",
     "output_type": "stream",
     "text": [
      "Help on function sum_me in module __main__:\n",
      "\n",
      "sum_me(a, b)\n",
      "    This is a user defined function\n",
      "    >>>sum_me(2,3)\n",
      "    >>>5\n",
      "    >>>sum_me('a','b')\n",
      "    >>>'ab'\n",
      "\n"
     ]
    }
   ],
   "source": [
    "help(sum_me)"
   ]
  },
  {
   "cell_type": "code",
   "execution_count": 71,
   "id": "b044c767",
   "metadata": {},
   "outputs": [
    {
     "data": {
      "text/plain": [
       "\"\\n      This is a user defined function\\n      >>>sum_me(2,3)\\n      >>>5\\n      >>>sum_me('a','b')\\n      >>>'ab'\\n    \""
      ]
     },
     "execution_count": 71,
     "metadata": {},
     "output_type": "execute_result"
    }
   ],
   "source": [
    "sum_me.__doc__"
   ]
  },
  {
   "cell_type": "code",
   "execution_count": 72,
   "id": "7c4e0452",
   "metadata": {},
   "outputs": [
    {
     "data": {
      "text/plain": [
       "\"print(value, ..., sep=' ', end='\\\\n', file=sys.stdout, flush=False)\\n\\nPrints the values to a stream, or to sys.stdout by default.\\nOptional keyword arguments:\\nfile:  a file-like object (stream); defaults to the current sys.stdout.\\nsep:   string inserted between values, default a space.\\nend:   string appended after the last value, default a newline.\\nflush: whether to forcibly flush the stream.\""
      ]
     },
     "execution_count": 72,
     "metadata": {},
     "output_type": "execute_result"
    }
   ],
   "source": [
    "print.__doc__"
   ]
  },
  {
   "cell_type": "markdown",
   "id": "d6dd31a3",
   "metadata": {},
   "source": [
    "`Define a function that takes a string and returns the reverse of the string `"
   ]
  },
  {
   "cell_type": "code",
   "execution_count": 73,
   "id": "883c0969",
   "metadata": {},
   "outputs": [
    {
     "name": "stdout",
     "output_type": "stream",
     "text": [
      "rahdA\n"
     ]
    }
   ],
   "source": [
    "def revStr(str):\n",
    "    \"\"\"\n",
    "    This is a user defined string reversal function.\n",
    "    >>revStr(\"abc\")\n",
    "    >>cba\n",
    "    \"\"\"\n",
    "    return str [::-1]\n",
    "l = \"Adhar\"\n",
    "print(revStr(l))\n",
    " \n",
    " \n"
   ]
  },
  {
   "cell_type": "code",
   "execution_count": 75,
   "id": "9fe66e9b",
   "metadata": {},
   "outputs": [
    {
     "data": {
      "text/plain": [
       "'\\n    This is a user defined string reversal function.\\n    >>revStr(\"abc\")\\n    >>cba\\n    '"
      ]
     },
     "execution_count": 75,
     "metadata": {},
     "output_type": "execute_result"
    }
   ],
   "source": [
    "revStr.__doc__"
   ]
  },
  {
   "cell_type": "markdown",
   "id": "770f8caa",
   "metadata": {},
   "source": [
    "# Annotations "
   ]
  },
  {
   "cell_type": "code",
   "execution_count": 77,
   "id": "8911e7de",
   "metadata": {},
   "outputs": [],
   "source": [
    "def my_func(a:int,b:int)->'sum of a and b':\n",
    "    \"\"\"\n",
    "    >>>my_func(2,3)\n",
    "    >>>5\n",
    "    \"\"\"\n",
    "    if type(a)==int and type(b)==int:\n",
    "        return a+b \n",
    "    else:\n",
    "        return 'Read the documenation'"
   ]
  },
  {
   "cell_type": "code",
   "execution_count": 78,
   "id": "8e487a52",
   "metadata": {},
   "outputs": [
    {
     "data": {
      "text/plain": [
       "<function __main__.my_func(a: int, b: int) -> 'sum of a and b'>"
      ]
     },
     "execution_count": 78,
     "metadata": {},
     "output_type": "execute_result"
    }
   ],
   "source": [
    "my_func"
   ]
  },
  {
   "cell_type": "code",
   "execution_count": 79,
   "id": "0024cc0e",
   "metadata": {},
   "outputs": [
    {
     "name": "stdout",
     "output_type": "stream",
     "text": [
      "Help on function my_func in module __main__:\n",
      "\n",
      "my_func(a: int, b: int) -> 'sum of a and b'\n",
      "    >>>my_func(2,3)\n",
      "    >>>5\n",
      "\n"
     ]
    }
   ],
   "source": [
    "help(my_func)"
   ]
  },
  {
   "cell_type": "code",
   "execution_count": 80,
   "id": "efb110ec",
   "metadata": {},
   "outputs": [
    {
     "data": {
      "text/plain": [
       "5"
      ]
     },
     "execution_count": 80,
     "metadata": {},
     "output_type": "execute_result"
    }
   ],
   "source": [
    "my_func(2,3)"
   ]
  },
  {
   "cell_type": "code",
   "execution_count": 81,
   "id": "e8d22c43",
   "metadata": {},
   "outputs": [
    {
     "data": {
      "text/plain": [
       "'Read the documenation'"
      ]
     },
     "execution_count": 81,
     "metadata": {},
     "output_type": "execute_result"
    }
   ],
   "source": [
    "my_func('a','b')"
   ]
  },
  {
   "cell_type": "code",
   "execution_count": 82,
   "id": "c6c0b4f5",
   "metadata": {},
   "outputs": [
    {
     "data": {
      "text/plain": [
       "{'a': int, 'b': int, 'return': 'sum of a and b'}"
      ]
     },
     "execution_count": 82,
     "metadata": {},
     "output_type": "execute_result"
    }
   ],
   "source": [
    "my_func.__annotations__"
   ]
  },
  {
   "cell_type": "code",
   "execution_count": 83,
   "id": "abc74db5",
   "metadata": {},
   "outputs": [
    {
     "name": "stdout",
     "output_type": "stream",
     "text": [
      "['__annotations__', '__builtins__', '__call__', '__class__', '__closure__', '__code__', '__defaults__', '__delattr__', '__dict__', '__dir__', '__doc__', '__eq__', '__format__', '__ge__', '__get__', '__getattribute__', '__globals__', '__gt__', '__hash__', '__init__', '__init_subclass__', '__kwdefaults__', '__le__', '__lt__', '__module__', '__name__', '__ne__', '__new__', '__qualname__', '__reduce__', '__reduce_ex__', '__repr__', '__setattr__', '__sizeof__', '__str__', '__subclasshook__']\n"
     ]
    }
   ],
   "source": [
    "print(dir(my_func))"
   ]
  },
  {
   "cell_type": "markdown",
   "id": "1fff35c0",
   "metadata": {},
   "source": [
    "`write a function that accepts a list of numbers, and puts the numbers in two different list depending on \n",
    "whether they are even or odd `"
   ]
  },
  {
   "cell_type": "code",
   "execution_count": 84,
   "id": "49fc4018",
   "metadata": {},
   "outputs": [
    {
     "name": "stdout",
     "output_type": "stream",
     "text": [
      "2 < 3 = True\n"
     ]
    }
   ],
   "source": [
    "a,c=2,3\n",
    "if a<c:\n",
    "    print('{} < {} = True'.format(a,c))\n",
    "else:\n",
    "    print('{} < {} = False'.format(a,c))\n",
    "    \n",
    "    "
   ]
  },
  {
   "cell_type": "code",
   "execution_count": 88,
   "id": "4c038a06",
   "metadata": {},
   "outputs": [
    {
     "name": "stdout",
     "output_type": "stream",
     "text": [
      "rahul\n"
     ]
    }
   ],
   "source": [
    "if -20:\n",
    "    print(\"rahul\")\n",
    "else:\n",
    "    print(\"somani\")"
   ]
  },
  {
   "cell_type": "code",
   "execution_count": 89,
   "id": "1b156eaf",
   "metadata": {},
   "outputs": [
    {
     "name": "stdout",
     "output_type": "stream",
     "text": [
      "The biggest number is a\n"
     ]
    }
   ],
   "source": [
    "a=30\n",
    "b = 15 \n",
    "c = 20 \n",
    "if a>b and a>c:\n",
    "    print('The biggest number is a')\n",
    "else:\n",
    "    print(\"a is not the biggest number\")\n",
    "    "
   ]
  },
  {
   "cell_type": "markdown",
   "id": "59ed22e6",
   "metadata": {},
   "source": [
    "if condition:\n",
    "    code1\n",
    "elif conditon:\n",
    "    code 2\n",
    "elif condition:\n",
    "    code 3\n",
    "else:\n",
    "    code 4 \n",
    "    "
   ]
  },
  {
   "cell_type": "code",
   "execution_count": 90,
   "id": "f9bc021a",
   "metadata": {},
   "outputs": [
    {
     "name": "stdout",
     "output_type": "stream",
     "text": [
      "even list:  [4, 6, 8]\n",
      "odd list:  [5, 7, 9]\n"
     ]
    }
   ],
   "source": [
    "# gokul's code \n",
    "def func(l):\n",
    "    '''\n",
    "    It takes a list as input and separates the odd and even values and returns as two separate lists\n",
    "    '''\n",
    "    le=[i for i in l if i%2==0]\n",
    "    lo=[i for i in l if i%2!=0]\n",
    "    \n",
    "    print(\"even list: \", le)\n",
    "    print(\"odd list: \", lo)\n",
    "l1=[4,5,6,7,8,9]\n",
    "func(l1)\n",
    "\n"
   ]
  },
  {
   "cell_type": "code",
   "execution_count": 91,
   "id": "94f26c7c",
   "metadata": {},
   "outputs": [
    {
     "name": "stdout",
     "output_type": "stream",
     "text": [
      "<class 'list'>\n",
      "Even List: [2, 4, 6, 8, 0] and odd string [1, 3, 5, 7, 9]\n",
      "([1, 3, 5, 7, 9], [2, 4, 6, 8, 0])\n"
     ]
    }
   ],
   "source": [
    "def distributor(l):\n",
    "    \"\"\"\n",
    "    This is a user defined function that distributes the input list to even and odd lists.\n",
    "    >>distributor([1,2,3,4])\n",
    "    >>[1,3],[2,4]\n",
    "    \"\"\"\n",
    "    lo = []\n",
    "    le = []\n",
    "    print(type(l))\n",
    "    if type(l) == list :\n",
    "        for i in l:\n",
    "            if(i%2 == 0):\n",
    "                le.append(i)\n",
    "            else:\n",
    "                lo.append(i)\n",
    "        print(f\"Even List: {le} and odd string {lo}\")\n",
    "        return lo,le;\n",
    "    else:\n",
    "        return \"Read the documentation\"\n",
    "l = [1,2,3,4,5,6,7,8,9,0]\n",
    "x = distributor(l)\n",
    "print(f\"{x}\")"
   ]
  },
  {
   "cell_type": "code",
   "execution_count": 92,
   "id": "0908ab82",
   "metadata": {},
   "outputs": [],
   "source": [
    "l1 = [1,2,3]\n",
    "l2 = [5,6,7]\n",
    "l = [*l1,*l2]"
   ]
  },
  {
   "cell_type": "code",
   "execution_count": 93,
   "id": "f743688b",
   "metadata": {},
   "outputs": [
    {
     "data": {
      "text/plain": [
       "[1, 2, 3, 5, 6, 7]"
      ]
     },
     "execution_count": 93,
     "metadata": {},
     "output_type": "execute_result"
    }
   ],
   "source": [
    "l"
   ]
  },
  {
   "cell_type": "code",
   "execution_count": 94,
   "id": "ff8653a7",
   "metadata": {},
   "outputs": [],
   "source": [
    "d1 = {'r':1,'a':2}\n",
    "d2 = {'h':3,'u':4,'l':5}\n",
    "mylist = [*d1,*d2]"
   ]
  },
  {
   "cell_type": "code",
   "execution_count": 95,
   "id": "414137cc",
   "metadata": {},
   "outputs": [
    {
     "data": {
      "text/plain": [
       "['r', 'a', 'h', 'u', 'l']"
      ]
     },
     "execution_count": 95,
     "metadata": {},
     "output_type": "execute_result"
    }
   ],
   "source": [
    "mylist"
   ]
  },
  {
   "cell_type": "code",
   "execution_count": 96,
   "id": "d7ec1b07",
   "metadata": {},
   "outputs": [],
   "source": [
    "def my_func(*args):\n",
    "    '''\n",
    "    An example of variable number of positional arguments\n",
    "    args is just a name. you can use whatever name you wish\n",
    "    '''\n",
    "    print(len(args))\n",
    "    print(args)\n",
    "    print(sum(args))"
   ]
  },
  {
   "cell_type": "code",
   "execution_count": 97,
   "id": "e1c578b7",
   "metadata": {},
   "outputs": [
    {
     "data": {
      "text/plain": [
       "<function __main__.my_func(*args)>"
      ]
     },
     "execution_count": 97,
     "metadata": {},
     "output_type": "execute_result"
    }
   ],
   "source": [
    "my_func"
   ]
  },
  {
   "cell_type": "code",
   "execution_count": 98,
   "id": "d4ee30fb",
   "metadata": {},
   "outputs": [
    {
     "name": "stdout",
     "output_type": "stream",
     "text": [
      "Help on function my_func in module __main__:\n",
      "\n",
      "my_func(*args)\n",
      "    An example of variable number of positional arguments\n",
      "    args is just a name. you can use whatever name you wish\n",
      "\n"
     ]
    }
   ],
   "source": [
    "help(my_func)"
   ]
  },
  {
   "cell_type": "code",
   "execution_count": 99,
   "id": "bf9563a5",
   "metadata": {},
   "outputs": [
    {
     "name": "stdout",
     "output_type": "stream",
     "text": [
      "9\n",
      "(1, 2, 3, 4, 5, 6, 6, 7, 8)\n",
      "42\n"
     ]
    }
   ],
   "source": [
    "my_func(1,2,3,4,5,6,6,7,8)"
   ]
  },
  {
   "cell_type": "code",
   "execution_count": 101,
   "id": "20ca595e",
   "metadata": {},
   "outputs": [
    {
     "name": "stdout",
     "output_type": "stream",
     "text": [
      "1 2 3 4 5 6\n"
     ]
    }
   ],
   "source": [
    "a,b,c,d,e,f=1,2,3,4,5,6\n",
    "print(a,b,c,d,e,f)"
   ]
  },
  {
   "cell_type": "markdown",
   "id": "2653f08a",
   "metadata": {},
   "source": [
    "# keyword only arguments"
   ]
  },
  {
   "cell_type": "code",
   "execution_count": 103,
   "id": "4580a954",
   "metadata": {},
   "outputs": [],
   "source": [
    "def my_func(a=2,b=3,c=4):\n",
    "    return a+b+c"
   ]
  },
  {
   "cell_type": "code",
   "execution_count": 104,
   "id": "f7600799",
   "metadata": {},
   "outputs": [
    {
     "data": {
      "text/plain": [
       "9"
      ]
     },
     "execution_count": 104,
     "metadata": {},
     "output_type": "execute_result"
    }
   ],
   "source": [
    "my_func()"
   ]
  },
  {
   "cell_type": "code",
   "execution_count": 105,
   "id": "d6233644",
   "metadata": {},
   "outputs": [
    {
     "data": {
      "text/plain": [
       "12"
      ]
     },
     "execution_count": 105,
     "metadata": {},
     "output_type": "execute_result"
    }
   ],
   "source": [
    "my_func(a=5)"
   ]
  },
  {
   "cell_type": "code",
   "execution_count": 106,
   "id": "5c37608a",
   "metadata": {},
   "outputs": [
    {
     "data": {
      "text/plain": [
       "109"
      ]
     },
     "execution_count": 106,
     "metadata": {},
     "output_type": "execute_result"
    }
   ],
   "source": [
    "my_func(a=5,b=100)"
   ]
  },
  {
   "cell_type": "code",
   "execution_count": 107,
   "id": "7c5fa093",
   "metadata": {},
   "outputs": [
    {
     "data": {
      "text/plain": [
       "3"
      ]
     },
     "execution_count": 107,
     "metadata": {},
     "output_type": "execute_result"
    }
   ],
   "source": [
    "my_func(a=1,b=1,c=1)"
   ]
  },
  {
   "cell_type": "code",
   "execution_count": 120,
   "id": "229dcd73",
   "metadata": {},
   "outputs": [],
   "source": [
    "def my_func(*args,**kwargs):\n",
    "    \"\"\"\n",
    "      variable number of positional arguments\n",
    "      variable number of keyword only arguments\n",
    "    \"\"\"\n",
    "    print(args)\n",
    "    print(kwargs)\n",
    "    print(*kwargs) "
   ]
  },
  {
   "cell_type": "code",
   "execution_count": 115,
   "id": "3db39a8b",
   "metadata": {},
   "outputs": [
    {
     "name": "stdout",
     "output_type": "stream",
     "text": [
      "(1, 2, 3)\n",
      "{'name': 'rahul', 'age': 42}\n",
      "name age\n"
     ]
    }
   ],
   "source": [
    "my_func(1,2,3,name='rahul',age=42)"
   ]
  },
  {
   "cell_type": "code",
   "execution_count": 121,
   "id": "7e46edb2",
   "metadata": {},
   "outputs": [
    {
     "name": "stdout",
     "output_type": "stream",
     "text": [
      "()\n",
      "{'name': 'gopala'}\n",
      "name\n"
     ]
    }
   ],
   "source": [
    "my_func(name='gopala')"
   ]
  },
  {
   "cell_type": "code",
   "execution_count": 116,
   "id": "1ea00192",
   "metadata": {},
   "outputs": [],
   "source": [
    "def my_func(fn,*args):\n",
    "    fn(*args)"
   ]
  },
  {
   "cell_type": "code",
   "execution_count": 117,
   "id": "2a604a6e",
   "metadata": {},
   "outputs": [
    {
     "name": "stdout",
     "output_type": "stream",
     "text": [
      "1 2 3\n"
     ]
    }
   ],
   "source": [
    "my_func(print,1,2,3)"
   ]
  },
  {
   "cell_type": "code",
   "execution_count": 124,
   "id": "fc681f81",
   "metadata": {},
   "outputs": [
    {
     "name": "stdout",
     "output_type": "stream",
     "text": [
      "['PATNA', 'BANGALORE', 'MUMBAI', 'CHENNAI']\n"
     ]
    }
   ],
   "source": [
    "l = ['patna','bangalore','mumbai','chennai']\n",
    "u= []\n",
    "for items in l:\n",
    "    item=items.upper()\n",
    "    u.append(item)\n",
    "print(u)"
   ]
  },
  {
   "cell_type": "markdown",
   "id": "5ceca0e8",
   "metadata": {},
   "source": [
    "# Higher Order Function \n",
    "\n",
    "- Functions that take functions as its argument\n",
    "- Functions that may return functions "
   ]
  },
  {
   "cell_type": "code",
   "execution_count": 125,
   "id": "b9a68ac0",
   "metadata": {},
   "outputs": [
    {
     "data": {
      "text/plain": [
       "[(1, 5), (2, 6), (3, 7), (4, 8)]"
      ]
     },
     "execution_count": 125,
     "metadata": {},
     "output_type": "execute_result"
    }
   ],
   "source": [
    "l1 = [1,2,3,4]\n",
    "l2 = [5,6,7,8]\n",
    "list(zip(l1,l2))\n"
   ]
  },
  {
   "cell_type": "code",
   "execution_count": 127,
   "id": "e3429468",
   "metadata": {},
   "outputs": [
    {
     "data": {
      "text/plain": [
       "[(1, 5, 'r'), (2, 6, 'a'), (3, 7, 'h')]"
      ]
     },
     "execution_count": 127,
     "metadata": {},
     "output_type": "execute_result"
    }
   ],
   "source": [
    "l1 = [1,2,3,4]\n",
    "l2 = [5,6,7]\n",
    "l3 = 'rahul'\n",
    "list(zip(l1,l2,l3))\n"
   ]
  },
  {
   "cell_type": "code",
   "execution_count": 128,
   "id": "782964f4",
   "metadata": {},
   "outputs": [
    {
     "data": {
      "text/plain": [
       "((1, 5, 'r'), (2, 6, 'a'), (3, 7, 'h'))"
      ]
     },
     "execution_count": 128,
     "metadata": {},
     "output_type": "execute_result"
    }
   ],
   "source": [
    "l1 = [1,2,3,4]\n",
    "l2 = [5,6,7]\n",
    "l3 = 'rahul'\n",
    "tuple(zip(l1,l2,l3))\n"
   ]
  },
  {
   "cell_type": "code",
   "execution_count": 129,
   "id": "5495ce13",
   "metadata": {},
   "outputs": [
    {
     "data": {
      "text/plain": [
       "{(1, 5, 'r'), (2, 6, 'a'), (3, 7, 'h')}"
      ]
     },
     "execution_count": 129,
     "metadata": {},
     "output_type": "execute_result"
    }
   ],
   "source": [
    "l1 = [1,2,3,4]\n",
    "l2 = [5,6,7]\n",
    "l3 = 'rahul'\n",
    "set(zip(l1,l2,l3))\n"
   ]
  },
  {
   "cell_type": "code",
   "execution_count": 133,
   "id": "e795596e",
   "metadata": {},
   "outputs": [
    {
     "data": {
      "text/plain": [
       "[(100, 500, 800)]"
      ]
     },
     "execution_count": 133,
     "metadata": {},
     "output_type": "execute_result"
    }
   ],
   "source": [
    "list(zip([100,200,300],[500,600],(800,),strict=False))"
   ]
  },
  {
   "cell_type": "code",
   "execution_count": 131,
   "id": "ff68bba7",
   "metadata": {},
   "outputs": [
    {
     "name": "stdout",
     "output_type": "stream",
     "text": [
      "Help on class zip in module builtins:\n",
      "\n",
      "class zip(object)\n",
      " |  zip(*iterables, strict=False) --> Yield tuples until an input is exhausted.\n",
      " |  \n",
      " |     >>> list(zip('abcdefg', range(3), range(4)))\n",
      " |     [('a', 0, 0), ('b', 1, 1), ('c', 2, 2)]\n",
      " |  \n",
      " |  The zip object yields n-length tuples, where n is the number of iterables\n",
      " |  passed as positional arguments to zip().  The i-th element in every tuple\n",
      " |  comes from the i-th iterable argument to zip().  This continues until the\n",
      " |  shortest argument is exhausted.\n",
      " |  \n",
      " |  If strict is true and one of the arguments is exhausted before the others,\n",
      " |  raise a ValueError.\n",
      " |  \n",
      " |  Methods defined here:\n",
      " |  \n",
      " |  __getattribute__(self, name, /)\n",
      " |      Return getattr(self, name).\n",
      " |  \n",
      " |  __iter__(self, /)\n",
      " |      Implement iter(self).\n",
      " |  \n",
      " |  __next__(self, /)\n",
      " |      Implement next(self).\n",
      " |  \n",
      " |  __reduce__(...)\n",
      " |      Return state information for pickling.\n",
      " |  \n",
      " |  __setstate__(...)\n",
      " |      Set state information for unpickling.\n",
      " |  \n",
      " |  ----------------------------------------------------------------------\n",
      " |  Static methods defined here:\n",
      " |  \n",
      " |  __new__(*args, **kwargs) from builtins.type\n",
      " |      Create and return a new object.  See help(type) for accurate signature.\n",
      "\n"
     ]
    }
   ],
   "source": [
    "help(zip)"
   ]
  },
  {
   "cell_type": "code",
   "execution_count": null,
   "id": "9efd47d4",
   "metadata": {},
   "outputs": [],
   "source": []
  }
 ],
 "metadata": {
  "kernelspec": {
   "display_name": "Python 3 (ipykernel)",
   "language": "python",
   "name": "python3"
  },
  "language_info": {
   "codemirror_mode": {
    "name": "ipython",
    "version": 3
   },
   "file_extension": ".py",
   "mimetype": "text/x-python",
   "name": "python",
   "nbconvert_exporter": "python",
   "pygments_lexer": "ipython3",
   "version": "3.10.6"
  }
 },
 "nbformat": 4,
 "nbformat_minor": 5
}
